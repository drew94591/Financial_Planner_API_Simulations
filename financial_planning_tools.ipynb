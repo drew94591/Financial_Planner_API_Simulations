{
 "cells": [
  {
   "cell_type": "markdown",
   "metadata": {},
   "source": [
    "# Financial Planning with APIs and Simulations\n",
    "\n",
    "In this Challenge, you’ll create two financial analysis tools by using a single Jupyter notebook:\n",
    "\n",
    "Part 1: A financial planner for emergencies. The members will be able to use this tool to visualize their current savings. The members can then determine if they have enough reserves for an emergency fund.\n",
    "\n",
    "Part 2: A financial planner for retirement. This tool will forecast the performance of their retirement portfolio in 30 years. To do this, the tool will make an Alpaca API call via the Alpaca SDK to get historical price data for use in Monte Carlo simulations.\n",
    "\n",
    "You’ll use the information from the Monte Carlo simulation to answer questions about the portfolio in your Jupyter notebook.\n",
    "\n"
   ]
  },
  {
   "cell_type": "code",
   "execution_count": 1,
   "metadata": {},
   "outputs": [],
   "source": [
    "# Import the required libraries and dependencies\n",
    "import os\n",
    "import requests\n",
    "import json\n",
    "import pandas as pd\n",
    "from dotenv import load_dotenv\n",
    "import alpaca_trade_api as tradeapi\n",
    "from MCForecastTools import MCSimulation\n",
    "\n",
    "%matplotlib inline"
   ]
  },
  {
   "cell_type": "code",
   "execution_count": 2,
   "metadata": {},
   "outputs": [
    {
     "name": "stderr",
     "output_type": "stream",
     "text": [
      "Python-dotenv could not parse statement starting at line 1\n"
     ]
    },
    {
     "data": {
      "text/plain": [
       "True"
      ]
     },
     "execution_count": 2,
     "metadata": {},
     "output_type": "execute_result"
    }
   ],
   "source": [
    "# Load the environment variables from the .env file\n",
    "#by calling the load_dotenv function\n",
    "load_dotenv()"
   ]
  },
  {
   "cell_type": "markdown",
   "metadata": {},
   "source": [
    "## Part 1: Create a Financial Planner for Emergencies"
   ]
  },
  {
   "cell_type": "markdown",
   "metadata": {},
   "source": [
    "### Evaluate the Cryptocurrency Wallet by Using the Requests Library\n",
    "\n",
    "In this section, you’ll determine the current value of a member’s cryptocurrency wallet. You’ll collect the current prices for the Bitcoin and Ethereum cryptocurrencies by using the Python Requests library. For the prototype, you’ll assume that the member holds the 1.2 Bitcoins (BTC) and 5.3 Ethereum coins (ETH). To do all this, complete the following steps:\n",
    "\n",
    "1. Create a variable named `monthly_income`, and set its value to `12000`.\n",
    "\n",
    "2. Use the Requests library to get the current price (in US dollars) of Bitcoin (BTC) and Ethereum (ETH) by using the API endpoints that the starter code supplies.\n",
    "\n",
    "3. Navigate the JSON response object to access the current price of each coin, and store each in a variable.\n",
    "\n",
    "    > **Hint** Note the specific identifier for each cryptocurrency in the API JSON response. The Bitcoin identifier is `1`, and the Ethereum identifier is `1027`.\n",
    "\n",
    "4. Calculate the value, in US dollars, of the current amount of each cryptocurrency and of the entire cryptocurrency wallet.\n",
    "\n"
   ]
  },
  {
   "cell_type": "code",
   "execution_count": 3,
   "metadata": {},
   "outputs": [],
   "source": [
    "# The current number of coins for each cryptocurrency asset held in the portfolio.\n",
    "btc_coins = 1.2\n",
    "eth_coins = 5.3"
   ]
  },
  {
   "cell_type": "markdown",
   "metadata": {},
   "source": [
    "#### Step 1: Create a variable named `monthly_income`, and set its value to `12000`."
   ]
  },
  {
   "cell_type": "code",
   "execution_count": 4,
   "metadata": {},
   "outputs": [],
   "source": [
    "# The monthly amount for the member's household income\n",
    "monthly_income = 12000"
   ]
  },
  {
   "cell_type": "markdown",
   "metadata": {},
   "source": [
    "#### Review the endpoint URLs for the API calls to Free Crypto API in order to get the current pricing information for both BTC and ETH."
   ]
  },
  {
   "cell_type": "code",
   "execution_count": 5,
   "metadata": {},
   "outputs": [],
   "source": [
    "# The Free Crypto API Call endpoint URLs for the held cryptocurrency assets\n",
    "btc_url = \"https://api.alternative.me/v2/ticker/Bitcoin/?convert=USD\"\n",
    "eth_url = \"https://api.alternative.me/v2/ticker/Ethereum/?convert=USD\""
   ]
  },
  {
   "cell_type": "markdown",
   "metadata": {},
   "source": [
    "#### Step 2. Use the Requests library to get the current price (in US dollars) of Bitcoin (BTC) and Ethereum (ETH) by using the API endpoints that the starter code supplied."
   ]
  },
  {
   "cell_type": "code",
   "execution_count": 6,
   "metadata": {},
   "outputs": [
    {
     "name": "stdout",
     "output_type": "stream",
     "text": [
      "{\n",
      "    \"data\": {\n",
      "        \"1\": {\n",
      "            \"circulating_supply\": 19093668,\n",
      "            \"id\": 1,\n",
      "            \"last_updated\": 1657832900,\n",
      "            \"max_supply\": 21000000,\n",
      "            \"name\": \"Bitcoin\",\n",
      "            \"quotes\": {\n",
      "                \"USD\": {\n",
      "                    \"market_cap\": 394271259687,\n",
      "                    \"percent_change_1h\": 0.672651045065374,\n",
      "                    \"percent_change_24h\": 4.80576920433593,\n",
      "                    \"percent_change_7d\": 0.638415124586854,\n",
      "                    \"percentage_change_1h\": 0.672651045065374,\n",
      "                    \"percentage_change_24h\": 4.80576920433593,\n",
      "                    \"percentage_change_7d\": 0.638415124586854,\n",
      "                    \"price\": 20698.0,\n",
      "                    \"volume_24h\": 29042765990\n",
      "                }\n",
      "            },\n",
      "            \"rank\": 1,\n",
      "            \"symbol\": \"BTC\",\n",
      "            \"total_supply\": 19093668,\n",
      "            \"website_slug\": \"bitcoin\"\n",
      "        }\n",
      "    },\n",
      "    \"metadata\": {\n",
      "        \"error\": null,\n",
      "        \"num_cryptocurrencies\": 3116,\n",
      "        \"timestamp\": 1657832900\n",
      "    }\n",
      "}\n"
     ]
    }
   ],
   "source": [
    "# Using the Python requests library, make an API call to access the current price of BTC\n",
    "btc_response = requests.get(btc_url).json()\n",
    "\n",
    "# Use the json.dumps function to review the response data from the API call\n",
    "# Use the indent and sort_keys parameters to make the response object readable\n",
    "print(json.dumps(btc_response, indent=4, sort_keys=True))"
   ]
  },
  {
   "cell_type": "code",
   "execution_count": 7,
   "metadata": {},
   "outputs": [
    {
     "name": "stdout",
     "output_type": "stream",
     "text": [
      "{\n",
      "    \"data\": {\n",
      "        \"1027\": {\n",
      "            \"circulating_supply\": 119681852,\n",
      "            \"id\": 1027,\n",
      "            \"last_updated\": 1657832912,\n",
      "            \"max_supply\": 119681852,\n",
      "            \"name\": \"Ethereum\",\n",
      "            \"quotes\": {\n",
      "                \"USD\": {\n",
      "                    \"market_cap\": 142898077254,\n",
      "                    \"percent_change_1h\": 0.505905817820821,\n",
      "                    \"percent_change_24h\": 10.8564799493045,\n",
      "                    \"percent_change_7d\": 0.584643269486348,\n",
      "                    \"percentage_change_1h\": 0.505905817820821,\n",
      "                    \"percentage_change_24h\": 10.8564799493045,\n",
      "                    \"percentage_change_7d\": 0.584643269486348,\n",
      "                    \"price\": 1195.68,\n",
      "                    \"volume_24h\": 16894465914\n",
      "                }\n",
      "            },\n",
      "            \"rank\": 2,\n",
      "            \"symbol\": \"ETH\",\n",
      "            \"total_supply\": 119681852,\n",
      "            \"website_slug\": \"ethereum\"\n",
      "        }\n",
      "    },\n",
      "    \"metadata\": {\n",
      "        \"error\": null,\n",
      "        \"num_cryptocurrencies\": 3116,\n",
      "        \"timestamp\": 1657832912\n",
      "    }\n",
      "}\n"
     ]
    }
   ],
   "source": [
    "# Using the Python requests library, make an API call to access the current price ETH\n",
    "eth_response = requests.get(eth_url).json()\n",
    "\n",
    "# Use the json.dumps function to review the response data from the API call\n",
    "# Use the indent and sort_keys parameters to make the response object readable\n",
    "print(json.dumps(eth_response, indent=4, sort_keys=True))"
   ]
  },
  {
   "cell_type": "markdown",
   "metadata": {},
   "source": [
    "#### Step 3: Navigate the JSON response object to access the current price of each coin, and store each in a variable."
   ]
  },
  {
   "cell_type": "code",
   "execution_count": 8,
   "metadata": {},
   "outputs": [
    {
     "name": "stdout",
     "output_type": "stream",
     "text": [
      "The current price of BTC is $20698.0.\n"
     ]
    }
   ],
   "source": [
    "# Navigate the BTC response object to access the current price of BTC\n",
    "btc_price = btc_response[\"data\"][\"1\"][\"quotes\"][\"USD\"][\"price\"]\n",
    "\n",
    "# Print the current price of BTC\n",
    "print(f\"The current price of BTC is ${round(btc_price, 2)}.\")"
   ]
  },
  {
   "cell_type": "code",
   "execution_count": 9,
   "metadata": {},
   "outputs": [
    {
     "name": "stdout",
     "output_type": "stream",
     "text": [
      "The current price of ETH is $1195.68.\n"
     ]
    }
   ],
   "source": [
    "# Navigate the BTC response object to access the current price of ETH\n",
    "eth_price = eth_response[\"data\"][\"1027\"][\"quotes\"][\"USD\"][\"price\"]\n",
    "\n",
    "# Print the current price of ETH\n",
    "print(f\"The current price of ETH is ${round(eth_price, 2)}.\")"
   ]
  },
  {
   "cell_type": "markdown",
   "metadata": {},
   "source": [
    "### Step 4: Calculate the value, in US dollars, of the current amount of each cryptocurrency and of the entire cryptocurrency wallet."
   ]
  },
  {
   "cell_type": "code",
   "execution_count": 10,
   "metadata": {},
   "outputs": [
    {
     "name": "stdout",
     "output_type": "stream",
     "text": [
      "The current value of BTC holding is $24837.6.\n"
     ]
    }
   ],
   "source": [
    "# Compute the current value of the BTC holding \n",
    "btc_value = btc_price * btc_coins\n",
    "\n",
    "# Print current value of your holding in BTC\n",
    "print(f\"The current value of BTC holding is ${round(btc_value, 2)}.\")"
   ]
  },
  {
   "cell_type": "code",
   "execution_count": 11,
   "metadata": {},
   "outputs": [
    {
     "name": "stdout",
     "output_type": "stream",
     "text": [
      "The current value of ETH holding is $6337.1.\n"
     ]
    }
   ],
   "source": [
    "# Compute the current value of the ETH holding \n",
    "eth_value = eth_price * eth_coins\n",
    "\n",
    "# Print current value of your holding in ETH\n",
    "print(f\"The current value of ETH holding is ${round(eth_value, 2)}.\")"
   ]
  },
  {
   "cell_type": "code",
   "execution_count": 12,
   "metadata": {},
   "outputs": [
    {
     "name": "stdout",
     "output_type": "stream",
     "text": [
      "The current cryptocurrency wallet balance is $31174.7.\n"
     ]
    }
   ],
   "source": [
    "# Compute the total value of the cryptocurrency wallet\n",
    "# Add the value of the BTC holding to the value of the ETH holding\n",
    "total_crypto_wallet = btc_value + eth_value\n",
    "\n",
    "# Print current cryptocurrency wallet balance\n",
    "print(f\"The current cryptocurrency wallet balance is ${round(total_crypto_wallet, 2)}.\")"
   ]
  },
  {
   "cell_type": "markdown",
   "metadata": {},
   "source": [
    "### Evaluate the Stock and Bond Holdings by Using the Alpaca SDK\n",
    "\n",
    "In this section, you’ll determine the current value of a member’s stock and bond holdings. You’ll make an API call to Alpaca via the Alpaca SDK to get the current closing prices of the SPDR S&P 500 ETF Trust (ticker: SPY) and of the iShares Core US Aggregate Bond ETF (ticker: AGG). For the prototype, assume that the member holds 110 shares of SPY, which represents the stock portion of their portfolio, and 200 shares of AGG, which represents the bond portion. To do all this, complete the following steps:\n",
    "\n",
    "1. In the `Starter_Code` folder, create an environment file (`.env`) to store the values of your Alpaca API key and Alpaca secret key.\n",
    "\n",
    "2. Set the variables for the Alpaca API and secret keys. Using the Alpaca SDK, create the Alpaca `tradeapi.REST` object. In this object, include the parameters for the Alpaca API key, the secret key, and the version number.\n",
    "\n",
    "3. Set the following parameters for the Alpaca API call:\n",
    "\n",
    "    - `tickers`: Use the tickers for the member’s stock and bond holdings.\n",
    "\n",
    "    - `timeframe`: Use a time frame of one day.\n",
    "\n",
    "    - `start_date` and `end_date`: Use the same date for these parameters, and format them with the date of the previous weekday (or `2020-08-07`). This is because you want the one closing price for the most-recent trading day.\n",
    "\n",
    "4. Get the current closing prices for `SPY` and `AGG` by using the Alpaca `get_bars` function. Format the response as a Pandas DataFrame by including the `df` property at the end of the `get_bars` function.\n",
    "\n",
    "5. Navigating the Alpaca response DataFrame, select the `SPY` and `AGG` closing prices, and store them as variables.\n",
    "\n",
    "6. Calculate the value, in US dollars, of the current amount of shares in each of the stock and bond portions of the portfolio, and print the results.\n"
   ]
  },
  {
   "cell_type": "markdown",
   "metadata": {},
   "source": [
    "#### Review the total number of shares held in both (SPY) and (AGG)."
   ]
  },
  {
   "cell_type": "code",
   "execution_count": 13,
   "metadata": {},
   "outputs": [],
   "source": [
    "# Current amount of shares held in both the stock (SPY) and bond (AGG) portion of the portfolio.\n",
    "spy_shares = 110\n",
    "agg_shares = 200"
   ]
  },
  {
   "cell_type": "markdown",
   "metadata": {},
   "source": [
    "#### Step 1: In the `Starter_Code` folder, create an environment file (`.env`) to store the values of your Alpaca API key and Alpaca secret key."
   ]
  },
  {
   "cell_type": "markdown",
   "metadata": {},
   "source": [
    "#### Step 2: Set the variables for the Alpaca API and secret keys. Using the Alpaca SDK, create the Alpaca `tradeapi.REST` object. In this object, include the parameters for the Alpaca API key, the secret key, and the version number."
   ]
  },
  {
   "cell_type": "code",
   "execution_count": 14,
   "metadata": {},
   "outputs": [],
   "source": [
    "# Set the variables for the Alpaca API and secret keys\n",
    "alpaca_api_key = os.getenv(\"ALPACA_API_KEY\")\n",
    "alpaca_secret_key = os.getenv(\"ALPACA_SECRET_KEY\")\n",
    "\n",
    "# Create the Alpaca tradeapi.REST object\n",
    "alpaca = tradeapi.REST(alpaca_api_key,\n",
    "                       alpaca_secret_key,\n",
    "                       api_version = \"v2\")"
   ]
  },
  {
   "cell_type": "markdown",
   "metadata": {},
   "source": [
    "#### Step 3: Set the following parameters for the Alpaca API call:\n",
    "\n",
    "- `tickers`: Use the tickers for the member’s stock and bond holdings.\n",
    "\n",
    "- `timeframe`: Use a time frame of one day.\n",
    "\n",
    "- `start_date` and `end_date`: Use the same date for these parameters, and format them with the date of the previous weekday (or `2020-08-07`). This is because you want the one closing price for the most-recent trading day.\n"
   ]
  },
  {
   "cell_type": "code",
   "execution_count": 15,
   "metadata": {},
   "outputs": [],
   "source": [
    "# Set the tickers for both the bond and stock portion of the portfolio\n",
    "tickers = [\"SPY\", \"AGG\"]\n",
    "\n",
    "# Set timeframe to 1Day\n",
    "timeframe = \"1D\"\n",
    "\n",
    "# Format current date as ISO format\n",
    "# Set both the start and end date at the date of your prior weekday \n",
    "# This will give you the closing price of the previous trading day\n",
    "# Alternatively you can use a start and end date of 2020-08-07\n",
    "start_date = pd.Timestamp(\"2020-08-07\", tz=\"America/New_York\").isoformat()\n",
    "end_date = pd.Timestamp(\"2020-08-07\", tz=\"America/New_York\").isoformat()"
   ]
  },
  {
   "cell_type": "markdown",
   "metadata": {},
   "source": [
    "#### Step 4: Get the current closing prices for `SPY` and `AGG` by using the Alpaca `get_bars` function. Format the response as a Pandas DataFrame by including the `df` property at the end of the `get_bars` function."
   ]
  },
  {
   "cell_type": "code",
   "execution_count": 16,
   "metadata": {},
   "outputs": [
    {
     "name": "stdout",
     "output_type": "stream",
     "text": [
      "                              SPY                                   \\\n",
      "                             open    high    low   close    volume   \n",
      "timestamp                                                            \n",
      "2020-08-07 04:00:00+00:00  333.29  334.88  332.3  334.57  57282821   \n",
      "\n",
      "                                                      AGG                   \\\n",
      "                          trade_count        vwap    open    high      low   \n",
      "timestamp                                                                    \n",
      "2020-08-07 04:00:00+00:00      350100  333.800372  119.66  119.73  119.395   \n",
      "\n",
      "                                                                    \n",
      "                            close   volume trade_count        vwap  \n",
      "timestamp                                                           \n",
      "2020-08-07 04:00:00+00:00  119.43  5559066       15246  119.475306  \n"
     ]
    }
   ],
   "source": [
    "# Use the Alpaca get_bars function to get current closing prices the portfolio\n",
    "# Be sure to set the `df` property after the function to format the response object as a DataFrame\n",
    "prices_df = alpaca.get_bars(tickers,\n",
    "                              timeframe,\n",
    "                              start_date,\n",
    "                              end_date).df\n",
    "\n",
    "# Reorganize the DataFrame\n",
    "# Separate ticker data\n",
    "SPY = prices_df[prices_df[\"symbol\"] == \"SPY\"].drop(\"symbol\", axis = 1)\n",
    "AGG = prices_df[prices_df[\"symbol\"] == \"AGG\"].drop(\"symbol\", axis = 1)\n",
    "\n",
    "# Concatenate the ticker DataFrames\n",
    "prices_df = pd.concat([SPY, AGG], axis = 1, keys = [\"SPY\", \"AGG\"])\n",
    "\n",
    "# Review the first 5 rows of the Alpaca DataFrame\n",
    "print(prices_df.head())"
   ]
  },
  {
   "cell_type": "markdown",
   "metadata": {},
   "source": [
    "#### Step 5: Navigating the Alpaca response DataFrame, select the `SPY` and `AGG` closing prices, and store them as variables."
   ]
  },
  {
   "cell_type": "code",
   "execution_count": 17,
   "metadata": {},
   "outputs": [
    {
     "name": "stdout",
     "output_type": "stream",
     "text": [
      "The AGG closing price is $119.43.\n"
     ]
    }
   ],
   "source": [
    "# Access the closing price for AGG from the Alpaca DataFrame\n",
    "# Converting the value to a floating point number\n",
    "agg_close_price = float(prices_df[\"AGG\"][\"close\"])\n",
    "\n",
    "# Print the AGG closing price\n",
    "print(f\"The AGG closing price is ${agg_close_price}.\")"
   ]
  },
  {
   "cell_type": "code",
   "execution_count": 18,
   "metadata": {},
   "outputs": [
    {
     "name": "stdout",
     "output_type": "stream",
     "text": [
      "The SPY closing price is $334.57.\n"
     ]
    }
   ],
   "source": [
    "# Access the closing price for SPY from the Alpaca DataFrame\n",
    "# Converting the value to a floating point number\n",
    "spy_close_price = float(prices_df[\"SPY\"][\"close\"])\n",
    "\n",
    "# Print the SPY closing price\n",
    "print(f\"The SPY closing price is ${spy_close_price}.\")"
   ]
  },
  {
   "cell_type": "markdown",
   "metadata": {},
   "source": [
    "#### Step 6: Calculate the value, in US dollars, of the current amount of shares in each of the stock and bond portions of the portfolio, and print the results."
   ]
  },
  {
   "cell_type": "code",
   "execution_count": 19,
   "metadata": {},
   "outputs": [
    {
     "name": "stdout",
     "output_type": "stream",
     "text": [
      "The current value of the AGG bond portfolio is $23886.0.\n"
     ]
    }
   ],
   "source": [
    "# Calculate the current value of the bond portion of the portfolio\n",
    "agg_value = agg_close_price * agg_shares\n",
    "\n",
    "# Print the current value of the bond portfolio\n",
    "print(f\"The current value of the AGG bond portfolio is ${round(agg_value, 2)}.\")"
   ]
  },
  {
   "cell_type": "code",
   "execution_count": 20,
   "metadata": {},
   "outputs": [
    {
     "name": "stdout",
     "output_type": "stream",
     "text": [
      "The current value of the SPY stock portfolio is $36802.7.\n"
     ]
    }
   ],
   "source": [
    "# Calculate the current value of the stock portion of the portfolio\n",
    "spy_value = spy_close_price * spy_shares\n",
    "\n",
    "# Print the current value of the stock portfolio\n",
    "print(f\"The current value of the SPY stock portfolio is ${round(spy_value, 2)}.\")"
   ]
  },
  {
   "cell_type": "code",
   "execution_count": 21,
   "metadata": {},
   "outputs": [
    {
     "name": "stdout",
     "output_type": "stream",
     "text": [
      "The current balance of the SPY stock and AGG bond portfolio is $60688.7.\n"
     ]
    }
   ],
   "source": [
    "# Calculate the total value of the stock and bond portion of the portfolio\n",
    "total_stocks_bonds = agg_value + spy_value\n",
    "\n",
    "# Print the current balance of the stock and bond portion of the portfolio\n",
    "print(f\"The current balance of the SPY stock and AGG bond portfolio is ${round(total_stocks_bonds, 2)}.\")"
   ]
  },
  {
   "cell_type": "code",
   "execution_count": 22,
   "metadata": {},
   "outputs": [
    {
     "name": "stdout",
     "output_type": "stream",
     "text": [
      "The member's current value of the crypto wallet, SPY stock and AGG bond portolio is $91863.4.\n"
     ]
    }
   ],
   "source": [
    "# Calculate the total value of the member's entire savings portfolio\n",
    "# Add the value of the cryptocurrency walled to the value of the total stocks and bonds\n",
    "total_portfolio = total_crypto_wallet + total_stocks_bonds\n",
    "\n",
    "# Print current cryptocurrency wallet balance\n",
    "print(f\"The member's current value of the crypto wallet, SPY stock and AGG bond portolio is ${round(total_portfolio, 2)}.\")"
   ]
  },
  {
   "cell_type": "markdown",
   "metadata": {},
   "source": [
    "### Evaluate the Emergency Fund\n",
    "\n",
    "In this section, you’ll use the valuations for the cryptocurrency wallet and for the stock and bond portions of the portfolio to determine if the credit union member has enough savings to build an emergency fund into their financial plan. To do this, complete the following steps:\n",
    "\n",
    "1. Create a Python list named `savings_data` that has two elements. The first element contains the total value of the cryptocurrency wallet. The second element contains the total value of the stock and bond portions of the portfolio.\n",
    "\n",
    "2. Use the `savings_data` list to create a Pandas DataFrame named `savings_df`, and then display this DataFrame. The function to create the DataFrame should take the following three parameters:\n",
    "\n",
    "    - `savings_data`: Use the list that you just created.\n",
    "\n",
    "    - `columns`: Set this parameter equal to a Python list with a single value called `amount`.\n",
    "\n",
    "    - `index`: Set this parameter equal to a Python list with the values of `crypto` and `stock/bond`.\n",
    "\n",
    "3. Use the `savings_df` DataFrame to plot a pie chart that visualizes the composition of the member’s portfolio. The y-axis of the pie chart uses `amount`. Be sure to add a title.\n",
    "\n",
    "4. Using Python, determine if the current portfolio has enough to create an emergency fund as part of the member’s financial plan. Ideally, an emergency fund should equal to three times the member’s monthly income. To do this, implement the following steps:\n",
    "\n",
    "    1. Create a variable named `emergency_fund_value`, and set it equal to three times the value of the member’s `monthly_income` of $12000. (You set this earlier in Part 1).\n",
    "\n",
    "    2. Create a series of three if statements to determine if the member’s total portfolio is large enough to fund the emergency portfolio:\n",
    "\n",
    "        1. If the total portfolio value is greater than the emergency fund value, display a message congratulating the member for having enough money in this fund.\n",
    "\n",
    "        2. Else if the total portfolio value is equal to the emergency fund value, display a message congratulating the member on reaching this important financial goal.\n",
    "\n",
    "        3. Else the total portfolio is less than the emergency fund value, so display a message showing how many dollars away the member is from reaching the goal. (Subtract the total portfolio value from the emergency fund value.)\n"
   ]
  },
  {
   "cell_type": "markdown",
   "metadata": {},
   "source": [
    "#### Step 1: Create a Python list named `savings_data` that has two elements. The first element contains the total value of the cryptocurrency wallet. The second element contains the total value of the stock and bond portions of the portfolio."
   ]
  },
  {
   "cell_type": "code",
   "execution_count": 23,
   "metadata": {},
   "outputs": [
    {
     "name": "stdout",
     "output_type": "stream",
     "text": [
      "[31174.703999999998, 60688.7]\n"
     ]
    }
   ],
   "source": [
    "# Consolidate financial assets data into a Python list\n",
    "savings_data = [total_crypto_wallet, total_stocks_bonds]\n",
    "\n",
    "# Review the Python list savings_data\n",
    "print(savings_data)    "
   ]
  },
  {
   "cell_type": "markdown",
   "metadata": {},
   "source": [
    "#### Step 2: Use the `savings_data` list to create a Pandas DataFrame named `savings_df`, and then display this DataFrame. The function to create the DataFrame should take the following three parameters:\n",
    "\n",
    "- `savings_data`: Use the list that you just created.\n",
    "\n",
    "- `columns`: Set this parameter equal to a Python list with a single value called `amount`.\n",
    "\n",
    "- `index`: Set this parameter equal to a Python list with the values of `crypto` and `stock/bond`.\n"
   ]
  },
  {
   "cell_type": "code",
   "execution_count": 24,
   "metadata": {},
   "outputs": [
    {
     "name": "stdout",
     "output_type": "stream",
     "text": [
      "               amount\n",
      "crypto      31174.704\n",
      "stock/bond  60688.700\n"
     ]
    }
   ],
   "source": [
    "# Create a Pandas DataFrame called savings_df \n",
    "savings_df = pd.DataFrame(savings_data,\n",
    "                          columns = [\"amount\"],\n",
    "                          index = [\"crypto\", \"stock/bond\"])\n",
    "\n",
    "# Display the savings_df DataFrame\n",
    "print(savings_df.head())"
   ]
  },
  {
   "cell_type": "markdown",
   "metadata": {},
   "source": [
    "#### Step 3: Use the `savings_df` DataFrame to plot a pie chart that visualizes the composition of the member’s portfolio. The y-axis of the pie chart uses `amount`. Be sure to add a title."
   ]
  },
  {
   "cell_type": "code",
   "execution_count": 25,
   "metadata": {},
   "outputs": [
    {
     "data": {
      "text/plain": [
       "<AxesSubplot:title={'center':\"The member's share of crypto and stock/bond\"}, ylabel='amount'>"
      ]
     },
     "execution_count": 25,
     "metadata": {},
     "output_type": "execute_result"
    },
    {
     "data": {
      "image/png": "[encoded data removed]",
      "text/plain": [
       "<Figure size 720x504 with 1 Axes>"
      ]
     },
     "metadata": {},
     "output_type": "display_data"
    }
   ],
   "source": [
    "# Plot the total value of the member's portfolio (crypto and stock/bond) in a pie chart\n",
    "savings_df.plot.pie(y = \"amount\", figsize = (10,7), title = \"The member's share of crypto and stock/bond\")"
   ]
  },
  {
   "cell_type": "markdown",
   "metadata": {},
   "source": [
    "#### Step 4: Using Python, determine if the current portfolio has enough to create an emergency fund as part of the member’s financial plan. Ideally, an emergency fund should equal to three times the member’s monthly income. To do this, implement the following steps:\n",
    "\n",
    "Step 1. Create a variable named `emergency_fund_value`, and set it equal to three times the value of the member’s `monthly_income` of 12000. (You set this earlier in Part 1).\n",
    "\n",
    "Step 2. Create a series of three if statements to determine if the member’s total portfolio is large enough to fund the emergency portfolio:\n",
    "\n",
    "* If the total portfolio value is greater than the emergency fund value, display a message congratulating the member for having enough money in this fund.\n",
    "\n",
    "* Else if the total portfolio value is equal to the emergency fund value, display a message congratulating the member on reaching this important financial goal.\n",
    "\n",
    "* Else the total portfolio is less than the emergency fund value, so display a message showing how many dollars away the member is from reaching the goal. (Subtract the total portfolio value from the emergency fund value.)\n"
   ]
  },
  {
   "cell_type": "markdown",
   "metadata": {},
   "source": [
    "##### Step 4-1: Create a variable named `emergency_fund_value`, and set it equal to three times the value of the member’s `monthly_income` of 12000. (You set this earlier in Part 1)."
   ]
  },
  {
   "cell_type": "code",
   "execution_count": 26,
   "metadata": {},
   "outputs": [],
   "source": [
    "# Create a variable named emergency_fund_value\n",
    "emergency_fund_value = round(float(monthly_income * 3), 2)"
   ]
  },
  {
   "cell_type": "markdown",
   "metadata": {},
   "source": [
    "##### Step 4-2: Create a series of three if statements to determine if the member’s total portfolio is large enough to fund the emergency portfolio:\n",
    "\n",
    "* If the total portfolio value is greater than the emergency fund value, display a message congratulating the member for having enough money in this fund.\n",
    "\n",
    "* Else if the total portfolio value is equal to the emergency fund value, display a message congratulating the member on reaching this important financial goal.\n",
    "\n",
    "* Else the total portfolio is less than the emergency fund value, so display a message showing how many dollars away the member is from reaching the goal. (Subtract the total portfolio value from the emergency fund value.)"
   ]
  },
  {
   "cell_type": "code",
   "execution_count": 27,
   "metadata": {},
   "outputs": [
    {
     "name": "stdout",
     "output_type": "stream",
     "text": [
      "Congratulations on surpassing your financial goal!\n"
     ]
    }
   ],
   "source": [
    "# Evaluate the possibility of creating an emergency fund with 3 conditions:\n",
    "total_savings = round(savings_df[\"amount\"].sum(), 2)\n",
    "\n",
    "if total_savings > emergency_fund_value :\n",
    "    print(f\"Congratulations on surpassing your financial goal!\")\n",
    "elif total_savings == emergency_fund_value:\n",
    "    print(f\"Congratulations on reaching your financial goal!\")\n",
    "else:\n",
    "    savings_needed = emergency_fund_value - total_savings\n",
    "    print(f\"You are only ${round(savings_needed, 2)} away from reaching your financial goal!\")"
   ]
  },
  {
   "cell_type": "markdown",
   "metadata": {},
   "source": [
    "## Part 2: Create a Financial Planner for Retirement"
   ]
  },
  {
   "cell_type": "markdown",
   "metadata": {},
   "source": [
    "### Create the Monte Carlo Simulation\n",
    "\n",
    "In this section, you’ll use the MCForecastTools library to create a Monte Carlo simulation for the member’s savings portfolio. To do this, complete the following steps:\n",
    "\n",
    "1. Make an API call via the Alpaca SDK to get 3 years of historical closing prices for a traditional 60/40 portfolio split: 60% stocks (SPY) and 40% bonds (AGG).\n",
    "\n",
    "2. Run a Monte Carlo simulation of 500 samples and 30 years for the 60/40 portfolio, and then plot the results.The following image shows the overlay line plot resulting from a simulation with these characteristics. However, because a random number generator is used to run each live Monte Carlo simulation, your image will differ slightly from this exact image:\n",
    "\n",
    "![A screenshot depicts the resulting plot.](Images/5-4-monte-carlo-line-plot.png)\n",
    "\n",
    "3. Plot the probability distribution of the Monte Carlo simulation. Plot the probability distribution of the Monte Carlo simulation. The following image shows the histogram plot resulting from a simulation with these characteristics. However, because a random number generator is used to run each live Monte Carlo simulation, your image will differ slightly from this exact image:\n",
    "\n",
    "![A screenshot depicts the histogram plot.](Images/5-4-monte-carlo-histogram.png)\n",
    "\n",
    "4. Generate the summary statistics for the Monte Carlo simulation.\n",
    "\n"
   ]
  },
  {
   "cell_type": "markdown",
   "metadata": {},
   "source": [
    "#### Step 1: Make an API call via the Alpaca SDK to get 3 years of historical closing prices for a traditional 60/40 portfolio split: 60% stocks (SPY) and 40% bonds (AGG)."
   ]
  },
  {
   "cell_type": "code",
   "execution_count": 28,
   "metadata": {},
   "outputs": [],
   "source": [
    "# Set start and end dates of 3 years back from your current date\n",
    "# Alternatively, you can use an end date of 2020-08-07 and work 3 years back from that date \n",
    "start_date = pd.Timestamp(\"2017-08-07\", tz = \"America/New_York\").isoformat()\n",
    "end_date = pd.Timestamp(\"2020-08-07\", tz = \"America/New_York\").isoformat()"
   ]
  },
  {
   "cell_type": "code",
   "execution_count": 29,
   "metadata": {},
   "outputs": [
    {
     "data": {
      "text/html": [
       "<div>\n",
       "<style scoped>\n",
       "    .dataframe tbody tr th:only-of-type {\n",
       "        vertical-align: middle;\n",
       "    }\n",
       "\n",
       "    .dataframe tbody tr th {\n",
       "        vertical-align: top;\n",
       "    }\n",
       "\n",
       "    .dataframe thead tr th {\n",
       "        text-align: left;\n",
       "    }\n",
       "\n",
       "    .dataframe thead tr:last-of-type th {\n",
       "        text-align: right;\n",
       "    }\n",
       "</style>\n",
       "<table border=\"1\" class=\"dataframe\">\n",
       "  <thead>\n",
       "    <tr>\n",
       "      <th></th>\n",
       "      <th colspan=\"7\" halign=\"left\">SPY</th>\n",
       "      <th colspan=\"7\" halign=\"left\">AGG</th>\n",
       "    </tr>\n",
       "    <tr>\n",
       "      <th></th>\n",
       "      <th>open</th>\n",
       "      <th>high</th>\n",
       "      <th>low</th>\n",
       "      <th>close</th>\n",
       "      <th>volume</th>\n",
       "      <th>trade_count</th>\n",
       "      <th>vwap</th>\n",
       "      <th>open</th>\n",
       "      <th>high</th>\n",
       "      <th>low</th>\n",
       "      <th>close</th>\n",
       "      <th>volume</th>\n",
       "      <th>trade_count</th>\n",
       "      <th>vwap</th>\n",
       "    </tr>\n",
       "    <tr>\n",
       "      <th>timestamp</th>\n",
       "      <th></th>\n",
       "      <th></th>\n",
       "      <th></th>\n",
       "      <th></th>\n",
       "      <th></th>\n",
       "      <th></th>\n",
       "      <th></th>\n",
       "      <th></th>\n",
       "      <th></th>\n",
       "      <th></th>\n",
       "      <th></th>\n",
       "      <th></th>\n",
       "      <th></th>\n",
       "      <th></th>\n",
       "    </tr>\n",
       "  </thead>\n",
       "  <tbody>\n",
       "    <tr>\n",
       "      <th>2017-08-07 04:00:00+00:00</th>\n",
       "      <td>247.50</td>\n",
       "      <td>247.87</td>\n",
       "      <td>247.37</td>\n",
       "      <td>247.87</td>\n",
       "      <td>31995021</td>\n",
       "      <td>100111</td>\n",
       "      <td>247.668698</td>\n",
       "      <td>109.69</td>\n",
       "      <td>109.72</td>\n",
       "      <td>109.6066</td>\n",
       "      <td>109.67</td>\n",
       "      <td>2359826</td>\n",
       "      <td>7755</td>\n",
       "      <td>109.674876</td>\n",
       "    </tr>\n",
       "    <tr>\n",
       "      <th>2017-08-08 04:00:00+00:00</th>\n",
       "      <td>247.49</td>\n",
       "      <td>248.91</td>\n",
       "      <td>246.83</td>\n",
       "      <td>247.26</td>\n",
       "      <td>61719353</td>\n",
       "      <td>192921</td>\n",
       "      <td>247.739709</td>\n",
       "      <td>109.67</td>\n",
       "      <td>109.69</td>\n",
       "      <td>109.5000</td>\n",
       "      <td>109.57</td>\n",
       "      <td>2570876</td>\n",
       "      <td>12663</td>\n",
       "      <td>109.577636</td>\n",
       "    </tr>\n",
       "    <tr>\n",
       "      <th>2017-08-09 04:00:00+00:00</th>\n",
       "      <td>246.46</td>\n",
       "      <td>247.31</td>\n",
       "      <td>246.06</td>\n",
       "      <td>247.25</td>\n",
       "      <td>62632619</td>\n",
       "      <td>223650</td>\n",
       "      <td>246.791421</td>\n",
       "      <td>109.87</td>\n",
       "      <td>109.87</td>\n",
       "      <td>109.6600</td>\n",
       "      <td>109.67</td>\n",
       "      <td>2308932</td>\n",
       "      <td>11031</td>\n",
       "      <td>109.771749</td>\n",
       "    </tr>\n",
       "    <tr>\n",
       "      <th>2017-08-10 04:00:00+00:00</th>\n",
       "      <td>246.30</td>\n",
       "      <td>246.44</td>\n",
       "      <td>243.70</td>\n",
       "      <td>243.76</td>\n",
       "      <td>120418270</td>\n",
       "      <td>424321</td>\n",
       "      <td>245.027847</td>\n",
       "      <td>109.70</td>\n",
       "      <td>109.85</td>\n",
       "      <td>109.6700</td>\n",
       "      <td>109.78</td>\n",
       "      <td>2004163</td>\n",
       "      <td>12437</td>\n",
       "      <td>109.776611</td>\n",
       "    </tr>\n",
       "    <tr>\n",
       "      <th>2017-08-11 04:00:00+00:00</th>\n",
       "      <td>244.00</td>\n",
       "      <td>244.80</td>\n",
       "      <td>243.75</td>\n",
       "      <td>244.12</td>\n",
       "      <td>74869947</td>\n",
       "      <td>278786</td>\n",
       "      <td>244.222867</td>\n",
       "      <td>109.75</td>\n",
       "      <td>109.94</td>\n",
       "      <td>109.6800</td>\n",
       "      <td>109.87</td>\n",
       "      <td>1913253</td>\n",
       "      <td>10113</td>\n",
       "      <td>109.860974</td>\n",
       "    </tr>\n",
       "  </tbody>\n",
       "</table>\n",
       "</div>"
      ],
      "text/plain": [
       "                              SPY                                     \\\n",
       "                             open    high     low   close     volume   \n",
       "timestamp                                                              \n",
       "2017-08-07 04:00:00+00:00  247.50  247.87  247.37  247.87   31995021   \n",
       "2017-08-08 04:00:00+00:00  247.49  248.91  246.83  247.26   61719353   \n",
       "2017-08-09 04:00:00+00:00  246.46  247.31  246.06  247.25   62632619   \n",
       "2017-08-10 04:00:00+00:00  246.30  246.44  243.70  243.76  120418270   \n",
       "2017-08-11 04:00:00+00:00  244.00  244.80  243.75  244.12   74869947   \n",
       "\n",
       "                                                      AGG                    \\\n",
       "                          trade_count        vwap    open    high       low   \n",
       "timestamp                                                                     \n",
       "2017-08-07 04:00:00+00:00      100111  247.668698  109.69  109.72  109.6066   \n",
       "2017-08-08 04:00:00+00:00      192921  247.739709  109.67  109.69  109.5000   \n",
       "2017-08-09 04:00:00+00:00      223650  246.791421  109.87  109.87  109.6600   \n",
       "2017-08-10 04:00:00+00:00      424321  245.027847  109.70  109.85  109.6700   \n",
       "2017-08-11 04:00:00+00:00      278786  244.222867  109.75  109.94  109.6800   \n",
       "\n",
       "                                                                    \n",
       "                            close   volume trade_count        vwap  \n",
       "timestamp                                                           \n",
       "2017-08-07 04:00:00+00:00  109.67  2359826        7755  109.674876  \n",
       "2017-08-08 04:00:00+00:00  109.57  2570876       12663  109.577636  \n",
       "2017-08-09 04:00:00+00:00  109.67  2308932       11031  109.771749  \n",
       "2017-08-10 04:00:00+00:00  109.78  2004163       12437  109.776611  \n",
       "2017-08-11 04:00:00+00:00  109.87  1913253       10113  109.860974  "
      ]
     },
     "metadata": {},
     "output_type": "display_data"
    },
    {
     "data": {
      "text/html": [
       "<div>\n",
       "<style scoped>\n",
       "    .dataframe tbody tr th:only-of-type {\n",
       "        vertical-align: middle;\n",
       "    }\n",
       "\n",
       "    .dataframe tbody tr th {\n",
       "        vertical-align: top;\n",
       "    }\n",
       "\n",
       "    .dataframe thead tr th {\n",
       "        text-align: left;\n",
       "    }\n",
       "\n",
       "    .dataframe thead tr:last-of-type th {\n",
       "        text-align: right;\n",
       "    }\n",
       "</style>\n",
       "<table border=\"1\" class=\"dataframe\">\n",
       "  <thead>\n",
       "    <tr>\n",
       "      <th></th>\n",
       "      <th colspan=\"7\" halign=\"left\">SPY</th>\n",
       "      <th colspan=\"7\" halign=\"left\">AGG</th>\n",
       "    </tr>\n",
       "    <tr>\n",
       "      <th></th>\n",
       "      <th>open</th>\n",
       "      <th>high</th>\n",
       "      <th>low</th>\n",
       "      <th>close</th>\n",
       "      <th>volume</th>\n",
       "      <th>trade_count</th>\n",
       "      <th>vwap</th>\n",
       "      <th>open</th>\n",
       "      <th>high</th>\n",
       "      <th>low</th>\n",
       "      <th>close</th>\n",
       "      <th>volume</th>\n",
       "      <th>trade_count</th>\n",
       "      <th>vwap</th>\n",
       "    </tr>\n",
       "    <tr>\n",
       "      <th>timestamp</th>\n",
       "      <th></th>\n",
       "      <th></th>\n",
       "      <th></th>\n",
       "      <th></th>\n",
       "      <th></th>\n",
       "      <th></th>\n",
       "      <th></th>\n",
       "      <th></th>\n",
       "      <th></th>\n",
       "      <th></th>\n",
       "      <th></th>\n",
       "      <th></th>\n",
       "      <th></th>\n",
       "      <th></th>\n",
       "    </tr>\n",
       "  </thead>\n",
       "  <tbody>\n",
       "    <tr>\n",
       "      <th>2020-08-03 04:00:00+00:00</th>\n",
       "      <td>328.31</td>\n",
       "      <td>329.62</td>\n",
       "      <td>327.73</td>\n",
       "      <td>328.79</td>\n",
       "      <td>53080454</td>\n",
       "      <td>288008</td>\n",
       "      <td>328.658804</td>\n",
       "      <td>119.37</td>\n",
       "      <td>119.40</td>\n",
       "      <td>119.1903</td>\n",
       "      <td>119.40</td>\n",
       "      <td>13014535</td>\n",
       "      <td>36359</td>\n",
       "      <td>119.282420</td>\n",
       "    </tr>\n",
       "    <tr>\n",
       "      <th>2020-08-04 04:00:00+00:00</th>\n",
       "      <td>327.88</td>\n",
       "      <td>330.06</td>\n",
       "      <td>327.86</td>\n",
       "      <td>330.06</td>\n",
       "      <td>41918004</td>\n",
       "      <td>250900</td>\n",
       "      <td>329.057593</td>\n",
       "      <td>119.42</td>\n",
       "      <td>119.63</td>\n",
       "      <td>119.4200</td>\n",
       "      <td>119.63</td>\n",
       "      <td>10935181</td>\n",
       "      <td>39114</td>\n",
       "      <td>119.541666</td>\n",
       "    </tr>\n",
       "    <tr>\n",
       "      <th>2020-08-05 04:00:00+00:00</th>\n",
       "      <td>331.46</td>\n",
       "      <td>332.39</td>\n",
       "      <td>331.18</td>\n",
       "      <td>332.11</td>\n",
       "      <td>42870955</td>\n",
       "      <td>241416</td>\n",
       "      <td>331.791643</td>\n",
       "      <td>119.39</td>\n",
       "      <td>119.49</td>\n",
       "      <td>119.3100</td>\n",
       "      <td>119.40</td>\n",
       "      <td>17377874</td>\n",
       "      <td>42313</td>\n",
       "      <td>119.387245</td>\n",
       "    </tr>\n",
       "    <tr>\n",
       "      <th>2020-08-06 04:00:00+00:00</th>\n",
       "      <td>331.52</td>\n",
       "      <td>334.46</td>\n",
       "      <td>331.13</td>\n",
       "      <td>334.33</td>\n",
       "      <td>43745653</td>\n",
       "      <td>290039</td>\n",
       "      <td>332.937218</td>\n",
       "      <td>119.62</td>\n",
       "      <td>119.73</td>\n",
       "      <td>119.5300</td>\n",
       "      <td>119.57</td>\n",
       "      <td>4608710</td>\n",
       "      <td>15938</td>\n",
       "      <td>119.604199</td>\n",
       "    </tr>\n",
       "    <tr>\n",
       "      <th>2020-08-07 04:00:00+00:00</th>\n",
       "      <td>333.29</td>\n",
       "      <td>334.88</td>\n",
       "      <td>332.30</td>\n",
       "      <td>334.57</td>\n",
       "      <td>57282821</td>\n",
       "      <td>350100</td>\n",
       "      <td>333.800372</td>\n",
       "      <td>119.66</td>\n",
       "      <td>119.73</td>\n",
       "      <td>119.3950</td>\n",
       "      <td>119.43</td>\n",
       "      <td>5559066</td>\n",
       "      <td>15246</td>\n",
       "      <td>119.475306</td>\n",
       "    </tr>\n",
       "  </tbody>\n",
       "</table>\n",
       "</div>"
      ],
      "text/plain": [
       "                              SPY                                    \\\n",
       "                             open    high     low   close    volume   \n",
       "timestamp                                                             \n",
       "2020-08-03 04:00:00+00:00  328.31  329.62  327.73  328.79  53080454   \n",
       "2020-08-04 04:00:00+00:00  327.88  330.06  327.86  330.06  41918004   \n",
       "2020-08-05 04:00:00+00:00  331.46  332.39  331.18  332.11  42870955   \n",
       "2020-08-06 04:00:00+00:00  331.52  334.46  331.13  334.33  43745653   \n",
       "2020-08-07 04:00:00+00:00  333.29  334.88  332.30  334.57  57282821   \n",
       "\n",
       "                                                      AGG                    \\\n",
       "                          trade_count        vwap    open    high       low   \n",
       "timestamp                                                                     \n",
       "2020-08-03 04:00:00+00:00      288008  328.658804  119.37  119.40  119.1903   \n",
       "2020-08-04 04:00:00+00:00      250900  329.057593  119.42  119.63  119.4200   \n",
       "2020-08-05 04:00:00+00:00      241416  331.791643  119.39  119.49  119.3100   \n",
       "2020-08-06 04:00:00+00:00      290039  332.937218  119.62  119.73  119.5300   \n",
       "2020-08-07 04:00:00+00:00      350100  333.800372  119.66  119.73  119.3950   \n",
       "\n",
       "                                                                     \n",
       "                            close    volume trade_count        vwap  \n",
       "timestamp                                                            \n",
       "2020-08-03 04:00:00+00:00  119.40  13014535       36359  119.282420  \n",
       "2020-08-04 04:00:00+00:00  119.63  10935181       39114  119.541666  \n",
       "2020-08-05 04:00:00+00:00  119.40  17377874       42313  119.387245  \n",
       "2020-08-06 04:00:00+00:00  119.57   4608710       15938  119.604199  \n",
       "2020-08-07 04:00:00+00:00  119.43   5559066       15246  119.475306  "
      ]
     },
     "metadata": {},
     "output_type": "display_data"
    }
   ],
   "source": [
    "# Use the Alpaca get_bars function to make the API call to get the 3 years worth of pricing data\n",
    "# The tickers and timeframe parameters should have been set in Part 1 of this activity \n",
    "# The start and end dates should be updated with the information set above\n",
    "# Remember to add the df property to the end of the call so the response is returned as a DataFrame\n",
    "prices_3_yr_df = alpaca.get_bars(tickers,\n",
    "                                 timeframe,\n",
    "                                 start_date,\n",
    "                                 end_date).df\n",
    "\n",
    "# Reorganize the DataFrame\n",
    "# Separate ticker data\n",
    "SPY = prices_3_yr_df[prices_3_yr_df[\"symbol\"] == \"SPY\"].drop(\"symbol\", axis = 1)\n",
    "AGG = prices_3_yr_df[prices_3_yr_df[\"symbol\"] == \"AGG\"].drop(\"symbol\", axis = 1)\n",
    "\n",
    "# Concatenate the ticker DataFrames\n",
    "prices_3_yr_df = pd.concat([SPY, AGG], axis = 1, keys = [\"SPY\", \"AGG\"])\n",
    "\n",
    "# Display both the first and last five rows of the DataFrame\n",
    "display(prices_3_yr_df.head())\n",
    "display(prices_3_yr_df.tail())"
   ]
  },
  {
   "cell_type": "markdown",
   "metadata": {},
   "source": [
    "#### Step 2: Run a Monte Carlo simulation of 500 samples and 30 years for the 60/40 portfolio, and then plot the results."
   ]
  },
  {
   "cell_type": "code",
   "execution_count": 30,
   "metadata": {},
   "outputs": [
    {
     "name": "stdout",
     "output_type": "stream",
     "text": [
      "                              SPY                                     \\\n",
      "                             open    high     low   close     volume   \n",
      "timestamp                                                              \n",
      "2017-08-07 04:00:00+00:00  247.50  247.87  247.37  247.87   31995021   \n",
      "2017-08-08 04:00:00+00:00  247.49  248.91  246.83  247.26   61719353   \n",
      "2017-08-09 04:00:00+00:00  246.46  247.31  246.06  247.25   62632619   \n",
      "2017-08-10 04:00:00+00:00  246.30  246.44  243.70  243.76  120418270   \n",
      "2017-08-11 04:00:00+00:00  244.00  244.80  243.75  244.12   74869947   \n",
      "\n",
      "                                                                   AGG  \\\n",
      "                          trade_count        vwap daily_return    open   \n",
      "timestamp                                                                \n",
      "2017-08-07 04:00:00+00:00      100111  247.668698          NaN  109.69   \n",
      "2017-08-08 04:00:00+00:00      192921  247.739709    -0.002461  109.67   \n",
      "2017-08-09 04:00:00+00:00      223650  246.791421    -0.000040  109.87   \n",
      "2017-08-10 04:00:00+00:00      424321  245.027847    -0.014115  109.70   \n",
      "2017-08-11 04:00:00+00:00      278786  244.222867     0.001477  109.75   \n",
      "\n",
      "                                                                          \\\n",
      "                             high       low   close   volume trade_count   \n",
      "timestamp                                                                  \n",
      "2017-08-07 04:00:00+00:00  109.72  109.6066  109.67  2359826        7755   \n",
      "2017-08-08 04:00:00+00:00  109.69  109.5000  109.57  2570876       12663   \n",
      "2017-08-09 04:00:00+00:00  109.87  109.6600  109.67  2308932       11031   \n",
      "2017-08-10 04:00:00+00:00  109.85  109.6700  109.78  2004163       12437   \n",
      "2017-08-11 04:00:00+00:00  109.94  109.6800  109.87  1913253       10113   \n",
      "\n",
      "                                                    \n",
      "                                 vwap daily_return  \n",
      "timestamp                                           \n",
      "2017-08-07 04:00:00+00:00  109.674876          NaN  \n",
      "2017-08-08 04:00:00+00:00  109.577636    -0.000912  \n",
      "2017-08-09 04:00:00+00:00  109.771749     0.000913  \n",
      "2017-08-10 04:00:00+00:00  109.776611     0.001003  \n",
      "2017-08-11 04:00:00+00:00  109.860974     0.000820  \n"
     ]
    }
   ],
   "source": [
    "# Configure the Monte Carlo simulation to forecast 30 years cumulative returns\n",
    "# The weights should be split 40% to AGG and 60% to SPY.\n",
    "# Run 500 samples.\n",
    "MC_60_40_weighted = MCSimulation(portfolio_data = prices_3_yr_df,\n",
    "                                 weights = [.60, .40],\n",
    "                                 num_simulation = 500,\n",
    "                                 num_trading_days = 252 * 30)\n",
    "\n",
    "# Review the simulation input data\n",
    "print(MC_60_40_weighted.portfolio_data.head())"
   ]
  },
  {
   "cell_type": "code",
   "execution_count": 31,
   "metadata": {},
   "outputs": [
    {
     "name": "stdout",
     "output_type": "stream",
     "text": [
      "Running Monte Carlo simulation number 0.\n",
      "Running Monte Carlo simulation number 10.\n",
      "Running Monte Carlo simulation number 20.\n",
      "Running Monte Carlo simulation number 30.\n",
      "Running Monte Carlo simulation number 40.\n",
      "Running Monte Carlo simulation number 50.\n",
      "Running Monte Carlo simulation number 60.\n",
      "Running Monte Carlo simulation number 70.\n",
      "Running Monte Carlo simulation number 80.\n",
      "Running Monte Carlo simulation number 90.\n",
      "Running Monte Carlo simulation number 100.\n"
     ]
    },
    {
     "name": "stderr",
     "output_type": "stream",
     "text": [
      "C:\\Users\\drew9\\Bootcamp\\UC Berkeley Extension Fintech\\Coursework\\Module 5\\Module 5 Challenge\\Repo\\Financial_Planner_API_Simulations\\MCForecastTools.py:117: PerformanceWarning: DataFrame is highly fragmented.  This is usually the result of calling `frame.insert` many times, which has poor performance.  Consider joining all columns at once using pd.concat(axis=1) instead.  To get a de-fragmented frame, use `newframe = frame.copy()`\n",
      "  portfolio_cumulative_returns[n] = (1 + sim_df.fillna(0)).cumprod()\n"
     ]
    },
    {
     "name": "stdout",
     "output_type": "stream",
     "text": [
      "Running Monte Carlo simulation number 110.\n",
      "Running Monte Carlo simulation number 120.\n",
      "Running Monte Carlo simulation number 130.\n",
      "Running Monte Carlo simulation number 140.\n",
      "Running Monte Carlo simulation number 150.\n",
      "Running Monte Carlo simulation number 160.\n",
      "Running Monte Carlo simulation number 170.\n",
      "Running Monte Carlo simulation number 180.\n",
      "Running Monte Carlo simulation number 190.\n",
      "Running Monte Carlo simulation number 200.\n",
      "Running Monte Carlo simulation number 210.\n",
      "Running Monte Carlo simulation number 220.\n",
      "Running Monte Carlo simulation number 230.\n",
      "Running Monte Carlo simulation number 240.\n",
      "Running Monte Carlo simulation number 250.\n",
      "Running Monte Carlo simulation number 260.\n",
      "Running Monte Carlo simulation number 270.\n",
      "Running Monte Carlo simulation number 280.\n",
      "Running Monte Carlo simulation number 290.\n",
      "Running Monte Carlo simulation number 300.\n",
      "Running Monte Carlo simulation number 310.\n",
      "Running Monte Carlo simulation number 320.\n",
      "Running Monte Carlo simulation number 330.\n",
      "Running Monte Carlo simulation number 340.\n",
      "Running Monte Carlo simulation number 350.\n",
      "Running Monte Carlo simulation number 360.\n",
      "Running Monte Carlo simulation number 370.\n",
      "Running Monte Carlo simulation number 380.\n",
      "Running Monte Carlo simulation number 390.\n",
      "Running Monte Carlo simulation number 400.\n",
      "Running Monte Carlo simulation number 410.\n",
      "Running Monte Carlo simulation number 420.\n",
      "Running Monte Carlo simulation number 430.\n",
      "Running Monte Carlo simulation number 440.\n",
      "Running Monte Carlo simulation number 450.\n",
      "Running Monte Carlo simulation number 460.\n",
      "Running Monte Carlo simulation number 470.\n",
      "Running Monte Carlo simulation number 480.\n",
      "Running Monte Carlo simulation number 490.\n"
     ]
    },
    {
     "data": {
      "text/html": [
       "<div>\n",
       "<style scoped>\n",
       "    .dataframe tbody tr th:only-of-type {\n",
       "        vertical-align: middle;\n",
       "    }\n",
       "\n",
       "    .dataframe tbody tr th {\n",
       "        vertical-align: top;\n",
       "    }\n",
       "\n",
       "    .dataframe thead th {\n",
       "        text-align: right;\n",
       "    }\n",
       "</style>\n",
       "<table border=\"1\" class=\"dataframe\">\n",
       "  <thead>\n",
       "    <tr style=\"text-align: right;\">\n",
       "      <th></th>\n",
       "      <th>0</th>\n",
       "      <th>1</th>\n",
       "      <th>2</th>\n",
       "      <th>3</th>\n",
       "      <th>4</th>\n",
       "      <th>5</th>\n",
       "      <th>6</th>\n",
       "      <th>7</th>\n",
       "      <th>8</th>\n",
       "      <th>9</th>\n",
       "      <th>...</th>\n",
       "      <th>490</th>\n",
       "      <th>491</th>\n",
       "      <th>492</th>\n",
       "      <th>493</th>\n",
       "      <th>494</th>\n",
       "      <th>495</th>\n",
       "      <th>496</th>\n",
       "      <th>497</th>\n",
       "      <th>498</th>\n",
       "      <th>499</th>\n",
       "    </tr>\n",
       "  </thead>\n",
       "  <tbody>\n",
       "    <tr>\n",
       "      <th>0</th>\n",
       "      <td>1.000000</td>\n",
       "      <td>1.000000</td>\n",
       "      <td>1.000000</td>\n",
       "      <td>1.000000</td>\n",
       "      <td>1.000000</td>\n",
       "      <td>1.000000</td>\n",
       "      <td>1.000000</td>\n",
       "      <td>1.000000</td>\n",
       "      <td>1.000000</td>\n",
       "      <td>1.000000</td>\n",
       "      <td>...</td>\n",
       "      <td>1.000000</td>\n",
       "      <td>1.000000</td>\n",
       "      <td>1.000000</td>\n",
       "      <td>1.000000</td>\n",
       "      <td>1.000000</td>\n",
       "      <td>1.000000</td>\n",
       "      <td>1.000000</td>\n",
       "      <td>1.000000</td>\n",
       "      <td>1.000000</td>\n",
       "      <td>1.000000</td>\n",
       "    </tr>\n",
       "    <tr>\n",
       "      <th>1</th>\n",
       "      <td>1.001856</td>\n",
       "      <td>1.004662</td>\n",
       "      <td>1.006301</td>\n",
       "      <td>1.010276</td>\n",
       "      <td>1.017789</td>\n",
       "      <td>0.988346</td>\n",
       "      <td>0.990176</td>\n",
       "      <td>0.996915</td>\n",
       "      <td>1.000200</td>\n",
       "      <td>1.004784</td>\n",
       "      <td>...</td>\n",
       "      <td>1.010120</td>\n",
       "      <td>0.999838</td>\n",
       "      <td>1.008532</td>\n",
       "      <td>0.999762</td>\n",
       "      <td>0.991388</td>\n",
       "      <td>0.985920</td>\n",
       "      <td>1.000758</td>\n",
       "      <td>1.006956</td>\n",
       "      <td>1.005277</td>\n",
       "      <td>1.010178</td>\n",
       "    </tr>\n",
       "    <tr>\n",
       "      <th>2</th>\n",
       "      <td>1.008634</td>\n",
       "      <td>1.007593</td>\n",
       "      <td>1.008322</td>\n",
       "      <td>1.018473</td>\n",
       "      <td>1.029447</td>\n",
       "      <td>0.993210</td>\n",
       "      <td>0.981616</td>\n",
       "      <td>1.005907</td>\n",
       "      <td>0.994676</td>\n",
       "      <td>0.994090</td>\n",
       "      <td>...</td>\n",
       "      <td>1.008072</td>\n",
       "      <td>1.014552</td>\n",
       "      <td>1.003487</td>\n",
       "      <td>1.007422</td>\n",
       "      <td>0.978663</td>\n",
       "      <td>0.977152</td>\n",
       "      <td>1.002423</td>\n",
       "      <td>1.003634</td>\n",
       "      <td>1.015376</td>\n",
       "      <td>0.989250</td>\n",
       "    </tr>\n",
       "    <tr>\n",
       "      <th>3</th>\n",
       "      <td>1.003398</td>\n",
       "      <td>1.011368</td>\n",
       "      <td>0.993845</td>\n",
       "      <td>1.016921</td>\n",
       "      <td>1.011253</td>\n",
       "      <td>0.998437</td>\n",
       "      <td>1.002938</td>\n",
       "      <td>0.993101</td>\n",
       "      <td>0.998226</td>\n",
       "      <td>1.013230</td>\n",
       "      <td>...</td>\n",
       "      <td>1.013487</td>\n",
       "      <td>1.007632</td>\n",
       "      <td>1.007860</td>\n",
       "      <td>1.010235</td>\n",
       "      <td>0.986157</td>\n",
       "      <td>0.979640</td>\n",
       "      <td>0.993075</td>\n",
       "      <td>1.002612</td>\n",
       "      <td>1.017626</td>\n",
       "      <td>0.981236</td>\n",
       "    </tr>\n",
       "    <tr>\n",
       "      <th>4</th>\n",
       "      <td>1.004159</td>\n",
       "      <td>1.004222</td>\n",
       "      <td>1.000493</td>\n",
       "      <td>1.011997</td>\n",
       "      <td>1.007268</td>\n",
       "      <td>0.999385</td>\n",
       "      <td>1.016010</td>\n",
       "      <td>0.986472</td>\n",
       "      <td>1.009305</td>\n",
       "      <td>1.009768</td>\n",
       "      <td>...</td>\n",
       "      <td>1.010423</td>\n",
       "      <td>1.000075</td>\n",
       "      <td>1.010457</td>\n",
       "      <td>1.002869</td>\n",
       "      <td>0.983868</td>\n",
       "      <td>0.983083</td>\n",
       "      <td>0.988757</td>\n",
       "      <td>1.015929</td>\n",
       "      <td>0.994731</td>\n",
       "      <td>0.985314</td>\n",
       "    </tr>\n",
       "    <tr>\n",
       "      <th>...</th>\n",
       "      <td>...</td>\n",
       "      <td>...</td>\n",
       "      <td>...</td>\n",
       "      <td>...</td>\n",
       "      <td>...</td>\n",
       "      <td>...</td>\n",
       "      <td>...</td>\n",
       "      <td>...</td>\n",
       "      <td>...</td>\n",
       "      <td>...</td>\n",
       "      <td>...</td>\n",
       "      <td>...</td>\n",
       "      <td>...</td>\n",
       "      <td>...</td>\n",
       "      <td>...</td>\n",
       "      <td>...</td>\n",
       "      <td>...</td>\n",
       "      <td>...</td>\n",
       "      <td>...</td>\n",
       "      <td>...</td>\n",
       "      <td>...</td>\n",
       "    </tr>\n",
       "    <tr>\n",
       "      <th>7556</th>\n",
       "      <td>35.696455</td>\n",
       "      <td>32.954379</td>\n",
       "      <td>7.485551</td>\n",
       "      <td>6.102276</td>\n",
       "      <td>49.507323</td>\n",
       "      <td>6.876045</td>\n",
       "      <td>17.313337</td>\n",
       "      <td>7.640079</td>\n",
       "      <td>14.015126</td>\n",
       "      <td>36.867123</td>\n",
       "      <td>...</td>\n",
       "      <td>6.739108</td>\n",
       "      <td>5.175502</td>\n",
       "      <td>5.867300</td>\n",
       "      <td>9.089223</td>\n",
       "      <td>2.758937</td>\n",
       "      <td>6.570296</td>\n",
       "      <td>3.615038</td>\n",
       "      <td>4.431992</td>\n",
       "      <td>6.055005</td>\n",
       "      <td>23.216142</td>\n",
       "    </tr>\n",
       "    <tr>\n",
       "      <th>7557</th>\n",
       "      <td>35.977540</td>\n",
       "      <td>32.634377</td>\n",
       "      <td>7.509936</td>\n",
       "      <td>6.002325</td>\n",
       "      <td>49.815053</td>\n",
       "      <td>6.867137</td>\n",
       "      <td>17.280123</td>\n",
       "      <td>7.664730</td>\n",
       "      <td>14.020092</td>\n",
       "      <td>36.963313</td>\n",
       "      <td>...</td>\n",
       "      <td>6.723089</td>\n",
       "      <td>5.155248</td>\n",
       "      <td>5.863867</td>\n",
       "      <td>9.090392</td>\n",
       "      <td>2.791433</td>\n",
       "      <td>6.546288</td>\n",
       "      <td>3.646972</td>\n",
       "      <td>4.506293</td>\n",
       "      <td>5.988253</td>\n",
       "      <td>23.252641</td>\n",
       "    </tr>\n",
       "    <tr>\n",
       "      <th>7558</th>\n",
       "      <td>35.628756</td>\n",
       "      <td>32.755175</td>\n",
       "      <td>7.513535</td>\n",
       "      <td>5.913308</td>\n",
       "      <td>49.854185</td>\n",
       "      <td>6.817471</td>\n",
       "      <td>17.155827</td>\n",
       "      <td>7.809062</td>\n",
       "      <td>14.122718</td>\n",
       "      <td>36.978419</td>\n",
       "      <td>...</td>\n",
       "      <td>6.767540</td>\n",
       "      <td>5.192732</td>\n",
       "      <td>5.845107</td>\n",
       "      <td>9.009078</td>\n",
       "      <td>2.782401</td>\n",
       "      <td>6.631000</td>\n",
       "      <td>3.615633</td>\n",
       "      <td>4.499348</td>\n",
       "      <td>5.950750</td>\n",
       "      <td>23.188756</td>\n",
       "    </tr>\n",
       "    <tr>\n",
       "      <th>7559</th>\n",
       "      <td>35.834964</td>\n",
       "      <td>32.989331</td>\n",
       "      <td>7.496707</td>\n",
       "      <td>5.869665</td>\n",
       "      <td>49.817908</td>\n",
       "      <td>6.845034</td>\n",
       "      <td>17.109574</td>\n",
       "      <td>7.784783</td>\n",
       "      <td>14.033247</td>\n",
       "      <td>37.217436</td>\n",
       "      <td>...</td>\n",
       "      <td>6.763819</td>\n",
       "      <td>5.150881</td>\n",
       "      <td>5.845652</td>\n",
       "      <td>9.021204</td>\n",
       "      <td>2.769718</td>\n",
       "      <td>6.631153</td>\n",
       "      <td>3.588888</td>\n",
       "      <td>4.490907</td>\n",
       "      <td>5.988957</td>\n",
       "      <td>23.129012</td>\n",
       "    </tr>\n",
       "    <tr>\n",
       "      <th>7560</th>\n",
       "      <td>35.882476</td>\n",
       "      <td>32.891590</td>\n",
       "      <td>7.453101</td>\n",
       "      <td>5.874328</td>\n",
       "      <td>50.374437</td>\n",
       "      <td>6.891798</td>\n",
       "      <td>17.114954</td>\n",
       "      <td>7.749362</td>\n",
       "      <td>14.071688</td>\n",
       "      <td>36.735036</td>\n",
       "      <td>...</td>\n",
       "      <td>6.786104</td>\n",
       "      <td>5.155070</td>\n",
       "      <td>5.876209</td>\n",
       "      <td>9.073832</td>\n",
       "      <td>2.769646</td>\n",
       "      <td>6.638944</td>\n",
       "      <td>3.543994</td>\n",
       "      <td>4.485471</td>\n",
       "      <td>6.061263</td>\n",
       "      <td>23.065326</td>\n",
       "    </tr>\n",
       "  </tbody>\n",
       "</table>\n",
       "<p>7561 rows × 500 columns</p>\n",
       "</div>"
      ],
      "text/plain": [
       "            0          1         2         3          4         5    \\\n",
       "0      1.000000   1.000000  1.000000  1.000000   1.000000  1.000000   \n",
       "1      1.001856   1.004662  1.006301  1.010276   1.017789  0.988346   \n",
       "2      1.008634   1.007593  1.008322  1.018473   1.029447  0.993210   \n",
       "3      1.003398   1.011368  0.993845  1.016921   1.011253  0.998437   \n",
       "4      1.004159   1.004222  1.000493  1.011997   1.007268  0.999385   \n",
       "...         ...        ...       ...       ...        ...       ...   \n",
       "7556  35.696455  32.954379  7.485551  6.102276  49.507323  6.876045   \n",
       "7557  35.977540  32.634377  7.509936  6.002325  49.815053  6.867137   \n",
       "7558  35.628756  32.755175  7.513535  5.913308  49.854185  6.817471   \n",
       "7559  35.834964  32.989331  7.496707  5.869665  49.817908  6.845034   \n",
       "7560  35.882476  32.891590  7.453101  5.874328  50.374437  6.891798   \n",
       "\n",
       "            6         7          8          9    ...       490       491  \\\n",
       "0      1.000000  1.000000   1.000000   1.000000  ...  1.000000  1.000000   \n",
       "1      0.990176  0.996915   1.000200   1.004784  ...  1.010120  0.999838   \n",
       "2      0.981616  1.005907   0.994676   0.994090  ...  1.008072  1.014552   \n",
       "3      1.002938  0.993101   0.998226   1.013230  ...  1.013487  1.007632   \n",
       "4      1.016010  0.986472   1.009305   1.009768  ...  1.010423  1.000075   \n",
       "...         ...       ...        ...        ...  ...       ...       ...   \n",
       "7556  17.313337  7.640079  14.015126  36.867123  ...  6.739108  5.175502   \n",
       "7557  17.280123  7.664730  14.020092  36.963313  ...  6.723089  5.155248   \n",
       "7558  17.155827  7.809062  14.122718  36.978419  ...  6.767540  5.192732   \n",
       "7559  17.109574  7.784783  14.033247  37.217436  ...  6.763819  5.150881   \n",
       "7560  17.114954  7.749362  14.071688  36.735036  ...  6.786104  5.155070   \n",
       "\n",
       "           492       493       494       495       496       497       498  \\\n",
       "0     1.000000  1.000000  1.000000  1.000000  1.000000  1.000000  1.000000   \n",
       "1     1.008532  0.999762  0.991388  0.985920  1.000758  1.006956  1.005277   \n",
       "2     1.003487  1.007422  0.978663  0.977152  1.002423  1.003634  1.015376   \n",
       "3     1.007860  1.010235  0.986157  0.979640  0.993075  1.002612  1.017626   \n",
       "4     1.010457  1.002869  0.983868  0.983083  0.988757  1.015929  0.994731   \n",
       "...        ...       ...       ...       ...       ...       ...       ...   \n",
       "7556  5.867300  9.089223  2.758937  6.570296  3.615038  4.431992  6.055005   \n",
       "7557  5.863867  9.090392  2.791433  6.546288  3.646972  4.506293  5.988253   \n",
       "7558  5.845107  9.009078  2.782401  6.631000  3.615633  4.499348  5.950750   \n",
       "7559  5.845652  9.021204  2.769718  6.631153  3.588888  4.490907  5.988957   \n",
       "7560  5.876209  9.073832  2.769646  6.638944  3.543994  4.485471  6.061263   \n",
       "\n",
       "            499  \n",
       "0      1.000000  \n",
       "1      1.010178  \n",
       "2      0.989250  \n",
       "3      0.981236  \n",
       "4      0.985314  \n",
       "...         ...  \n",
       "7556  23.216142  \n",
       "7557  23.252641  \n",
       "7558  23.188756  \n",
       "7559  23.129012  \n",
       "7560  23.065326  \n",
       "\n",
       "[7561 rows x 500 columns]"
      ]
     },
     "execution_count": 31,
     "metadata": {},
     "output_type": "execute_result"
    }
   ],
   "source": [
    "# Run the Monte Carlo simulation to forecast 30 years cumulative returns\n",
    "MC_60_40_weighted.calc_cumulative_return()"
   ]
  },
  {
   "cell_type": "code",
   "execution_count": 32,
   "metadata": {},
   "outputs": [
    {
     "data": {
      "image/png": "[encoded data removed]",
      "text/plain": [
       "<Figure size 432x288 with 1 Axes>"
      ]
     },
     "metadata": {
      "needs_background": "light"
     },
     "output_type": "display_data"
    }
   ],
   "source": [
    "# Visualize the 30-year Monte Carlo simulation by creating an\n",
    "# overlay line plot\n",
    "thirty_yr_line_plot = MC_60_40_weighted.plot_simulation()"
   ]
  },
  {
   "cell_type": "markdown",
   "metadata": {},
   "source": [
    "#### Step 3: Plot the probability distribution of the Monte Carlo simulation."
   ]
  },
  {
   "cell_type": "code",
   "execution_count": 33,
   "metadata": {},
   "outputs": [
    {
     "data": {
      "image/png": "[encoded data removed]",
      "text/plain": [
       "<Figure size 432x288 with 1 Axes>"
      ]
     },
     "metadata": {
      "needs_background": "light"
     },
     "output_type": "display_data"
    }
   ],
   "source": [
    "# Visualize the probability distribution of the 30-year Monte Carlo simulation \n",
    "# by plotting a histogram\n",
    "thirty_yr_hist_plot = MC_60_40_weighted.plot_distribution()"
   ]
  },
  {
   "cell_type": "markdown",
   "metadata": {},
   "source": [
    "#### Step 4: Generate the summary statistics for the Monte Carlo simulation."
   ]
  },
  {
   "cell_type": "code",
   "execution_count": 34,
   "metadata": {},
   "outputs": [
    {
     "name": "stdout",
     "output_type": "stream",
     "text": [
      "count           500.000000\n",
      "mean             13.095535\n",
      "std              11.434368\n",
      "min               1.247961\n",
      "25%               6.059836\n",
      "50%               9.696034\n",
      "75%              15.776057\n",
      "max              99.828524\n",
      "95% CI Lower      2.398660\n",
      "95% CI Upper     45.782581\n",
      "Name: 7560, dtype: float64\n"
     ]
    }
   ],
   "source": [
    "# Generate summary statistics from the 30-year Monte Carlo simulation results\n",
    "# Save the results as a variable\n",
    "thirty_yr_weighted_table = MC_60_40_weighted.summarize_cumulative_return()\n",
    "\n",
    "\n",
    "# Review the 30-year Monte Carlo summary statistics\n",
    "print(thirty_yr_weighted_table)"
   ]
  },
  {
   "cell_type": "markdown",
   "metadata": {},
   "source": [
    "### Analyze the Retirement Portfolio Forecasts\n",
    "\n",
    "Using the current value of only the stock and bond portion of the member's portfolio and the summary statistics that you generated from the Monte Carlo simulation, answer the following question in your Jupyter notebook:\n",
    "\n",
    "-  What are the lower and upper bounds for the expected value of the portfolio with a 95% confidence interval?\n"
   ]
  },
  {
   "cell_type": "code",
   "execution_count": 35,
   "metadata": {},
   "outputs": [
    {
     "name": "stdout",
     "output_type": "stream",
     "text": [
      "The current value of the SPY stock and AGG bond portion of the members portfolio is $60688.7.\n"
     ]
    }
   ],
   "source": [
    "# Print the current balance of the stock and bond portion of the members portfolio\n",
    "print(f\"The current value of the SPY stock and AGG bond portion of the members portfolio is ${round(total_stocks_bonds, 2)}.\")"
   ]
  },
  {
   "cell_type": "code",
   "execution_count": 36,
   "metadata": {},
   "outputs": [
    {
     "name": "stdout",
     "output_type": "stream",
     "text": [
      "There is a 95% chance that the SPY stock and AGG bond portion of the portfolio with a 60% weight in SPY and 40% weight in AGG over the next 30 years will end within in the range of $145571.53 and $2778485.31.\n"
     ]
    }
   ],
   "source": [
    "# Use the lower and upper `95%` confidence intervals to calculate the range of the possible outcomes for the current stock/bond portfolio\n",
    "ci_lower_thirty_cumulative_return = round(thirty_yr_weighted_table[8] * total_stocks_bonds, 2)\n",
    "ci_upper_thirty_cumulative_return = round(thirty_yr_weighted_table[9] * total_stocks_bonds, 2)\n",
    "\n",
    "# Print the result of your calculations\n",
    "print(f\"There is a 95% chance that the SPY stock and AGG bond portion of the portfolio\"\n",
    "      f\" with a 60% weight in SPY and 40% weight in AGG over the next 30 years will end within in the range of\"\n",
    "      f\" ${ci_lower_thirty_cumulative_return} and ${ci_upper_thirty_cumulative_return}.\")"
   ]
  },
  {
   "cell_type": "markdown",
   "metadata": {},
   "source": [
    "### Forecast Cumulative Returns in 10 Years\n",
    "\n",
    "The CTO of the credit union is impressed with your work on these planning tools but wonders if 30 years is a long time to wait until retirement. So, your next task is to adjust the retirement portfolio and run a new Monte Carlo simulation to find out if the changes will allow members to retire earlier.\n",
    "\n",
    "For this new Monte Carlo simulation, do the following: \n",
    "\n",
    "- Forecast the cumulative returns for 10 years from now. Because of the shortened investment horizon (30 years to 10 years), the portfolio needs to invest more heavily in the riskier asset&mdash;that is, stock&mdash;to help accumulate wealth for retirement. \n",
    "\n",
    "- Adjust the weights of the retirement portfolio so that the composition for the Monte Carlo simulation consists of 20% bonds and 80% stocks. \n",
    "\n",
    "- Run the simulation over 500 samples, and use the same data that the API call to Alpaca generated.\n",
    "\n",
    "- Based on the new Monte Carlo simulation, answer the following questions in your Jupyter notebook:\n",
    "\n",
    "    - Using the current value of only the stock and bond portion of the member's portfolio and the summary statistics that you generated from the new Monte Carlo simulation, what are the lower and upper bounds for the expected value of the portfolio (with the new weights) with a 95% confidence interval?\n",
    "\n",
    "    - Will weighting the portfolio more heavily toward stocks allow the credit union members to retire after only 10 years?\n"
   ]
  },
  {
   "cell_type": "code",
   "execution_count": 37,
   "metadata": {},
   "outputs": [
    {
     "name": "stdout",
     "output_type": "stream",
     "text": [
      "                              SPY                                     \\\n",
      "                             open    high     low   close     volume   \n",
      "timestamp                                                              \n",
      "2017-08-07 04:00:00+00:00  247.50  247.87  247.37  247.87   31995021   \n",
      "2017-08-08 04:00:00+00:00  247.49  248.91  246.83  247.26   61719353   \n",
      "2017-08-09 04:00:00+00:00  246.46  247.31  246.06  247.25   62632619   \n",
      "2017-08-10 04:00:00+00:00  246.30  246.44  243.70  243.76  120418270   \n",
      "2017-08-11 04:00:00+00:00  244.00  244.80  243.75  244.12   74869947   \n",
      "\n",
      "                                                                   AGG  \\\n",
      "                          trade_count        vwap daily_return    open   \n",
      "timestamp                                                                \n",
      "2017-08-07 04:00:00+00:00      100111  247.668698          NaN  109.69   \n",
      "2017-08-08 04:00:00+00:00      192921  247.739709    -0.002461  109.67   \n",
      "2017-08-09 04:00:00+00:00      223650  246.791421    -0.000040  109.87   \n",
      "2017-08-10 04:00:00+00:00      424321  245.027847    -0.014115  109.70   \n",
      "2017-08-11 04:00:00+00:00      278786  244.222867     0.001477  109.75   \n",
      "\n",
      "                                                                          \\\n",
      "                             high       low   close   volume trade_count   \n",
      "timestamp                                                                  \n",
      "2017-08-07 04:00:00+00:00  109.72  109.6066  109.67  2359826        7755   \n",
      "2017-08-08 04:00:00+00:00  109.69  109.5000  109.57  2570876       12663   \n",
      "2017-08-09 04:00:00+00:00  109.87  109.6600  109.67  2308932       11031   \n",
      "2017-08-10 04:00:00+00:00  109.85  109.6700  109.78  2004163       12437   \n",
      "2017-08-11 04:00:00+00:00  109.94  109.6800  109.87  1913253       10113   \n",
      "\n",
      "                                                    \n",
      "                                 vwap daily_return  \n",
      "timestamp                                           \n",
      "2017-08-07 04:00:00+00:00  109.674876          NaN  \n",
      "2017-08-08 04:00:00+00:00  109.577636    -0.000912  \n",
      "2017-08-09 04:00:00+00:00  109.771749     0.000913  \n",
      "2017-08-10 04:00:00+00:00  109.776611     0.001003  \n",
      "2017-08-11 04:00:00+00:00  109.860974     0.000820  \n"
     ]
    }
   ],
   "source": [
    "# Configure a Monte Carlo simulation to forecast 10 years cumulative returns\n",
    "# The weights should be split 20% to AGG and 80% to SPY.\n",
    "# Run 500 samples.\n",
    "MC_80_20_weighted = MCSimulation(portfolio_data = prices_3_yr_df,\n",
    "                                 weights = [.80, .20],\n",
    "                                 num_simulation = 500,\n",
    "                                 num_trading_days = 252 * 10)\n",
    "\n",
    "# Review the simulation input data\n",
    "print(MC_80_20_weighted.portfolio_data.head())"
   ]
  },
  {
   "cell_type": "code",
   "execution_count": 38,
   "metadata": {},
   "outputs": [
    {
     "name": "stdout",
     "output_type": "stream",
     "text": [
      "Running Monte Carlo simulation number 0.\n",
      "Running Monte Carlo simulation number 10.\n",
      "Running Monte Carlo simulation number 20.\n",
      "Running Monte Carlo simulation number 30.\n",
      "Running Monte Carlo simulation number 40.\n",
      "Running Monte Carlo simulation number 50.\n",
      "Running Monte Carlo simulation number 60.\n",
      "Running Monte Carlo simulation number 70.\n",
      "Running Monte Carlo simulation number 80.\n",
      "Running Monte Carlo simulation number 90.\n",
      "Running Monte Carlo simulation number 100.\n"
     ]
    },
    {
     "name": "stderr",
     "output_type": "stream",
     "text": [
      "C:\\Users\\drew9\\Bootcamp\\UC Berkeley Extension Fintech\\Coursework\\Module 5\\Module 5 Challenge\\Repo\\Financial_Planner_API_Simulations\\MCForecastTools.py:117: PerformanceWarning: DataFrame is highly fragmented.  This is usually the result of calling `frame.insert` many times, which has poor performance.  Consider joining all columns at once using pd.concat(axis=1) instead.  To get a de-fragmented frame, use `newframe = frame.copy()`\n",
      "  portfolio_cumulative_returns[n] = (1 + sim_df.fillna(0)).cumprod()\n"
     ]
    },
    {
     "name": "stdout",
     "output_type": "stream",
     "text": [
      "Running Monte Carlo simulation number 110.\n",
      "Running Monte Carlo simulation number 120.\n",
      "Running Monte Carlo simulation number 130.\n",
      "Running Monte Carlo simulation number 140.\n",
      "Running Monte Carlo simulation number 150.\n",
      "Running Monte Carlo simulation number 160.\n",
      "Running Monte Carlo simulation number 170.\n",
      "Running Monte Carlo simulation number 180.\n",
      "Running Monte Carlo simulation number 190.\n",
      "Running Monte Carlo simulation number 200.\n",
      "Running Monte Carlo simulation number 210.\n",
      "Running Monte Carlo simulation number 220.\n",
      "Running Monte Carlo simulation number 230.\n",
      "Running Monte Carlo simulation number 240.\n",
      "Running Monte Carlo simulation number 250.\n",
      "Running Monte Carlo simulation number 260.\n",
      "Running Monte Carlo simulation number 270.\n",
      "Running Monte Carlo simulation number 280.\n",
      "Running Monte Carlo simulation number 290.\n",
      "Running Monte Carlo simulation number 300.\n",
      "Running Monte Carlo simulation number 310.\n",
      "Running Monte Carlo simulation number 320.\n",
      "Running Monte Carlo simulation number 330.\n",
      "Running Monte Carlo simulation number 340.\n",
      "Running Monte Carlo simulation number 350.\n",
      "Running Monte Carlo simulation number 360.\n",
      "Running Monte Carlo simulation number 370.\n",
      "Running Monte Carlo simulation number 380.\n",
      "Running Monte Carlo simulation number 390.\n",
      "Running Monte Carlo simulation number 400.\n",
      "Running Monte Carlo simulation number 410.\n",
      "Running Monte Carlo simulation number 420.\n",
      "Running Monte Carlo simulation number 430.\n",
      "Running Monte Carlo simulation number 440.\n",
      "Running Monte Carlo simulation number 450.\n",
      "Running Monte Carlo simulation number 460.\n",
      "Running Monte Carlo simulation number 470.\n",
      "Running Monte Carlo simulation number 480.\n",
      "Running Monte Carlo simulation number 490.\n"
     ]
    },
    {
     "data": {
      "text/html": [
       "<div>\n",
       "<style scoped>\n",
       "    .dataframe tbody tr th:only-of-type {\n",
       "        vertical-align: middle;\n",
       "    }\n",
       "\n",
       "    .dataframe tbody tr th {\n",
       "        vertical-align: top;\n",
       "    }\n",
       "\n",
       "    .dataframe thead th {\n",
       "        text-align: right;\n",
       "    }\n",
       "</style>\n",
       "<table border=\"1\" class=\"dataframe\">\n",
       "  <thead>\n",
       "    <tr style=\"text-align: right;\">\n",
       "      <th></th>\n",
       "      <th>0</th>\n",
       "      <th>1</th>\n",
       "      <th>2</th>\n",
       "      <th>3</th>\n",
       "      <th>4</th>\n",
       "      <th>5</th>\n",
       "      <th>6</th>\n",
       "      <th>7</th>\n",
       "      <th>8</th>\n",
       "      <th>9</th>\n",
       "      <th>...</th>\n",
       "      <th>490</th>\n",
       "      <th>491</th>\n",
       "      <th>492</th>\n",
       "      <th>493</th>\n",
       "      <th>494</th>\n",
       "      <th>495</th>\n",
       "      <th>496</th>\n",
       "      <th>497</th>\n",
       "      <th>498</th>\n",
       "      <th>499</th>\n",
       "    </tr>\n",
       "  </thead>\n",
       "  <tbody>\n",
       "    <tr>\n",
       "      <th>0</th>\n",
       "      <td>1.000000</td>\n",
       "      <td>1.000000</td>\n",
       "      <td>1.000000</td>\n",
       "      <td>1.000000</td>\n",
       "      <td>1.000000</td>\n",
       "      <td>1.000000</td>\n",
       "      <td>1.000000</td>\n",
       "      <td>1.000000</td>\n",
       "      <td>1.000000</td>\n",
       "      <td>1.000000</td>\n",
       "      <td>...</td>\n",
       "      <td>1.000000</td>\n",
       "      <td>1.000000</td>\n",
       "      <td>1.000000</td>\n",
       "      <td>1.000000</td>\n",
       "      <td>1.000000</td>\n",
       "      <td>1.000000</td>\n",
       "      <td>1.000000</td>\n",
       "      <td>1.000000</td>\n",
       "      <td>1.000000</td>\n",
       "      <td>1.000000</td>\n",
       "    </tr>\n",
       "    <tr>\n",
       "      <th>1</th>\n",
       "      <td>0.980366</td>\n",
       "      <td>0.996106</td>\n",
       "      <td>0.995459</td>\n",
       "      <td>1.018909</td>\n",
       "      <td>0.981639</td>\n",
       "      <td>0.992531</td>\n",
       "      <td>1.002910</td>\n",
       "      <td>1.009156</td>\n",
       "      <td>1.006619</td>\n",
       "      <td>1.002882</td>\n",
       "      <td>...</td>\n",
       "      <td>1.026217</td>\n",
       "      <td>0.997421</td>\n",
       "      <td>1.002226</td>\n",
       "      <td>1.002606</td>\n",
       "      <td>0.997475</td>\n",
       "      <td>0.999600</td>\n",
       "      <td>0.987939</td>\n",
       "      <td>0.993859</td>\n",
       "      <td>0.993904</td>\n",
       "      <td>0.992333</td>\n",
       "    </tr>\n",
       "    <tr>\n",
       "      <th>2</th>\n",
       "      <td>0.968518</td>\n",
       "      <td>0.997665</td>\n",
       "      <td>1.002446</td>\n",
       "      <td>1.029913</td>\n",
       "      <td>0.987567</td>\n",
       "      <td>1.007499</td>\n",
       "      <td>1.010599</td>\n",
       "      <td>1.004532</td>\n",
       "      <td>1.020886</td>\n",
       "      <td>1.014284</td>\n",
       "      <td>...</td>\n",
       "      <td>1.021999</td>\n",
       "      <td>1.007960</td>\n",
       "      <td>0.987925</td>\n",
       "      <td>0.994541</td>\n",
       "      <td>1.012248</td>\n",
       "      <td>0.993458</td>\n",
       "      <td>0.995189</td>\n",
       "      <td>0.994988</td>\n",
       "      <td>0.990016</td>\n",
       "      <td>0.979453</td>\n",
       "    </tr>\n",
       "    <tr>\n",
       "      <th>3</th>\n",
       "      <td>0.979652</td>\n",
       "      <td>0.997086</td>\n",
       "      <td>1.007994</td>\n",
       "      <td>1.044007</td>\n",
       "      <td>0.955340</td>\n",
       "      <td>1.009230</td>\n",
       "      <td>1.010727</td>\n",
       "      <td>0.994917</td>\n",
       "      <td>1.025023</td>\n",
       "      <td>1.028617</td>\n",
       "      <td>...</td>\n",
       "      <td>1.029052</td>\n",
       "      <td>1.007941</td>\n",
       "      <td>0.974340</td>\n",
       "      <td>0.982871</td>\n",
       "      <td>1.004724</td>\n",
       "      <td>0.986681</td>\n",
       "      <td>0.991316</td>\n",
       "      <td>0.989563</td>\n",
       "      <td>1.006152</td>\n",
       "      <td>0.981926</td>\n",
       "    </tr>\n",
       "    <tr>\n",
       "      <th>4</th>\n",
       "      <td>0.955528</td>\n",
       "      <td>0.993414</td>\n",
       "      <td>1.015216</td>\n",
       "      <td>1.032314</td>\n",
       "      <td>0.960231</td>\n",
       "      <td>0.993569</td>\n",
       "      <td>1.018906</td>\n",
       "      <td>0.987146</td>\n",
       "      <td>1.028737</td>\n",
       "      <td>1.008288</td>\n",
       "      <td>...</td>\n",
       "      <td>1.008161</td>\n",
       "      <td>0.980537</td>\n",
       "      <td>0.979911</td>\n",
       "      <td>0.979840</td>\n",
       "      <td>1.021626</td>\n",
       "      <td>0.996135</td>\n",
       "      <td>0.987359</td>\n",
       "      <td>0.992777</td>\n",
       "      <td>1.006838</td>\n",
       "      <td>0.969034</td>\n",
       "    </tr>\n",
       "    <tr>\n",
       "      <th>...</th>\n",
       "      <td>...</td>\n",
       "      <td>...</td>\n",
       "      <td>...</td>\n",
       "      <td>...</td>\n",
       "      <td>...</td>\n",
       "      <td>...</td>\n",
       "      <td>...</td>\n",
       "      <td>...</td>\n",
       "      <td>...</td>\n",
       "      <td>...</td>\n",
       "      <td>...</td>\n",
       "      <td>...</td>\n",
       "      <td>...</td>\n",
       "      <td>...</td>\n",
       "      <td>...</td>\n",
       "      <td>...</td>\n",
       "      <td>...</td>\n",
       "      <td>...</td>\n",
       "      <td>...</td>\n",
       "      <td>...</td>\n",
       "      <td>...</td>\n",
       "    </tr>\n",
       "    <tr>\n",
       "      <th>2516</th>\n",
       "      <td>2.752592</td>\n",
       "      <td>2.367780</td>\n",
       "      <td>3.389454</td>\n",
       "      <td>6.099406</td>\n",
       "      <td>1.571337</td>\n",
       "      <td>6.216875</td>\n",
       "      <td>5.607187</td>\n",
       "      <td>2.543933</td>\n",
       "      <td>3.274703</td>\n",
       "      <td>2.633625</td>\n",
       "      <td>...</td>\n",
       "      <td>1.195422</td>\n",
       "      <td>4.100308</td>\n",
       "      <td>2.693085</td>\n",
       "      <td>2.156159</td>\n",
       "      <td>3.273015</td>\n",
       "      <td>5.765844</td>\n",
       "      <td>1.592257</td>\n",
       "      <td>1.296359</td>\n",
       "      <td>2.494085</td>\n",
       "      <td>5.960711</td>\n",
       "    </tr>\n",
       "    <tr>\n",
       "      <th>2517</th>\n",
       "      <td>2.751378</td>\n",
       "      <td>2.375659</td>\n",
       "      <td>3.360461</td>\n",
       "      <td>6.040406</td>\n",
       "      <td>1.579291</td>\n",
       "      <td>6.279179</td>\n",
       "      <td>5.535459</td>\n",
       "      <td>2.525237</td>\n",
       "      <td>3.307425</td>\n",
       "      <td>2.608885</td>\n",
       "      <td>...</td>\n",
       "      <td>1.190152</td>\n",
       "      <td>4.146109</td>\n",
       "      <td>2.682884</td>\n",
       "      <td>2.147041</td>\n",
       "      <td>3.279012</td>\n",
       "      <td>5.700168</td>\n",
       "      <td>1.592912</td>\n",
       "      <td>1.298463</td>\n",
       "      <td>2.557734</td>\n",
       "      <td>5.950171</td>\n",
       "    </tr>\n",
       "    <tr>\n",
       "      <th>2518</th>\n",
       "      <td>2.739046</td>\n",
       "      <td>2.362619</td>\n",
       "      <td>3.365170</td>\n",
       "      <td>6.022059</td>\n",
       "      <td>1.565169</td>\n",
       "      <td>6.379430</td>\n",
       "      <td>5.667377</td>\n",
       "      <td>2.498718</td>\n",
       "      <td>3.312560</td>\n",
       "      <td>2.595601</td>\n",
       "      <td>...</td>\n",
       "      <td>1.179038</td>\n",
       "      <td>4.145619</td>\n",
       "      <td>2.714073</td>\n",
       "      <td>2.158376</td>\n",
       "      <td>3.242328</td>\n",
       "      <td>5.625546</td>\n",
       "      <td>1.598684</td>\n",
       "      <td>1.299727</td>\n",
       "      <td>2.550430</td>\n",
       "      <td>5.937599</td>\n",
       "    </tr>\n",
       "    <tr>\n",
       "      <th>2519</th>\n",
       "      <td>2.787976</td>\n",
       "      <td>2.288467</td>\n",
       "      <td>3.432134</td>\n",
       "      <td>6.138080</td>\n",
       "      <td>1.596868</td>\n",
       "      <td>6.348704</td>\n",
       "      <td>5.648986</td>\n",
       "      <td>2.513659</td>\n",
       "      <td>3.374651</td>\n",
       "      <td>2.635599</td>\n",
       "      <td>...</td>\n",
       "      <td>1.191440</td>\n",
       "      <td>4.239773</td>\n",
       "      <td>2.669958</td>\n",
       "      <td>2.185459</td>\n",
       "      <td>3.196932</td>\n",
       "      <td>5.598379</td>\n",
       "      <td>1.600329</td>\n",
       "      <td>1.305103</td>\n",
       "      <td>2.559976</td>\n",
       "      <td>5.992266</td>\n",
       "    </tr>\n",
       "    <tr>\n",
       "      <th>2520</th>\n",
       "      <td>2.746345</td>\n",
       "      <td>2.231318</td>\n",
       "      <td>3.416351</td>\n",
       "      <td>6.189787</td>\n",
       "      <td>1.605421</td>\n",
       "      <td>6.289495</td>\n",
       "      <td>5.623469</td>\n",
       "      <td>2.522667</td>\n",
       "      <td>3.337594</td>\n",
       "      <td>2.646016</td>\n",
       "      <td>...</td>\n",
       "      <td>1.192481</td>\n",
       "      <td>4.277556</td>\n",
       "      <td>2.671707</td>\n",
       "      <td>2.159201</td>\n",
       "      <td>3.219735</td>\n",
       "      <td>5.660053</td>\n",
       "      <td>1.613145</td>\n",
       "      <td>1.306783</td>\n",
       "      <td>2.531525</td>\n",
       "      <td>5.985811</td>\n",
       "    </tr>\n",
       "  </tbody>\n",
       "</table>\n",
       "<p>2521 rows × 500 columns</p>\n",
       "</div>"
      ],
      "text/plain": [
       "           0         1         2         3         4         5         6    \\\n",
       "0     1.000000  1.000000  1.000000  1.000000  1.000000  1.000000  1.000000   \n",
       "1     0.980366  0.996106  0.995459  1.018909  0.981639  0.992531  1.002910   \n",
       "2     0.968518  0.997665  1.002446  1.029913  0.987567  1.007499  1.010599   \n",
       "3     0.979652  0.997086  1.007994  1.044007  0.955340  1.009230  1.010727   \n",
       "4     0.955528  0.993414  1.015216  1.032314  0.960231  0.993569  1.018906   \n",
       "...        ...       ...       ...       ...       ...       ...       ...   \n",
       "2516  2.752592  2.367780  3.389454  6.099406  1.571337  6.216875  5.607187   \n",
       "2517  2.751378  2.375659  3.360461  6.040406  1.579291  6.279179  5.535459   \n",
       "2518  2.739046  2.362619  3.365170  6.022059  1.565169  6.379430  5.667377   \n",
       "2519  2.787976  2.288467  3.432134  6.138080  1.596868  6.348704  5.648986   \n",
       "2520  2.746345  2.231318  3.416351  6.189787  1.605421  6.289495  5.623469   \n",
       "\n",
       "           7         8         9    ...       490       491       492  \\\n",
       "0     1.000000  1.000000  1.000000  ...  1.000000  1.000000  1.000000   \n",
       "1     1.009156  1.006619  1.002882  ...  1.026217  0.997421  1.002226   \n",
       "2     1.004532  1.020886  1.014284  ...  1.021999  1.007960  0.987925   \n",
       "3     0.994917  1.025023  1.028617  ...  1.029052  1.007941  0.974340   \n",
       "4     0.987146  1.028737  1.008288  ...  1.008161  0.980537  0.979911   \n",
       "...        ...       ...       ...  ...       ...       ...       ...   \n",
       "2516  2.543933  3.274703  2.633625  ...  1.195422  4.100308  2.693085   \n",
       "2517  2.525237  3.307425  2.608885  ...  1.190152  4.146109  2.682884   \n",
       "2518  2.498718  3.312560  2.595601  ...  1.179038  4.145619  2.714073   \n",
       "2519  2.513659  3.374651  2.635599  ...  1.191440  4.239773  2.669958   \n",
       "2520  2.522667  3.337594  2.646016  ...  1.192481  4.277556  2.671707   \n",
       "\n",
       "           493       494       495       496       497       498       499  \n",
       "0     1.000000  1.000000  1.000000  1.000000  1.000000  1.000000  1.000000  \n",
       "1     1.002606  0.997475  0.999600  0.987939  0.993859  0.993904  0.992333  \n",
       "2     0.994541  1.012248  0.993458  0.995189  0.994988  0.990016  0.979453  \n",
       "3     0.982871  1.004724  0.986681  0.991316  0.989563  1.006152  0.981926  \n",
       "4     0.979840  1.021626  0.996135  0.987359  0.992777  1.006838  0.969034  \n",
       "...        ...       ...       ...       ...       ...       ...       ...  \n",
       "2516  2.156159  3.273015  5.765844  1.592257  1.296359  2.494085  5.960711  \n",
       "2517  2.147041  3.279012  5.700168  1.592912  1.298463  2.557734  5.950171  \n",
       "2518  2.158376  3.242328  5.625546  1.598684  1.299727  2.550430  5.937599  \n",
       "2519  2.185459  3.196932  5.598379  1.600329  1.305103  2.559976  5.992266  \n",
       "2520  2.159201  3.219735  5.660053  1.613145  1.306783  2.531525  5.985811  \n",
       "\n",
       "[2521 rows x 500 columns]"
      ]
     },
     "execution_count": 38,
     "metadata": {},
     "output_type": "execute_result"
    }
   ],
   "source": [
    "# Run the Monte Carlo simulation to forecast 10 years cumulative returns\n",
    "MC_80_20_weighted.calc_cumulative_return()"
   ]
  },
  {
   "cell_type": "code",
   "execution_count": 39,
   "metadata": {},
   "outputs": [
    {
     "data": {
      "image/png": "[encoded data removed]",
      "text/plain": [
       "<Figure size 432x288 with 1 Axes>"
      ]
     },
     "metadata": {
      "needs_background": "light"
     },
     "output_type": "display_data"
    }
   ],
   "source": [
    "# Visualize the 10-year Monte Carlo simulation by creating an\n",
    "# overlay line plot\n",
    "ten_yr_line_plot = MC_80_20_weighted.plot_simulation()"
   ]
  },
  {
   "cell_type": "code",
   "execution_count": 40,
   "metadata": {},
   "outputs": [
    {
     "data": {
      "image/png": "[encoded data removed]",
      "text/plain": [
       "<Figure size 432x288 with 1 Axes>"
      ]
     },
     "metadata": {
      "needs_background": "light"
     },
     "output_type": "display_data"
    }
   ],
   "source": [
    "# Visualize the probability distribution of the 10-year Monte Carlo simulation \n",
    "# by plotting a histogram\n",
    "ten_yr_hist_plot = MC_80_20_weighted.plot_distribution()"
   ]
  },
  {
   "cell_type": "code",
   "execution_count": 41,
   "metadata": {},
   "outputs": [
    {
     "name": "stdout",
     "output_type": "stream",
     "text": [
      "count           500.000000\n",
      "mean              2.882769\n",
      "std               1.744532\n",
      "min               0.446860\n",
      "25%               1.687186\n",
      "50%               2.430734\n",
      "75%               3.555720\n",
      "max              11.813461\n",
      "95% CI Lower      0.882411\n",
      "95% CI Upper      7.035466\n",
      "Name: 2520, dtype: float64\n"
     ]
    }
   ],
   "source": [
    "# Generate summary statistics from the 10-year Monte Carlo simulation results\n",
    "# Save the results as a variable\n",
    "ten_yr_weighted_table = MC_80_20_weighted.summarize_cumulative_return()\n",
    "\n",
    "\n",
    "# Review the 10-year Monte Carlo summary statistics\n",
    "print(ten_yr_weighted_table)"
   ]
  },
  {
   "cell_type": "markdown",
   "metadata": {},
   "source": [
    "### Answer the following questions:"
   ]
  },
  {
   "cell_type": "markdown",
   "metadata": {},
   "source": [
    "#### Question: Using the current value of only the stock and bond portion of the member's portfolio and the summary statistics that you generated from the new Monte Carlo simulation, what are the lower and upper bounds for the expected value of the portfolio (with the new weights) with a 95% confidence interval?"
   ]
  },
  {
   "cell_type": "code",
   "execution_count": 42,
   "metadata": {},
   "outputs": [
    {
     "name": "stdout",
     "output_type": "stream",
     "text": [
      "The current value of the SPY stock and AGG bond portion of the members portfolio is $60688.7.\n"
     ]
    }
   ],
   "source": [
    "# Print the current balance of the stock and bond portion of the members portfolio\n",
    "print(f\"The current value of the SPY stock and AGG bond portion of the members portfolio is ${round(total_stocks_bonds, 2)}.\")"
   ]
  },
  {
   "cell_type": "code",
   "execution_count": 43,
   "metadata": {},
   "outputs": [
    {
     "name": "stdout",
     "output_type": "stream",
     "text": [
      "There is a 95% chance that the SPY stock and AGG bond portion of the portfolio with a 80% weight in SPY and 20% weight in AGG over the next 30 years will end within in the range of $53552.4 and $426973.31.\n"
     ]
    }
   ],
   "source": [
    "# Use the lower and upper `95%` confidence intervals to calculate the range of the possible outcomes for the current stock/bond portfolio\n",
    "ci_lower_ten_cumulative_return = round(ten_yr_weighted_table[8] * total_stocks_bonds, 2)\n",
    "ci_upper_ten_cumulative_return = round(ten_yr_weighted_table[9] * total_stocks_bonds, 2)\n",
    "\n",
    "# Print the result of your calculations\n",
    "print(f\"There is a 95% chance that the SPY stock and AGG bond portion of the portfolio\"\n",
    "      f\" with a 80% weight in SPY and 20% weight in AGG over the next 30 years will end within in the range of\"\n",
    "      f\" ${ci_lower_ten_cumulative_return} and ${ci_upper_ten_cumulative_return}.\")"
   ]
  },
  {
   "cell_type": "markdown",
   "metadata": {},
   "source": [
    "#### Question: Will weighting the portfolio more heavily to stocks allow the credit union members to retire after only 10 years?"
   ]
  },
  {
   "cell_type": "raw",
   "metadata": {},
   "source": [
    "**Answer** No the weighting of 80% stocks to 20% bonds only has an upper return of less than 1/2 a million dollars.  Thus, this wouldn't be enough for the credit union members to retire with after only 10 years."
   ]
  }
 ],
 "metadata": {
  "kernelspec": {
   "display_name": "Python 3 (ipykernel)",
   "language": "python",
   "name": "python3"
  },
  "language_info": {
   "codemirror_mode": {
    "name": "ipython",
    "version": 3
   },
   "file_extension": ".py",
   "mimetype": "text/x-python",
   "name": "python",
   "nbconvert_exporter": "python",
   "pygments_lexer": "ipython3",
   "version": "3.7.13"
  }
 },
 "nbformat": 4,
 "nbformat_minor": 4
}
