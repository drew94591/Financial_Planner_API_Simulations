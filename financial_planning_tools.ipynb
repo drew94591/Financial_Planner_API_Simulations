{
 "cells": [
  {
   "cell_type": "markdown",
   "metadata": {},
   "source": [
    "# Financial Planning with APIs and Simulations\n",
    "\n",
    "The application will forecast the performance of a retirement portfolio in 30 years by analyzing the current savings and determining if there are enough reserves for an emergency fund.\n"
   ]
  },
  {
   "cell_type": "markdown",
   "metadata": {},
   "source": [
    "### Import the required libraries and dependencies"
   ]
  },
  {
   "cell_type": "code",
   "execution_count": 1,
   "metadata": {},
   "outputs": [],
   "source": [
    "\n",
    "import os\n",
    "import requests\n",
    "import json\n",
    "import pandas as pd\n",
    "from dotenv import load_dotenv\n",
    "import alpaca_trade_api as tradeapi\n",
    "from MCForecastTools import MCSimulation\n",
    "\n",
    "%matplotlib inline"
   ]
  },
  {
   "cell_type": "code",
   "execution_count": 2,
   "metadata": {},
   "outputs": [
    {
     "data": {
      "text/plain": [
       "True"
      ]
     },
     "execution_count": 2,
     "metadata": {},
     "output_type": "execute_result"
    }
   ],
   "source": [
    "# Load the environment variables from the .env file by calling the load_dotenv function\n",
    "load_dotenv()"
   ]
  },
  {
   "cell_type": "markdown",
   "metadata": {},
   "source": [
    "## Part 1: Create a Financial Planner for Emergencies"
   ]
  },
  {
   "cell_type": "markdown",
   "metadata": {},
   "source": [
    "### Evaluate the Cryptocurrency Wallet by Using the Requests Library\n"
   ]
  },
  {
   "cell_type": "code",
   "execution_count": 3,
   "metadata": {},
   "outputs": [],
   "source": [
    "# The current number of coins for each cryptocurrency asset held in the portfolio.\n",
    "btc_coins = 1.2\n",
    "eth_coins = 5.3"
   ]
  },
  {
   "cell_type": "markdown",
   "metadata": {},
   "source": [
    "#### Step 1: Create a variable named `monthly_income`, and set its value to `12000`."
   ]
  },
  {
   "cell_type": "code",
   "execution_count": 4,
   "metadata": {},
   "outputs": [],
   "source": [
    "# The monthly amount for the member's household income\n",
    "monthly_income = 12000"
   ]
  },
  {
   "cell_type": "markdown",
   "metadata": {},
   "source": [
    "#### Review the endpoint URLs for the API calls to Free Crypto API in order to get the current pricing information for both BTC and ETH."
   ]
  },
  {
   "cell_type": "code",
   "execution_count": 5,
   "metadata": {},
   "outputs": [],
   "source": [
    "# The Free Crypto API Call endpoint URLs for the held cryptocurrency assets\n",
    "btc_url = \"https://api.alternative.me/v2/ticker/Bitcoin/?convert=USD\"\n",
    "eth_url = \"https://api.alternative.me/v2/ticker/Ethereum/?convert=USD\""
   ]
  },
  {
   "cell_type": "markdown",
   "metadata": {},
   "source": [
    "#### Step 2. Use the Requests library to get the current price (in US dollars) of Bitcoin (BTC) and Ethereum (ETH) by using the API endpoints that the starter code supplied."
   ]
  },
  {
   "cell_type": "code",
   "execution_count": 6,
   "metadata": {},
   "outputs": [
    {
     "name": "stdout",
     "output_type": "stream",
     "text": [
      "{\n",
      "    \"data\": {\n",
      "        \"1\": {\n",
      "            \"circulating_supply\": 19104400,\n",
      "            \"id\": 1,\n",
      "            \"last_updated\": 1658885340,\n",
      "            \"max_supply\": 21000000,\n",
      "            \"name\": \"Bitcoin\",\n",
      "            \"quotes\": {\n",
      "                \"USD\": {\n",
      "                    \"market_cap\": 404717418415,\n",
      "                    \"percent_change_1h\": -0.228973263195073,\n",
      "                    \"percent_change_24h\": 0.42831415096264,\n",
      "                    \"percent_change_7d\": -9.38982476558802,\n",
      "                    \"percentage_change_1h\": -0.228973263195073,\n",
      "                    \"percentage_change_24h\": 0.42831415096264,\n",
      "                    \"percentage_change_7d\": -9.38982476558802,\n",
      "                    \"price\": 21173.0,\n",
      "                    \"volume_24h\": 51464524830\n",
      "                }\n",
      "            },\n",
      "            \"rank\": 1,\n",
      "            \"symbol\": \"BTC\",\n",
      "            \"total_supply\": 19104400,\n",
      "            \"website_slug\": \"bitcoin\"\n",
      "        }\n",
      "    },\n",
      "    \"metadata\": {\n",
      "        \"error\": null,\n",
      "        \"num_cryptocurrencies\": 3116,\n",
      "        \"timestamp\": 1658885340\n",
      "    }\n",
      "}\n"
     ]
    }
   ],
   "source": [
    "# Using the Python requests library, make an API call to access the current price of BTC\n",
    "btc_response = requests.get(btc_url).json()\n",
    "\n",
    "# Use the json.dumps function to review the response data from the API call\n",
    "print(json.dumps(btc_response, indent=4, sort_keys=True))"
   ]
  },
  {
   "cell_type": "code",
   "execution_count": 7,
   "metadata": {},
   "outputs": [
    {
     "name": "stdout",
     "output_type": "stream",
     "text": [
      "{\n",
      "    \"data\": {\n",
      "        \"1027\": {\n",
      "            \"circulating_supply\": 119840556,\n",
      "            \"id\": 1027,\n",
      "            \"last_updated\": 1658885338,\n",
      "            \"max_supply\": 119840556,\n",
      "            \"name\": \"Ethereum\",\n",
      "            \"quotes\": {\n",
      "                \"USD\": {\n",
      "                    \"market_cap\": 172735119079,\n",
      "                    \"percent_change_1h\": -0.667371666493364,\n",
      "                    \"percent_change_24h\": 1.29789598344354,\n",
      "                    \"percent_change_7d\": -6.7439578618638,\n",
      "                    \"percentage_change_1h\": -0.667371666493364,\n",
      "                    \"percentage_change_24h\": 1.29789598344354,\n",
      "                    \"percentage_change_7d\": -6.7439578618638,\n",
      "                    \"price\": 1438.6,\n",
      "                    \"volume_24h\": 16290761117\n",
      "                }\n",
      "            },\n",
      "            \"rank\": 2,\n",
      "            \"symbol\": \"ETH\",\n",
      "            \"total_supply\": 119840556,\n",
      "            \"website_slug\": \"ethereum\"\n",
      "        }\n",
      "    },\n",
      "    \"metadata\": {\n",
      "        \"error\": null,\n",
      "        \"num_cryptocurrencies\": 3116,\n",
      "        \"timestamp\": 1658885338\n",
      "    }\n",
      "}\n"
     ]
    }
   ],
   "source": [
    "# Using the Python requests library, make an API call to access the current price ETH\n",
    "eth_response = requests.get(eth_url).json()\n",
    "\n",
    "# Use the json.dumps function to review the response data from the API call\n",
    "print(json.dumps(eth_response, indent=4, sort_keys=True))"
   ]
  },
  {
   "cell_type": "markdown",
   "metadata": {},
   "source": [
    "#### Step 3: Navigate the JSON response object to access the current price of each coin, and store each in a variable."
   ]
  },
  {
   "cell_type": "code",
   "execution_count": 8,
   "metadata": {},
   "outputs": [
    {
     "name": "stdout",
     "output_type": "stream",
     "text": [
      "The current price of BTC is $21173.0.\n"
     ]
    }
   ],
   "source": [
    "# Navigate the BTC response object to access the current price of BTC\n",
    "btc_price = btc_response[\"data\"][\"1\"][\"quotes\"][\"USD\"][\"price\"]\n",
    "\n",
    "# Print the current price of BTC\n",
    "print(f\"The current price of BTC is ${round(btc_price, 2)}.\")"
   ]
  },
  {
   "cell_type": "code",
   "execution_count": 9,
   "metadata": {},
   "outputs": [
    {
     "name": "stdout",
     "output_type": "stream",
     "text": [
      "The current price of ETH is $1438.6.\n"
     ]
    }
   ],
   "source": [
    "# Navigate the BTC response object to access the current price of ETH\n",
    "eth_price = eth_response[\"data\"][\"1027\"][\"quotes\"][\"USD\"][\"price\"]\n",
    "\n",
    "# Print the current price of ETH\n",
    "print(f\"The current price of ETH is ${round(eth_price, 2)}.\")"
   ]
  },
  {
   "cell_type": "markdown",
   "metadata": {},
   "source": [
    "### Step 4: Calculate the value, in US dollars, of the current amount of each cryptocurrency and of the entire cryptocurrency wallet."
   ]
  },
  {
   "cell_type": "code",
   "execution_count": 10,
   "metadata": {},
   "outputs": [
    {
     "name": "stdout",
     "output_type": "stream",
     "text": [
      "The current value of BTC holding is $25407.6.\n"
     ]
    }
   ],
   "source": [
    "# Compute the current value of the BTC holding \n",
    "btc_value = btc_price * btc_coins\n",
    "\n",
    "# Print current value of your holding in BTC\n",
    "print(f\"The current value of BTC holding is ${round(btc_value, 2)}.\")"
   ]
  },
  {
   "cell_type": "code",
   "execution_count": 11,
   "metadata": {},
   "outputs": [
    {
     "name": "stdout",
     "output_type": "stream",
     "text": [
      "The current value of ETH holding is $7624.58.\n"
     ]
    }
   ],
   "source": [
    "# Compute the current value of the ETH holding \n",
    "eth_value = eth_price * eth_coins\n",
    "\n",
    "# Print current value of your holding in ETH\n",
    "print(f\"The current value of ETH holding is ${round(eth_value, 2)}.\")"
   ]
  },
  {
   "cell_type": "code",
   "execution_count": 12,
   "metadata": {},
   "outputs": [
    {
     "name": "stdout",
     "output_type": "stream",
     "text": [
      "The current cryptocurrency wallet balance is $33032.18.\n"
     ]
    }
   ],
   "source": [
    "# Compute the total value of the cryptocurrency wallet\n",
    "total_crypto_wallet = btc_value + eth_value\n",
    "\n",
    "# Print current cryptocurrency wallet balance\n",
    "print(f\"The current cryptocurrency wallet balance is ${round(total_crypto_wallet, 2)}.\")"
   ]
  },
  {
   "cell_type": "markdown",
   "metadata": {},
   "source": [
    "### Evaluate the Stock and Bond Holdings by Using the Alpaca SDK\n"
   ]
  },
  {
   "cell_type": "code",
   "execution_count": 13,
   "metadata": {},
   "outputs": [],
   "source": [
    "# Current amount of shares held in both the stock (SPY) and bond (AGG) portion of the portfolio.\n",
    "spy_shares = 110\n",
    "agg_shares = 200"
   ]
  },
  {
   "cell_type": "markdown",
   "metadata": {},
   "source": [
    "#### Step 1: Ceate an environment file (`.env`) to store the values of your Alpaca API key and Alpaca secret key."
   ]
  },
  {
   "cell_type": "markdown",
   "metadata": {},
   "source": [
    "#### Step 2: Set the variables for the Alpaca API and secret keys. Using the Alpaca SDK, create the Alpaca `tradeapi.REST` object. In this object, include the parameters for the Alpaca API key, the secret key, and the version number."
   ]
  },
  {
   "cell_type": "code",
   "execution_count": 14,
   "metadata": {},
   "outputs": [],
   "source": [
    "# Set the variables for the Alpaca API and secret keys\n",
    "alpaca_api_key = os.getenv(\"ALPACA_API_KEY\")\n",
    "alpaca_secret_key = os.getenv(\"ALPACA_SECRET_KEY\")\n",
    "\n",
    "# Create the Alpaca tradeapi.REST object\n",
    "alpaca = tradeapi.REST(alpaca_api_key,\n",
    "                       alpaca_secret_key,\n",
    "                       api_version = \"v2\")"
   ]
  },
  {
   "cell_type": "markdown",
   "metadata": {},
   "source": [
    "#### Step 3: Set the following parameters for the Alpaca API call:\n"
   ]
  },
  {
   "cell_type": "code",
   "execution_count": 15,
   "metadata": {},
   "outputs": [],
   "source": [
    "# Set the tickers for both the bond and stock portion of the portfolio\n",
    "tickers = [\"SPY\", \"AGG\"]\n",
    "\n",
    "# Set timeframe to 1Day\n",
    "timeframe = \"1D\"\n",
    "\n",
    "# Format current date as ISO format\n",
    "# Set both the start and end date at the date of your prior weekday \n",
    "# This will give you the closing price of the previous trading day\n",
    "# Alternatively you can use a start and end date of 2020-08-07\n",
    "start_date = pd.Timestamp(\"2020-08-07\", tz=\"America/New_York\").isoformat()\n",
    "end_date = pd.Timestamp(\"2020-08-07\", tz=\"America/New_York\").isoformat()"
   ]
  },
  {
   "cell_type": "markdown",
   "metadata": {},
   "source": [
    "#### Step 4: Get the current closing prices for `SPY` and `AGG` by using the Alpaca `get_bars` function. Format the response as a Pandas DataFrame by including the `df` property at the end of the `get_bars` function."
   ]
  },
  {
   "cell_type": "code",
   "execution_count": 16,
   "metadata": {},
   "outputs": [
    {
     "name": "stdout",
     "output_type": "stream",
     "text": [
      "                              SPY                                   \\\n",
      "                             open    high    low   close    volume   \n",
      "timestamp                                                            \n",
      "2020-08-07 04:00:00+00:00  333.29  334.88  332.3  334.57  57282821   \n",
      "\n",
      "                                                      AGG                   \\\n",
      "                          trade_count        vwap    open    high      low   \n",
      "timestamp                                                                    \n",
      "2020-08-07 04:00:00+00:00      350100  333.800372  119.66  119.73  119.395   \n",
      "\n",
      "                                                                    \n",
      "                            close   volume trade_count        vwap  \n",
      "timestamp                                                           \n",
      "2020-08-07 04:00:00+00:00  119.43  5559066       15246  119.475306  \n"
     ]
    }
   ],
   "source": [
    "# Use the Alpaca get_bars function to get current closing prices the portfolio\n",
    "prices_df = alpaca.get_bars(tickers,\n",
    "                              timeframe,\n",
    "                              start_date,\n",
    "                              end_date).df\n",
    "\n",
    "# Reorganize the DataFrame\n",
    "# Separate ticker data\n",
    "SPY = prices_df[prices_df[\"symbol\"] == \"SPY\"].drop(\"symbol\", axis = 1)\n",
    "AGG = prices_df[prices_df[\"symbol\"] == \"AGG\"].drop(\"symbol\", axis = 1)\n",
    "\n",
    "# Concatenate the ticker DataFrames\n",
    "prices_df = pd.concat([SPY, AGG], axis = 1, keys = [\"SPY\", \"AGG\"])\n",
    "\n",
    "# Review the first 5 rows of the Alpaca DataFrame\n",
    "print(prices_df.head())"
   ]
  },
  {
   "cell_type": "markdown",
   "metadata": {},
   "source": [
    "#### Step 5: Navigating the Alpaca response DataFrame, select the `SPY` and `AGG` closing prices, and store them as variables."
   ]
  },
  {
   "cell_type": "code",
   "execution_count": 17,
   "metadata": {},
   "outputs": [
    {
     "name": "stdout",
     "output_type": "stream",
     "text": [
      "The AGG closing price is $119.43.\n"
     ]
    }
   ],
   "source": [
    "# Access the closing price for AGG from the Alpaca DataFrame\n",
    "# Converting the value to a floating point number\n",
    "agg_close_price = float(prices_df[\"AGG\"][\"close\"])\n",
    "\n",
    "# Print the AGG closing price\n",
    "print(f\"The AGG closing price is ${agg_close_price}.\")"
   ]
  },
  {
   "cell_type": "code",
   "execution_count": 18,
   "metadata": {},
   "outputs": [
    {
     "name": "stdout",
     "output_type": "stream",
     "text": [
      "The SPY closing price is $334.57.\n"
     ]
    }
   ],
   "source": [
    "# Access the closing price for SPY from the Alpaca DataFrame\n",
    "# Converting the value to a floating point number\n",
    "spy_close_price = float(prices_df[\"SPY\"][\"close\"])\n",
    "\n",
    "# Print the SPY closing price\n",
    "print(f\"The SPY closing price is ${spy_close_price}.\")"
   ]
  },
  {
   "cell_type": "markdown",
   "metadata": {},
   "source": [
    "#### Step 6: Calculate the value, in US dollars, of the current amount of shares in each of the stock and bond portions of the portfolio, and print the results."
   ]
  },
  {
   "cell_type": "code",
   "execution_count": 19,
   "metadata": {},
   "outputs": [
    {
     "name": "stdout",
     "output_type": "stream",
     "text": [
      "The current value of the AGG bond portfolio is $23886.0.\n"
     ]
    }
   ],
   "source": [
    "# Calculate the current value of the bond portion of the portfolio\n",
    "agg_value = agg_close_price * agg_shares\n",
    "\n",
    "# Print the current value of the bond portfolio\n",
    "print(f\"The current value of the AGG bond portfolio is ${round(agg_value, 2)}.\")"
   ]
  },
  {
   "cell_type": "code",
   "execution_count": 20,
   "metadata": {},
   "outputs": [
    {
     "name": "stdout",
     "output_type": "stream",
     "text": [
      "The current value of the SPY stock portfolio is $36802.7.\n"
     ]
    }
   ],
   "source": [
    "# Calculate the current value of the stock portion of the portfolio\n",
    "spy_value = spy_close_price * spy_shares\n",
    "\n",
    "# Print the current value of the stock portfolio\n",
    "print(f\"The current value of the SPY stock portfolio is ${round(spy_value, 2)}.\")"
   ]
  },
  {
   "cell_type": "code",
   "execution_count": 21,
   "metadata": {},
   "outputs": [
    {
     "name": "stdout",
     "output_type": "stream",
     "text": [
      "The current balance of the SPY stock and AGG bond portfolio is $60688.7.\n"
     ]
    }
   ],
   "source": [
    "# Calculate the total value of the stock and bond portion of the portfolio\n",
    "total_stocks_bonds = agg_value + spy_value\n",
    "\n",
    "# Print the current balance of the stock and bond portion of the portfolio\n",
    "print(f\"The current balance of the SPY stock and AGG bond portfolio is ${round(total_stocks_bonds, 2)}.\")"
   ]
  },
  {
   "cell_type": "code",
   "execution_count": 22,
   "metadata": {},
   "outputs": [
    {
     "name": "stdout",
     "output_type": "stream",
     "text": [
      "The member's current value of the crypto wallet, SPY stock and AGG bond portolio is $93720.88.\n"
     ]
    }
   ],
   "source": [
    "# Calculate the total value of the member's entire savings portfolio\n",
    "total_portfolio = total_crypto_wallet + total_stocks_bonds\n",
    "\n",
    "# Print current cryptocurrency wallet balance\n",
    "print(f\"The member's current value of the crypto wallet, SPY stock and AGG bond portolio is ${round(total_portfolio, 2)}.\")"
   ]
  },
  {
   "cell_type": "markdown",
   "metadata": {},
   "source": [
    "### Evaluate the Emergency Fund\n"
   ]
  },
  {
   "cell_type": "markdown",
   "metadata": {},
   "source": [
    "#### Step 1: Create a Python list named `savings_data` that has two elements. The first element contains the total value of the cryptocurrency wallet. The second element contains the total value of the stock and bond portions of the portfolio."
   ]
  },
  {
   "cell_type": "code",
   "execution_count": 23,
   "metadata": {},
   "outputs": [
    {
     "name": "stdout",
     "output_type": "stream",
     "text": [
      "[33032.18, 60688.7]\n"
     ]
    }
   ],
   "source": [
    "# Consolidate financial assets data into a Python list\n",
    "savings_data = [total_crypto_wallet, total_stocks_bonds]\n",
    "\n",
    "# Review the Python list savings_data\n",
    "print(savings_data)    "
   ]
  },
  {
   "cell_type": "markdown",
   "metadata": {},
   "source": [
    "#### Step 2: Use the `savings_data` list to create a Pandas DataFrame named `savings_df`, and then display this DataFrame. \n"
   ]
  },
  {
   "cell_type": "code",
   "execution_count": 24,
   "metadata": {},
   "outputs": [
    {
     "name": "stdout",
     "output_type": "stream",
     "text": [
      "              amount\n",
      "crypto      33032.18\n",
      "stock/bond  60688.70\n"
     ]
    }
   ],
   "source": [
    "# Create a Pandas DataFrame called savings_df \n",
    "savings_df = pd.DataFrame(savings_data,\n",
    "                          columns = [\"amount\"],\n",
    "                          index = [\"crypto\", \"stock/bond\"])\n",
    "\n",
    "# Display the savings_df DataFrame\n",
    "print(savings_df.head())"
   ]
  },
  {
   "cell_type": "markdown",
   "metadata": {},
   "source": [
    "#### Step 3: Use the `savings_df` DataFrame to plot a pie chart that visualizes the composition of the member’s portfolio. The y-axis of the pie chart uses `amount`. Be sure to add a title."
   ]
  },
  {
   "cell_type": "code",
   "execution_count": 25,
   "metadata": {},
   "outputs": [
    {
     "data": {
      "text/plain": [
       "<AxesSubplot:title={'center':\"The member's share of crypto and stock/bond\"}, ylabel='amount'>"
      ]
     },
     "execution_count": 25,
     "metadata": {},
     "output_type": "execute_result"
    },
    {
     "data": {
      "image/png": "[encoded data removed]",
      "text/plain": [
       "<Figure size 720x504 with 1 Axes>"
      ]
     },
     "metadata": {},
     "output_type": "display_data"
    }
   ],
   "source": [
    "# Plot the total value of the member's portfolio (crypto and stock/bond) in a pie chart\n",
    "savings_df.plot.pie(y = \"amount\", figsize = (10,7), title = \"The member's share of crypto and stock/bond\")"
   ]
  },
  {
   "cell_type": "markdown",
   "metadata": {},
   "source": [
    "#### Step 4: Determine if the current portfolio has enough to create an emergency fund. Ideally, an emergency fund should equal to three times the monthly income. \n"
   ]
  },
  {
   "cell_type": "code",
   "execution_count": 26,
   "metadata": {},
   "outputs": [],
   "source": [
    "# Create a variable named emergency_fund_value\n",
    "emergency_fund_value = round(float(monthly_income * 3), 2)"
   ]
  },
  {
   "cell_type": "code",
   "execution_count": 27,
   "metadata": {},
   "outputs": [
    {
     "name": "stdout",
     "output_type": "stream",
     "text": [
      "Congratulations on surpassing your financial goal!\n"
     ]
    }
   ],
   "source": [
    "# Retrieve the total savings amount\n",
    "total_savings = round(savings_df[\"amount\"].sum(), 2)\n",
    "\n",
    "# Evaluate the possibility of creating an emergency fund with 3 conditions:\n",
    "if total_savings > emergency_fund_value :\n",
    "    print(f\"Congratulations on surpassing your financial goal!\")\n",
    "elif total_savings == emergency_fund_value:\n",
    "    print(f\"Congratulations on reaching your financial goal!\")\n",
    "else:\n",
    "    savings_needed = emergency_fund_value - total_savings\n",
    "    print(f\"You are only ${round(savings_needed, 2)} away from reaching your financial goal!\")"
   ]
  },
  {
   "cell_type": "markdown",
   "metadata": {},
   "source": [
    "## Part 2: Create a Financial Planner for Retirement"
   ]
  },
  {
   "cell_type": "markdown",
   "metadata": {},
   "source": [
    "### Create the Monte Carlo Simulation\n"
   ]
  },
  {
   "cell_type": "markdown",
   "metadata": {},
   "source": [
    "#### Step 1: Make an API call via the Alpaca SDK to get 3 years of historical closing prices for a traditional 60/40 portfolio split: 60% stocks (SPY) and 40% bonds (AGG)."
   ]
  },
  {
   "cell_type": "code",
   "execution_count": 28,
   "metadata": {},
   "outputs": [],
   "source": [
    "# Set start and end dates of 3 years back from your current date\n",
    "# Alternatively, you can use an end date of 2020-08-07 and work 3 years back from that date \n",
    "start_date = pd.Timestamp(\"2017-08-07\", tz = \"America/New_York\").isoformat()\n",
    "end_date = pd.Timestamp(\"2020-08-07\", tz = \"America/New_York\").isoformat()"
   ]
  },
  {
   "cell_type": "code",
   "execution_count": 29,
   "metadata": {},
   "outputs": [
    {
     "data": {
      "text/html": [
       "<div>\n",
       "<style scoped>\n",
       "    .dataframe tbody tr th:only-of-type {\n",
       "        vertical-align: middle;\n",
       "    }\n",
       "\n",
       "    .dataframe tbody tr th {\n",
       "        vertical-align: top;\n",
       "    }\n",
       "\n",
       "    .dataframe thead tr th {\n",
       "        text-align: left;\n",
       "    }\n",
       "\n",
       "    .dataframe thead tr:last-of-type th {\n",
       "        text-align: right;\n",
       "    }\n",
       "</style>\n",
       "<table border=\"1\" class=\"dataframe\">\n",
       "  <thead>\n",
       "    <tr>\n",
       "      <th></th>\n",
       "      <th colspan=\"7\" halign=\"left\">SPY</th>\n",
       "      <th colspan=\"7\" halign=\"left\">AGG</th>\n",
       "    </tr>\n",
       "    <tr>\n",
       "      <th></th>\n",
       "      <th>open</th>\n",
       "      <th>high</th>\n",
       "      <th>low</th>\n",
       "      <th>close</th>\n",
       "      <th>volume</th>\n",
       "      <th>trade_count</th>\n",
       "      <th>vwap</th>\n",
       "      <th>open</th>\n",
       "      <th>high</th>\n",
       "      <th>low</th>\n",
       "      <th>close</th>\n",
       "      <th>volume</th>\n",
       "      <th>trade_count</th>\n",
       "      <th>vwap</th>\n",
       "    </tr>\n",
       "    <tr>\n",
       "      <th>timestamp</th>\n",
       "      <th></th>\n",
       "      <th></th>\n",
       "      <th></th>\n",
       "      <th></th>\n",
       "      <th></th>\n",
       "      <th></th>\n",
       "      <th></th>\n",
       "      <th></th>\n",
       "      <th></th>\n",
       "      <th></th>\n",
       "      <th></th>\n",
       "      <th></th>\n",
       "      <th></th>\n",
       "      <th></th>\n",
       "    </tr>\n",
       "  </thead>\n",
       "  <tbody>\n",
       "    <tr>\n",
       "      <th>2017-08-07 04:00:00+00:00</th>\n",
       "      <td>247.50</td>\n",
       "      <td>247.87</td>\n",
       "      <td>247.37</td>\n",
       "      <td>247.87</td>\n",
       "      <td>31995021</td>\n",
       "      <td>100111</td>\n",
       "      <td>247.668698</td>\n",
       "      <td>109.69</td>\n",
       "      <td>109.72</td>\n",
       "      <td>109.6066</td>\n",
       "      <td>109.67</td>\n",
       "      <td>2359826</td>\n",
       "      <td>7755</td>\n",
       "      <td>109.674876</td>\n",
       "    </tr>\n",
       "    <tr>\n",
       "      <th>2017-08-08 04:00:00+00:00</th>\n",
       "      <td>247.49</td>\n",
       "      <td>248.91</td>\n",
       "      <td>246.83</td>\n",
       "      <td>247.26</td>\n",
       "      <td>61719353</td>\n",
       "      <td>192921</td>\n",
       "      <td>247.739709</td>\n",
       "      <td>109.67</td>\n",
       "      <td>109.69</td>\n",
       "      <td>109.5000</td>\n",
       "      <td>109.57</td>\n",
       "      <td>2570876</td>\n",
       "      <td>12663</td>\n",
       "      <td>109.577636</td>\n",
       "    </tr>\n",
       "    <tr>\n",
       "      <th>2017-08-09 04:00:00+00:00</th>\n",
       "      <td>246.46</td>\n",
       "      <td>247.31</td>\n",
       "      <td>246.06</td>\n",
       "      <td>247.25</td>\n",
       "      <td>62632619</td>\n",
       "      <td>223650</td>\n",
       "      <td>246.791421</td>\n",
       "      <td>109.87</td>\n",
       "      <td>109.87</td>\n",
       "      <td>109.6600</td>\n",
       "      <td>109.67</td>\n",
       "      <td>2308932</td>\n",
       "      <td>11031</td>\n",
       "      <td>109.771749</td>\n",
       "    </tr>\n",
       "    <tr>\n",
       "      <th>2017-08-10 04:00:00+00:00</th>\n",
       "      <td>246.30</td>\n",
       "      <td>246.44</td>\n",
       "      <td>243.70</td>\n",
       "      <td>243.76</td>\n",
       "      <td>120418270</td>\n",
       "      <td>424321</td>\n",
       "      <td>245.027847</td>\n",
       "      <td>109.70</td>\n",
       "      <td>109.85</td>\n",
       "      <td>109.6700</td>\n",
       "      <td>109.78</td>\n",
       "      <td>2004163</td>\n",
       "      <td>12437</td>\n",
       "      <td>109.776611</td>\n",
       "    </tr>\n",
       "    <tr>\n",
       "      <th>2017-08-11 04:00:00+00:00</th>\n",
       "      <td>244.00</td>\n",
       "      <td>244.80</td>\n",
       "      <td>243.75</td>\n",
       "      <td>244.12</td>\n",
       "      <td>74869947</td>\n",
       "      <td>278786</td>\n",
       "      <td>244.222867</td>\n",
       "      <td>109.75</td>\n",
       "      <td>109.94</td>\n",
       "      <td>109.6800</td>\n",
       "      <td>109.87</td>\n",
       "      <td>1913253</td>\n",
       "      <td>10113</td>\n",
       "      <td>109.860974</td>\n",
       "    </tr>\n",
       "  </tbody>\n",
       "</table>\n",
       "</div>"
      ],
      "text/plain": [
       "                              SPY                                     \\\n",
       "                             open    high     low   close     volume   \n",
       "timestamp                                                              \n",
       "2017-08-07 04:00:00+00:00  247.50  247.87  247.37  247.87   31995021   \n",
       "2017-08-08 04:00:00+00:00  247.49  248.91  246.83  247.26   61719353   \n",
       "2017-08-09 04:00:00+00:00  246.46  247.31  246.06  247.25   62632619   \n",
       "2017-08-10 04:00:00+00:00  246.30  246.44  243.70  243.76  120418270   \n",
       "2017-08-11 04:00:00+00:00  244.00  244.80  243.75  244.12   74869947   \n",
       "\n",
       "                                                      AGG                    \\\n",
       "                          trade_count        vwap    open    high       low   \n",
       "timestamp                                                                     \n",
       "2017-08-07 04:00:00+00:00      100111  247.668698  109.69  109.72  109.6066   \n",
       "2017-08-08 04:00:00+00:00      192921  247.739709  109.67  109.69  109.5000   \n",
       "2017-08-09 04:00:00+00:00      223650  246.791421  109.87  109.87  109.6600   \n",
       "2017-08-10 04:00:00+00:00      424321  245.027847  109.70  109.85  109.6700   \n",
       "2017-08-11 04:00:00+00:00      278786  244.222867  109.75  109.94  109.6800   \n",
       "\n",
       "                                                                    \n",
       "                            close   volume trade_count        vwap  \n",
       "timestamp                                                           \n",
       "2017-08-07 04:00:00+00:00  109.67  2359826        7755  109.674876  \n",
       "2017-08-08 04:00:00+00:00  109.57  2570876       12663  109.577636  \n",
       "2017-08-09 04:00:00+00:00  109.67  2308932       11031  109.771749  \n",
       "2017-08-10 04:00:00+00:00  109.78  2004163       12437  109.776611  \n",
       "2017-08-11 04:00:00+00:00  109.87  1913253       10113  109.860974  "
      ]
     },
     "metadata": {},
     "output_type": "display_data"
    },
    {
     "data": {
      "text/html": [
       "<div>\n",
       "<style scoped>\n",
       "    .dataframe tbody tr th:only-of-type {\n",
       "        vertical-align: middle;\n",
       "    }\n",
       "\n",
       "    .dataframe tbody tr th {\n",
       "        vertical-align: top;\n",
       "    }\n",
       "\n",
       "    .dataframe thead tr th {\n",
       "        text-align: left;\n",
       "    }\n",
       "\n",
       "    .dataframe thead tr:last-of-type th {\n",
       "        text-align: right;\n",
       "    }\n",
       "</style>\n",
       "<table border=\"1\" class=\"dataframe\">\n",
       "  <thead>\n",
       "    <tr>\n",
       "      <th></th>\n",
       "      <th colspan=\"7\" halign=\"left\">SPY</th>\n",
       "      <th colspan=\"7\" halign=\"left\">AGG</th>\n",
       "    </tr>\n",
       "    <tr>\n",
       "      <th></th>\n",
       "      <th>open</th>\n",
       "      <th>high</th>\n",
       "      <th>low</th>\n",
       "      <th>close</th>\n",
       "      <th>volume</th>\n",
       "      <th>trade_count</th>\n",
       "      <th>vwap</th>\n",
       "      <th>open</th>\n",
       "      <th>high</th>\n",
       "      <th>low</th>\n",
       "      <th>close</th>\n",
       "      <th>volume</th>\n",
       "      <th>trade_count</th>\n",
       "      <th>vwap</th>\n",
       "    </tr>\n",
       "    <tr>\n",
       "      <th>timestamp</th>\n",
       "      <th></th>\n",
       "      <th></th>\n",
       "      <th></th>\n",
       "      <th></th>\n",
       "      <th></th>\n",
       "      <th></th>\n",
       "      <th></th>\n",
       "      <th></th>\n",
       "      <th></th>\n",
       "      <th></th>\n",
       "      <th></th>\n",
       "      <th></th>\n",
       "      <th></th>\n",
       "      <th></th>\n",
       "    </tr>\n",
       "  </thead>\n",
       "  <tbody>\n",
       "    <tr>\n",
       "      <th>2020-08-03 04:00:00+00:00</th>\n",
       "      <td>328.31</td>\n",
       "      <td>329.62</td>\n",
       "      <td>327.73</td>\n",
       "      <td>328.79</td>\n",
       "      <td>53080454</td>\n",
       "      <td>288008</td>\n",
       "      <td>328.658804</td>\n",
       "      <td>119.37</td>\n",
       "      <td>119.40</td>\n",
       "      <td>119.1903</td>\n",
       "      <td>119.40</td>\n",
       "      <td>13014535</td>\n",
       "      <td>36359</td>\n",
       "      <td>119.282420</td>\n",
       "    </tr>\n",
       "    <tr>\n",
       "      <th>2020-08-04 04:00:00+00:00</th>\n",
       "      <td>327.88</td>\n",
       "      <td>330.06</td>\n",
       "      <td>327.86</td>\n",
       "      <td>330.06</td>\n",
       "      <td>41918004</td>\n",
       "      <td>250900</td>\n",
       "      <td>329.057593</td>\n",
       "      <td>119.42</td>\n",
       "      <td>119.63</td>\n",
       "      <td>119.4200</td>\n",
       "      <td>119.63</td>\n",
       "      <td>10935181</td>\n",
       "      <td>39114</td>\n",
       "      <td>119.541666</td>\n",
       "    </tr>\n",
       "    <tr>\n",
       "      <th>2020-08-05 04:00:00+00:00</th>\n",
       "      <td>331.46</td>\n",
       "      <td>332.39</td>\n",
       "      <td>331.18</td>\n",
       "      <td>332.11</td>\n",
       "      <td>42870955</td>\n",
       "      <td>241416</td>\n",
       "      <td>331.791643</td>\n",
       "      <td>119.39</td>\n",
       "      <td>119.49</td>\n",
       "      <td>119.3100</td>\n",
       "      <td>119.40</td>\n",
       "      <td>17377874</td>\n",
       "      <td>42313</td>\n",
       "      <td>119.387245</td>\n",
       "    </tr>\n",
       "    <tr>\n",
       "      <th>2020-08-06 04:00:00+00:00</th>\n",
       "      <td>331.52</td>\n",
       "      <td>334.46</td>\n",
       "      <td>331.13</td>\n",
       "      <td>334.33</td>\n",
       "      <td>43745653</td>\n",
       "      <td>290039</td>\n",
       "      <td>332.937218</td>\n",
       "      <td>119.62</td>\n",
       "      <td>119.73</td>\n",
       "      <td>119.5300</td>\n",
       "      <td>119.57</td>\n",
       "      <td>4608710</td>\n",
       "      <td>15938</td>\n",
       "      <td>119.604199</td>\n",
       "    </tr>\n",
       "    <tr>\n",
       "      <th>2020-08-07 04:00:00+00:00</th>\n",
       "      <td>333.29</td>\n",
       "      <td>334.88</td>\n",
       "      <td>332.30</td>\n",
       "      <td>334.57</td>\n",
       "      <td>57282821</td>\n",
       "      <td>350100</td>\n",
       "      <td>333.800372</td>\n",
       "      <td>119.66</td>\n",
       "      <td>119.73</td>\n",
       "      <td>119.3950</td>\n",
       "      <td>119.43</td>\n",
       "      <td>5559066</td>\n",
       "      <td>15246</td>\n",
       "      <td>119.475306</td>\n",
       "    </tr>\n",
       "  </tbody>\n",
       "</table>\n",
       "</div>"
      ],
      "text/plain": [
       "                              SPY                                    \\\n",
       "                             open    high     low   close    volume   \n",
       "timestamp                                                             \n",
       "2020-08-03 04:00:00+00:00  328.31  329.62  327.73  328.79  53080454   \n",
       "2020-08-04 04:00:00+00:00  327.88  330.06  327.86  330.06  41918004   \n",
       "2020-08-05 04:00:00+00:00  331.46  332.39  331.18  332.11  42870955   \n",
       "2020-08-06 04:00:00+00:00  331.52  334.46  331.13  334.33  43745653   \n",
       "2020-08-07 04:00:00+00:00  333.29  334.88  332.30  334.57  57282821   \n",
       "\n",
       "                                                      AGG                    \\\n",
       "                          trade_count        vwap    open    high       low   \n",
       "timestamp                                                                     \n",
       "2020-08-03 04:00:00+00:00      288008  328.658804  119.37  119.40  119.1903   \n",
       "2020-08-04 04:00:00+00:00      250900  329.057593  119.42  119.63  119.4200   \n",
       "2020-08-05 04:00:00+00:00      241416  331.791643  119.39  119.49  119.3100   \n",
       "2020-08-06 04:00:00+00:00      290039  332.937218  119.62  119.73  119.5300   \n",
       "2020-08-07 04:00:00+00:00      350100  333.800372  119.66  119.73  119.3950   \n",
       "\n",
       "                                                                     \n",
       "                            close    volume trade_count        vwap  \n",
       "timestamp                                                            \n",
       "2020-08-03 04:00:00+00:00  119.40  13014535       36359  119.282420  \n",
       "2020-08-04 04:00:00+00:00  119.63  10935181       39114  119.541666  \n",
       "2020-08-05 04:00:00+00:00  119.40  17377874       42313  119.387245  \n",
       "2020-08-06 04:00:00+00:00  119.57   4608710       15938  119.604199  \n",
       "2020-08-07 04:00:00+00:00  119.43   5559066       15246  119.475306  "
      ]
     },
     "metadata": {},
     "output_type": "display_data"
    }
   ],
   "source": [
    "# Use the Alpaca get_bars function to make the API call to get the 3 years worth of pricing data\n",
    "prices_3_yr_df = alpaca.get_bars(tickers,\n",
    "                                 timeframe,\n",
    "                                 start_date,\n",
    "                                 end_date).df\n",
    "\n",
    "# Reorganize the DataFrame\n",
    "# Separate ticker data\n",
    "SPY = prices_3_yr_df[prices_3_yr_df[\"symbol\"] == \"SPY\"].drop(\"symbol\", axis = 1)\n",
    "AGG = prices_3_yr_df[prices_3_yr_df[\"symbol\"] == \"AGG\"].drop(\"symbol\", axis = 1)\n",
    "\n",
    "# Concatenate the ticker DataFrames\n",
    "prices_3_yr_df = pd.concat([SPY, AGG], axis = 1, keys = [\"SPY\", \"AGG\"])\n",
    "\n",
    "# Display both the first and last five rows of the DataFrame\n",
    "display(prices_3_yr_df.head())\n",
    "display(prices_3_yr_df.tail())"
   ]
  },
  {
   "cell_type": "markdown",
   "metadata": {},
   "source": [
    "#### Step 2: Run a Monte Carlo simulation of 500 samples and 30 years for the 60/40 portfolio, and then plot the results."
   ]
  },
  {
   "cell_type": "code",
   "execution_count": 30,
   "metadata": {},
   "outputs": [
    {
     "name": "stdout",
     "output_type": "stream",
     "text": [
      "                              SPY                                     \\\n",
      "                             open    high     low   close     volume   \n",
      "timestamp                                                              \n",
      "2017-08-07 04:00:00+00:00  247.50  247.87  247.37  247.87   31995021   \n",
      "2017-08-08 04:00:00+00:00  247.49  248.91  246.83  247.26   61719353   \n",
      "2017-08-09 04:00:00+00:00  246.46  247.31  246.06  247.25   62632619   \n",
      "2017-08-10 04:00:00+00:00  246.30  246.44  243.70  243.76  120418270   \n",
      "2017-08-11 04:00:00+00:00  244.00  244.80  243.75  244.12   74869947   \n",
      "\n",
      "                                                                   AGG  \\\n",
      "                          trade_count        vwap daily_return    open   \n",
      "timestamp                                                                \n",
      "2017-08-07 04:00:00+00:00      100111  247.668698          NaN  109.69   \n",
      "2017-08-08 04:00:00+00:00      192921  247.739709    -0.002461  109.67   \n",
      "2017-08-09 04:00:00+00:00      223650  246.791421    -0.000040  109.87   \n",
      "2017-08-10 04:00:00+00:00      424321  245.027847    -0.014115  109.70   \n",
      "2017-08-11 04:00:00+00:00      278786  244.222867     0.001477  109.75   \n",
      "\n",
      "                                                                          \\\n",
      "                             high       low   close   volume trade_count   \n",
      "timestamp                                                                  \n",
      "2017-08-07 04:00:00+00:00  109.72  109.6066  109.67  2359826        7755   \n",
      "2017-08-08 04:00:00+00:00  109.69  109.5000  109.57  2570876       12663   \n",
      "2017-08-09 04:00:00+00:00  109.87  109.6600  109.67  2308932       11031   \n",
      "2017-08-10 04:00:00+00:00  109.85  109.6700  109.78  2004163       12437   \n",
      "2017-08-11 04:00:00+00:00  109.94  109.6800  109.87  1913253       10113   \n",
      "\n",
      "                                                    \n",
      "                                 vwap daily_return  \n",
      "timestamp                                           \n",
      "2017-08-07 04:00:00+00:00  109.674876          NaN  \n",
      "2017-08-08 04:00:00+00:00  109.577636    -0.000912  \n",
      "2017-08-09 04:00:00+00:00  109.771749     0.000913  \n",
      "2017-08-10 04:00:00+00:00  109.776611     0.001003  \n",
      "2017-08-11 04:00:00+00:00  109.860974     0.000820  \n"
     ]
    }
   ],
   "source": [
    "# Configure the Monte Carlo simulation to forecast 30 years cumulative returns\n",
    "# The weights should be split 40% to AGG and 60% to SPY.\n",
    "# Run 500 samples.\n",
    "MC_60_40_weighted = MCSimulation(portfolio_data = prices_3_yr_df,\n",
    "                                 weights = [.60, .40],\n",
    "                                 num_simulation = 500,\n",
    "                                 num_trading_days = 252 * 30)\n",
    "\n",
    "# Review the simulation input data\n",
    "print(MC_60_40_weighted.portfolio_data.head())"
   ]
  },
  {
   "cell_type": "code",
   "execution_count": 31,
   "metadata": {},
   "outputs": [
    {
     "name": "stdout",
     "output_type": "stream",
     "text": [
      "Running Monte Carlo simulation number 0.\n",
      "Running Monte Carlo simulation number 10.\n",
      "Running Monte Carlo simulation number 20.\n",
      "Running Monte Carlo simulation number 30.\n",
      "Running Monte Carlo simulation number 40.\n",
      "Running Monte Carlo simulation number 50.\n",
      "Running Monte Carlo simulation number 60.\n",
      "Running Monte Carlo simulation number 70.\n",
      "Running Monte Carlo simulation number 80.\n",
      "Running Monte Carlo simulation number 90.\n",
      "Running Monte Carlo simulation number 100.\n"
     ]
    },
    {
     "name": "stderr",
     "output_type": "stream",
     "text": [
      "C:\\Users\\drew9\\Bootcamp\\UC Berkeley Extension Fintech\\Coursework\\Module 5\\Module 5 Challenge\\Repo\\Financial_Planner_Simulator\\MCForecastTools.py:117: PerformanceWarning: DataFrame is highly fragmented.  This is usually the result of calling `frame.insert` many times, which has poor performance.  Consider joining all columns at once using pd.concat(axis=1) instead.  To get a de-fragmented frame, use `newframe = frame.copy()`\n",
      "  portfolio_cumulative_returns[n] = (1 + sim_df.fillna(0)).cumprod()\n"
     ]
    },
    {
     "name": "stdout",
     "output_type": "stream",
     "text": [
      "Running Monte Carlo simulation number 110.\n",
      "Running Monte Carlo simulation number 120.\n",
      "Running Monte Carlo simulation number 130.\n",
      "Running Monte Carlo simulation number 140.\n",
      "Running Monte Carlo simulation number 150.\n",
      "Running Monte Carlo simulation number 160.\n",
      "Running Monte Carlo simulation number 170.\n",
      "Running Monte Carlo simulation number 180.\n",
      "Running Monte Carlo simulation number 190.\n",
      "Running Monte Carlo simulation number 200.\n",
      "Running Monte Carlo simulation number 210.\n",
      "Running Monte Carlo simulation number 220.\n",
      "Running Monte Carlo simulation number 230.\n",
      "Running Monte Carlo simulation number 240.\n",
      "Running Monte Carlo simulation number 250.\n",
      "Running Monte Carlo simulation number 260.\n",
      "Running Monte Carlo simulation number 270.\n",
      "Running Monte Carlo simulation number 280.\n",
      "Running Monte Carlo simulation number 290.\n",
      "Running Monte Carlo simulation number 300.\n",
      "Running Monte Carlo simulation number 310.\n",
      "Running Monte Carlo simulation number 320.\n",
      "Running Monte Carlo simulation number 330.\n",
      "Running Monte Carlo simulation number 340.\n",
      "Running Monte Carlo simulation number 350.\n",
      "Running Monte Carlo simulation number 360.\n",
      "Running Monte Carlo simulation number 370.\n",
      "Running Monte Carlo simulation number 380.\n",
      "Running Monte Carlo simulation number 390.\n",
      "Running Monte Carlo simulation number 400.\n",
      "Running Monte Carlo simulation number 410.\n",
      "Running Monte Carlo simulation number 420.\n",
      "Running Monte Carlo simulation number 430.\n",
      "Running Monte Carlo simulation number 440.\n",
      "Running Monte Carlo simulation number 450.\n",
      "Running Monte Carlo simulation number 460.\n",
      "Running Monte Carlo simulation number 470.\n",
      "Running Monte Carlo simulation number 480.\n",
      "Running Monte Carlo simulation number 490.\n"
     ]
    },
    {
     "data": {
      "text/html": [
       "<div>\n",
       "<style scoped>\n",
       "    .dataframe tbody tr th:only-of-type {\n",
       "        vertical-align: middle;\n",
       "    }\n",
       "\n",
       "    .dataframe tbody tr th {\n",
       "        vertical-align: top;\n",
       "    }\n",
       "\n",
       "    .dataframe thead th {\n",
       "        text-align: right;\n",
       "    }\n",
       "</style>\n",
       "<table border=\"1\" class=\"dataframe\">\n",
       "  <thead>\n",
       "    <tr style=\"text-align: right;\">\n",
       "      <th></th>\n",
       "      <th>0</th>\n",
       "      <th>1</th>\n",
       "      <th>2</th>\n",
       "      <th>3</th>\n",
       "      <th>4</th>\n",
       "      <th>5</th>\n",
       "      <th>6</th>\n",
       "      <th>7</th>\n",
       "      <th>8</th>\n",
       "      <th>9</th>\n",
       "      <th>...</th>\n",
       "      <th>490</th>\n",
       "      <th>491</th>\n",
       "      <th>492</th>\n",
       "      <th>493</th>\n",
       "      <th>494</th>\n",
       "      <th>495</th>\n",
       "      <th>496</th>\n",
       "      <th>497</th>\n",
       "      <th>498</th>\n",
       "      <th>499</th>\n",
       "    </tr>\n",
       "  </thead>\n",
       "  <tbody>\n",
       "    <tr>\n",
       "      <th>0</th>\n",
       "      <td>1.000000</td>\n",
       "      <td>1.000000</td>\n",
       "      <td>1.000000</td>\n",
       "      <td>1.000000</td>\n",
       "      <td>1.000000</td>\n",
       "      <td>1.000000</td>\n",
       "      <td>1.000000</td>\n",
       "      <td>1.000000</td>\n",
       "      <td>1.000000</td>\n",
       "      <td>1.000000</td>\n",
       "      <td>...</td>\n",
       "      <td>1.000000</td>\n",
       "      <td>1.000000</td>\n",
       "      <td>1.000000</td>\n",
       "      <td>1.000000</td>\n",
       "      <td>1.000000</td>\n",
       "      <td>1.000000</td>\n",
       "      <td>1.000000</td>\n",
       "      <td>1.000000</td>\n",
       "      <td>1.000000</td>\n",
       "      <td>1.000000</td>\n",
       "    </tr>\n",
       "    <tr>\n",
       "      <th>1</th>\n",
       "      <td>0.996230</td>\n",
       "      <td>0.997258</td>\n",
       "      <td>0.990862</td>\n",
       "      <td>1.001943</td>\n",
       "      <td>0.996753</td>\n",
       "      <td>0.990066</td>\n",
       "      <td>1.016823</td>\n",
       "      <td>0.996570</td>\n",
       "      <td>0.992535</td>\n",
       "      <td>1.000801</td>\n",
       "      <td>...</td>\n",
       "      <td>0.997366</td>\n",
       "      <td>1.002571</td>\n",
       "      <td>0.991101</td>\n",
       "      <td>0.995518</td>\n",
       "      <td>1.006105</td>\n",
       "      <td>0.996291</td>\n",
       "      <td>0.999513</td>\n",
       "      <td>0.993148</td>\n",
       "      <td>1.001644</td>\n",
       "      <td>1.002813</td>\n",
       "    </tr>\n",
       "    <tr>\n",
       "      <th>2</th>\n",
       "      <td>0.980780</td>\n",
       "      <td>0.983739</td>\n",
       "      <td>0.990385</td>\n",
       "      <td>0.991495</td>\n",
       "      <td>0.989026</td>\n",
       "      <td>0.994941</td>\n",
       "      <td>1.007260</td>\n",
       "      <td>1.002436</td>\n",
       "      <td>0.978319</td>\n",
       "      <td>1.001489</td>\n",
       "      <td>...</td>\n",
       "      <td>0.989546</td>\n",
       "      <td>1.001693</td>\n",
       "      <td>0.990332</td>\n",
       "      <td>0.993924</td>\n",
       "      <td>0.997756</td>\n",
       "      <td>1.002702</td>\n",
       "      <td>1.004534</td>\n",
       "      <td>0.997325</td>\n",
       "      <td>1.008285</td>\n",
       "      <td>1.009117</td>\n",
       "    </tr>\n",
       "    <tr>\n",
       "      <th>3</th>\n",
       "      <td>0.982815</td>\n",
       "      <td>0.979383</td>\n",
       "      <td>0.994448</td>\n",
       "      <td>0.992790</td>\n",
       "      <td>0.990210</td>\n",
       "      <td>0.995494</td>\n",
       "      <td>1.023642</td>\n",
       "      <td>0.991803</td>\n",
       "      <td>0.978078</td>\n",
       "      <td>0.985936</td>\n",
       "      <td>...</td>\n",
       "      <td>0.980698</td>\n",
       "      <td>1.011558</td>\n",
       "      <td>0.990470</td>\n",
       "      <td>0.993446</td>\n",
       "      <td>0.982207</td>\n",
       "      <td>1.005048</td>\n",
       "      <td>0.998455</td>\n",
       "      <td>0.989501</td>\n",
       "      <td>1.000906</td>\n",
       "      <td>1.003777</td>\n",
       "    </tr>\n",
       "    <tr>\n",
       "      <th>4</th>\n",
       "      <td>0.978757</td>\n",
       "      <td>0.990585</td>\n",
       "      <td>0.992137</td>\n",
       "      <td>0.980236</td>\n",
       "      <td>0.990447</td>\n",
       "      <td>1.007252</td>\n",
       "      <td>1.029258</td>\n",
       "      <td>0.986567</td>\n",
       "      <td>0.988873</td>\n",
       "      <td>0.988982</td>\n",
       "      <td>...</td>\n",
       "      <td>0.961888</td>\n",
       "      <td>1.017213</td>\n",
       "      <td>0.982754</td>\n",
       "      <td>0.988496</td>\n",
       "      <td>0.978941</td>\n",
       "      <td>1.014494</td>\n",
       "      <td>1.002196</td>\n",
       "      <td>0.993083</td>\n",
       "      <td>0.993339</td>\n",
       "      <td>1.006471</td>\n",
       "    </tr>\n",
       "    <tr>\n",
       "      <th>...</th>\n",
       "      <td>...</td>\n",
       "      <td>...</td>\n",
       "      <td>...</td>\n",
       "      <td>...</td>\n",
       "      <td>...</td>\n",
       "      <td>...</td>\n",
       "      <td>...</td>\n",
       "      <td>...</td>\n",
       "      <td>...</td>\n",
       "      <td>...</td>\n",
       "      <td>...</td>\n",
       "      <td>...</td>\n",
       "      <td>...</td>\n",
       "      <td>...</td>\n",
       "      <td>...</td>\n",
       "      <td>...</td>\n",
       "      <td>...</td>\n",
       "      <td>...</td>\n",
       "      <td>...</td>\n",
       "      <td>...</td>\n",
       "      <td>...</td>\n",
       "    </tr>\n",
       "    <tr>\n",
       "      <th>7556</th>\n",
       "      <td>13.423800</td>\n",
       "      <td>18.330499</td>\n",
       "      <td>40.522478</td>\n",
       "      <td>10.550665</td>\n",
       "      <td>4.331452</td>\n",
       "      <td>15.191723</td>\n",
       "      <td>8.025865</td>\n",
       "      <td>12.512016</td>\n",
       "      <td>4.943032</td>\n",
       "      <td>13.680687</td>\n",
       "      <td>...</td>\n",
       "      <td>13.438116</td>\n",
       "      <td>5.714123</td>\n",
       "      <td>3.766014</td>\n",
       "      <td>8.697312</td>\n",
       "      <td>12.411334</td>\n",
       "      <td>5.915055</td>\n",
       "      <td>28.543742</td>\n",
       "      <td>2.615050</td>\n",
       "      <td>9.578742</td>\n",
       "      <td>4.584026</td>\n",
       "    </tr>\n",
       "    <tr>\n",
       "      <th>7557</th>\n",
       "      <td>13.301168</td>\n",
       "      <td>18.440404</td>\n",
       "      <td>39.977779</td>\n",
       "      <td>10.550366</td>\n",
       "      <td>4.252359</td>\n",
       "      <td>14.985905</td>\n",
       "      <td>7.955045</td>\n",
       "      <td>12.555431</td>\n",
       "      <td>4.911110</td>\n",
       "      <td>13.676321</td>\n",
       "      <td>...</td>\n",
       "      <td>13.544420</td>\n",
       "      <td>5.694064</td>\n",
       "      <td>3.768719</td>\n",
       "      <td>8.632804</td>\n",
       "      <td>12.352384</td>\n",
       "      <td>5.976619</td>\n",
       "      <td>28.426478</td>\n",
       "      <td>2.617967</td>\n",
       "      <td>9.472459</td>\n",
       "      <td>4.590955</td>\n",
       "    </tr>\n",
       "    <tr>\n",
       "      <th>7558</th>\n",
       "      <td>13.408332</td>\n",
       "      <td>18.517426</td>\n",
       "      <td>40.017137</td>\n",
       "      <td>10.677605</td>\n",
       "      <td>4.277334</td>\n",
       "      <td>14.988375</td>\n",
       "      <td>7.920133</td>\n",
       "      <td>12.530094</td>\n",
       "      <td>4.843290</td>\n",
       "      <td>13.577239</td>\n",
       "      <td>...</td>\n",
       "      <td>13.425932</td>\n",
       "      <td>5.681374</td>\n",
       "      <td>3.828489</td>\n",
       "      <td>8.597144</td>\n",
       "      <td>12.277931</td>\n",
       "      <td>5.907472</td>\n",
       "      <td>28.083652</td>\n",
       "      <td>2.641022</td>\n",
       "      <td>9.495379</td>\n",
       "      <td>4.589079</td>\n",
       "    </tr>\n",
       "    <tr>\n",
       "      <th>7559</th>\n",
       "      <td>13.376612</td>\n",
       "      <td>18.729143</td>\n",
       "      <td>40.094002</td>\n",
       "      <td>10.667369</td>\n",
       "      <td>4.304678</td>\n",
       "      <td>14.930127</td>\n",
       "      <td>7.959945</td>\n",
       "      <td>12.488873</td>\n",
       "      <td>4.794123</td>\n",
       "      <td>13.477584</td>\n",
       "      <td>...</td>\n",
       "      <td>13.160085</td>\n",
       "      <td>5.626669</td>\n",
       "      <td>3.775126</td>\n",
       "      <td>8.520255</td>\n",
       "      <td>12.161944</td>\n",
       "      <td>5.965315</td>\n",
       "      <td>27.928720</td>\n",
       "      <td>2.598130</td>\n",
       "      <td>9.452402</td>\n",
       "      <td>4.563199</td>\n",
       "    </tr>\n",
       "    <tr>\n",
       "      <th>7560</th>\n",
       "      <td>13.410832</td>\n",
       "      <td>19.036971</td>\n",
       "      <td>39.800556</td>\n",
       "      <td>10.540553</td>\n",
       "      <td>4.314944</td>\n",
       "      <td>15.094977</td>\n",
       "      <td>7.972460</td>\n",
       "      <td>12.513252</td>\n",
       "      <td>4.714184</td>\n",
       "      <td>13.457375</td>\n",
       "      <td>...</td>\n",
       "      <td>13.289904</td>\n",
       "      <td>5.568166</td>\n",
       "      <td>3.725492</td>\n",
       "      <td>8.524411</td>\n",
       "      <td>12.169530</td>\n",
       "      <td>5.976994</td>\n",
       "      <td>28.030636</td>\n",
       "      <td>2.601263</td>\n",
       "      <td>9.461891</td>\n",
       "      <td>4.552366</td>\n",
       "    </tr>\n",
       "  </tbody>\n",
       "</table>\n",
       "<p>7561 rows × 500 columns</p>\n",
       "</div>"
      ],
      "text/plain": [
       "            0          1          2          3         4          5    \\\n",
       "0      1.000000   1.000000   1.000000   1.000000  1.000000   1.000000   \n",
       "1      0.996230   0.997258   0.990862   1.001943  0.996753   0.990066   \n",
       "2      0.980780   0.983739   0.990385   0.991495  0.989026   0.994941   \n",
       "3      0.982815   0.979383   0.994448   0.992790  0.990210   0.995494   \n",
       "4      0.978757   0.990585   0.992137   0.980236  0.990447   1.007252   \n",
       "...         ...        ...        ...        ...       ...        ...   \n",
       "7556  13.423800  18.330499  40.522478  10.550665  4.331452  15.191723   \n",
       "7557  13.301168  18.440404  39.977779  10.550366  4.252359  14.985905   \n",
       "7558  13.408332  18.517426  40.017137  10.677605  4.277334  14.988375   \n",
       "7559  13.376612  18.729143  40.094002  10.667369  4.304678  14.930127   \n",
       "7560  13.410832  19.036971  39.800556  10.540553  4.314944  15.094977   \n",
       "\n",
       "           6          7         8          9    ...        490       491  \\\n",
       "0     1.000000   1.000000  1.000000   1.000000  ...   1.000000  1.000000   \n",
       "1     1.016823   0.996570  0.992535   1.000801  ...   0.997366  1.002571   \n",
       "2     1.007260   1.002436  0.978319   1.001489  ...   0.989546  1.001693   \n",
       "3     1.023642   0.991803  0.978078   0.985936  ...   0.980698  1.011558   \n",
       "4     1.029258   0.986567  0.988873   0.988982  ...   0.961888  1.017213   \n",
       "...        ...        ...       ...        ...  ...        ...       ...   \n",
       "7556  8.025865  12.512016  4.943032  13.680687  ...  13.438116  5.714123   \n",
       "7557  7.955045  12.555431  4.911110  13.676321  ...  13.544420  5.694064   \n",
       "7558  7.920133  12.530094  4.843290  13.577239  ...  13.425932  5.681374   \n",
       "7559  7.959945  12.488873  4.794123  13.477584  ...  13.160085  5.626669   \n",
       "7560  7.972460  12.513252  4.714184  13.457375  ...  13.289904  5.568166   \n",
       "\n",
       "           492       493        494       495        496       497       498  \\\n",
       "0     1.000000  1.000000   1.000000  1.000000   1.000000  1.000000  1.000000   \n",
       "1     0.991101  0.995518   1.006105  0.996291   0.999513  0.993148  1.001644   \n",
       "2     0.990332  0.993924   0.997756  1.002702   1.004534  0.997325  1.008285   \n",
       "3     0.990470  0.993446   0.982207  1.005048   0.998455  0.989501  1.000906   \n",
       "4     0.982754  0.988496   0.978941  1.014494   1.002196  0.993083  0.993339   \n",
       "...        ...       ...        ...       ...        ...       ...       ...   \n",
       "7556  3.766014  8.697312  12.411334  5.915055  28.543742  2.615050  9.578742   \n",
       "7557  3.768719  8.632804  12.352384  5.976619  28.426478  2.617967  9.472459   \n",
       "7558  3.828489  8.597144  12.277931  5.907472  28.083652  2.641022  9.495379   \n",
       "7559  3.775126  8.520255  12.161944  5.965315  27.928720  2.598130  9.452402   \n",
       "7560  3.725492  8.524411  12.169530  5.976994  28.030636  2.601263  9.461891   \n",
       "\n",
       "           499  \n",
       "0     1.000000  \n",
       "1     1.002813  \n",
       "2     1.009117  \n",
       "3     1.003777  \n",
       "4     1.006471  \n",
       "...        ...  \n",
       "7556  4.584026  \n",
       "7557  4.590955  \n",
       "7558  4.589079  \n",
       "7559  4.563199  \n",
       "7560  4.552366  \n",
       "\n",
       "[7561 rows x 500 columns]"
      ]
     },
     "execution_count": 31,
     "metadata": {},
     "output_type": "execute_result"
    }
   ],
   "source": [
    "# Run the Monte Carlo simulation to forecast 30 years cumulative returns\n",
    "MC_60_40_weighted.calc_cumulative_return()"
   ]
  },
  {
   "cell_type": "code",
   "execution_count": 32,
   "metadata": {},
   "outputs": [
    {
     "data": {
      "image/png": "[encoded data removed]",
      "text/plain": [
       "<Figure size 432x288 with 1 Axes>"
      ]
     },
     "metadata": {
      "needs_background": "light"
     },
     "output_type": "display_data"
    }
   ],
   "source": [
    "# Visualize the 30-year Monte Carlo simulation by creating an overlay line plot\n",
    "thirty_yr_line_plot = MC_60_40_weighted.plot_simulation()"
   ]
  },
  {
   "cell_type": "markdown",
   "metadata": {},
   "source": [
    "#### Step 3: Plot the probability distribution of the Monte Carlo simulation."
   ]
  },
  {
   "cell_type": "code",
   "execution_count": 33,
   "metadata": {},
   "outputs": [
    {
     "data": {
      "image/png": "[encoded data removed]",
      "text/plain": [
       "<Figure size 432x288 with 1 Axes>"
      ]
     },
     "metadata": {
      "needs_background": "light"
     },
     "output_type": "display_data"
    }
   ],
   "source": [
    "# Visualize the probability distribution of the 30-year Monte Carlo simulation by plotting a histogram\n",
    "thirty_yr_hist_plot = MC_60_40_weighted.plot_distribution()"
   ]
  },
  {
   "cell_type": "markdown",
   "metadata": {},
   "source": [
    "#### Step 4: Generate the summary statistics for the Monte Carlo simulation."
   ]
  },
  {
   "cell_type": "code",
   "execution_count": 34,
   "metadata": {},
   "outputs": [
    {
     "name": "stdout",
     "output_type": "stream",
     "text": [
      "count           500.000000\n",
      "mean             13.055084\n",
      "std              11.223577\n",
      "min               0.610541\n",
      "25%               6.242736\n",
      "50%              10.015786\n",
      "75%              16.869566\n",
      "max             101.221161\n",
      "95% CI Lower      2.655529\n",
      "95% CI Upper     40.221394\n",
      "Name: 7560, dtype: float64\n"
     ]
    }
   ],
   "source": [
    "# Generate summary statistics from the 30-year Monte Carlo simulation results\n",
    "thirty_yr_weighted_table = MC_60_40_weighted.summarize_cumulative_return()\n",
    "\n",
    "\n",
    "# Review the 30-year Monte Carlo summary statistics\n",
    "print(thirty_yr_weighted_table)"
   ]
  },
  {
   "cell_type": "markdown",
   "metadata": {},
   "source": [
    "### Analyze the Retirement Portfolio Forecasts\n"
   ]
  },
  {
   "cell_type": "code",
   "execution_count": 35,
   "metadata": {},
   "outputs": [
    {
     "name": "stdout",
     "output_type": "stream",
     "text": [
      "The current value of the SPY stock and AGG bond portion of the members portfolio is $60688.7.\n"
     ]
    }
   ],
   "source": [
    "# Print the current balance of the stock and bond portion of the members portfolio\n",
    "print(f\"The current value of the SPY stock and AGG bond portion of the members portfolio is ${round(total_stocks_bonds, 2)}.\")"
   ]
  },
  {
   "cell_type": "code",
   "execution_count": 36,
   "metadata": {},
   "outputs": [
    {
     "name": "stdout",
     "output_type": "stream",
     "text": [
      "There is a 95% chance that the SPY stock and AGG bond portion of the portfolio with a 60% weight in SPY and 40% weight in AGG over the next 30 years will end within in the range of $161160.61 and $2440984.12.\n"
     ]
    }
   ],
   "source": [
    "# Use the lower and upper `95%` confidence intervals to calculate the range of the possible outcomes for the current stock/bond portfolio\n",
    "ci_lower_thirty_cumulative_return = round(thirty_yr_weighted_table[8] * total_stocks_bonds, 2)\n",
    "ci_upper_thirty_cumulative_return = round(thirty_yr_weighted_table[9] * total_stocks_bonds, 2)\n",
    "\n",
    "# Print the result of your calculations\n",
    "print(f\"There is a 95% chance that the SPY stock and AGG bond portion of the portfolio\"\n",
    "      f\" with a 60% weight in SPY and 40% weight in AGG over the next 30 years will end within in the range of\"\n",
    "      f\" ${ci_lower_thirty_cumulative_return} and ${ci_upper_thirty_cumulative_return}.\")"
   ]
  },
  {
   "cell_type": "markdown",
   "metadata": {},
   "source": [
    "### Forecast Cumulative Returns in 10 Years\n"
   ]
  },
  {
   "cell_type": "code",
   "execution_count": 37,
   "metadata": {},
   "outputs": [
    {
     "name": "stdout",
     "output_type": "stream",
     "text": [
      "                              SPY                                     \\\n",
      "                             open    high     low   close     volume   \n",
      "timestamp                                                              \n",
      "2017-08-07 04:00:00+00:00  247.50  247.87  247.37  247.87   31995021   \n",
      "2017-08-08 04:00:00+00:00  247.49  248.91  246.83  247.26   61719353   \n",
      "2017-08-09 04:00:00+00:00  246.46  247.31  246.06  247.25   62632619   \n",
      "2017-08-10 04:00:00+00:00  246.30  246.44  243.70  243.76  120418270   \n",
      "2017-08-11 04:00:00+00:00  244.00  244.80  243.75  244.12   74869947   \n",
      "\n",
      "                                                                   AGG  \\\n",
      "                          trade_count        vwap daily_return    open   \n",
      "timestamp                                                                \n",
      "2017-08-07 04:00:00+00:00      100111  247.668698          NaN  109.69   \n",
      "2017-08-08 04:00:00+00:00      192921  247.739709    -0.002461  109.67   \n",
      "2017-08-09 04:00:00+00:00      223650  246.791421    -0.000040  109.87   \n",
      "2017-08-10 04:00:00+00:00      424321  245.027847    -0.014115  109.70   \n",
      "2017-08-11 04:00:00+00:00      278786  244.222867     0.001477  109.75   \n",
      "\n",
      "                                                                          \\\n",
      "                             high       low   close   volume trade_count   \n",
      "timestamp                                                                  \n",
      "2017-08-07 04:00:00+00:00  109.72  109.6066  109.67  2359826        7755   \n",
      "2017-08-08 04:00:00+00:00  109.69  109.5000  109.57  2570876       12663   \n",
      "2017-08-09 04:00:00+00:00  109.87  109.6600  109.67  2308932       11031   \n",
      "2017-08-10 04:00:00+00:00  109.85  109.6700  109.78  2004163       12437   \n",
      "2017-08-11 04:00:00+00:00  109.94  109.6800  109.87  1913253       10113   \n",
      "\n",
      "                                                    \n",
      "                                 vwap daily_return  \n",
      "timestamp                                           \n",
      "2017-08-07 04:00:00+00:00  109.674876          NaN  \n",
      "2017-08-08 04:00:00+00:00  109.577636    -0.000912  \n",
      "2017-08-09 04:00:00+00:00  109.771749     0.000913  \n",
      "2017-08-10 04:00:00+00:00  109.776611     0.001003  \n",
      "2017-08-11 04:00:00+00:00  109.860974     0.000820  \n"
     ]
    }
   ],
   "source": [
    "# Configure a Monte Carlo simulation to forecast 10 years cumulative returns\n",
    "# The weights should be split 20% to AGG and 80% to SPY.\n",
    "# Run 500 samples.\n",
    "MC_80_20_weighted = MCSimulation(portfolio_data = prices_3_yr_df,\n",
    "                                 weights = [.80, .20],\n",
    "                                 num_simulation = 500,\n",
    "                                 num_trading_days = 252 * 10)\n",
    "\n",
    "# Review the simulation input data\n",
    "print(MC_80_20_weighted.portfolio_data.head())"
   ]
  },
  {
   "cell_type": "code",
   "execution_count": 38,
   "metadata": {},
   "outputs": [
    {
     "name": "stdout",
     "output_type": "stream",
     "text": [
      "Running Monte Carlo simulation number 0.\n",
      "Running Monte Carlo simulation number 10.\n",
      "Running Monte Carlo simulation number 20.\n",
      "Running Monte Carlo simulation number 30.\n",
      "Running Monte Carlo simulation number 40.\n",
      "Running Monte Carlo simulation number 50.\n",
      "Running Monte Carlo simulation number 60.\n",
      "Running Monte Carlo simulation number 70.\n",
      "Running Monte Carlo simulation number 80.\n",
      "Running Monte Carlo simulation number 90.\n",
      "Running Monte Carlo simulation number 100.\n"
     ]
    },
    {
     "name": "stderr",
     "output_type": "stream",
     "text": [
      "C:\\Users\\drew9\\Bootcamp\\UC Berkeley Extension Fintech\\Coursework\\Module 5\\Module 5 Challenge\\Repo\\Financial_Planner_Simulator\\MCForecastTools.py:117: PerformanceWarning: DataFrame is highly fragmented.  This is usually the result of calling `frame.insert` many times, which has poor performance.  Consider joining all columns at once using pd.concat(axis=1) instead.  To get a de-fragmented frame, use `newframe = frame.copy()`\n",
      "  portfolio_cumulative_returns[n] = (1 + sim_df.fillna(0)).cumprod()\n"
     ]
    },
    {
     "name": "stdout",
     "output_type": "stream",
     "text": [
      "Running Monte Carlo simulation number 110.\n",
      "Running Monte Carlo simulation number 120.\n",
      "Running Monte Carlo simulation number 130.\n",
      "Running Monte Carlo simulation number 140.\n",
      "Running Monte Carlo simulation number 150.\n",
      "Running Monte Carlo simulation number 160.\n",
      "Running Monte Carlo simulation number 170.\n",
      "Running Monte Carlo simulation number 180.\n",
      "Running Monte Carlo simulation number 190.\n",
      "Running Monte Carlo simulation number 200.\n",
      "Running Monte Carlo simulation number 210.\n",
      "Running Monte Carlo simulation number 220.\n",
      "Running Monte Carlo simulation number 230.\n",
      "Running Monte Carlo simulation number 240.\n",
      "Running Monte Carlo simulation number 250.\n",
      "Running Monte Carlo simulation number 260.\n",
      "Running Monte Carlo simulation number 270.\n",
      "Running Monte Carlo simulation number 280.\n",
      "Running Monte Carlo simulation number 290.\n",
      "Running Monte Carlo simulation number 300.\n",
      "Running Monte Carlo simulation number 310.\n",
      "Running Monte Carlo simulation number 320.\n",
      "Running Monte Carlo simulation number 330.\n",
      "Running Monte Carlo simulation number 340.\n",
      "Running Monte Carlo simulation number 350.\n",
      "Running Monte Carlo simulation number 360.\n",
      "Running Monte Carlo simulation number 370.\n",
      "Running Monte Carlo simulation number 380.\n",
      "Running Monte Carlo simulation number 390.\n",
      "Running Monte Carlo simulation number 400.\n",
      "Running Monte Carlo simulation number 410.\n",
      "Running Monte Carlo simulation number 420.\n",
      "Running Monte Carlo simulation number 430.\n",
      "Running Monte Carlo simulation number 440.\n",
      "Running Monte Carlo simulation number 450.\n",
      "Running Monte Carlo simulation number 460.\n",
      "Running Monte Carlo simulation number 470.\n",
      "Running Monte Carlo simulation number 480.\n",
      "Running Monte Carlo simulation number 490.\n"
     ]
    },
    {
     "data": {
      "text/html": [
       "<div>\n",
       "<style scoped>\n",
       "    .dataframe tbody tr th:only-of-type {\n",
       "        vertical-align: middle;\n",
       "    }\n",
       "\n",
       "    .dataframe tbody tr th {\n",
       "        vertical-align: top;\n",
       "    }\n",
       "\n",
       "    .dataframe thead th {\n",
       "        text-align: right;\n",
       "    }\n",
       "</style>\n",
       "<table border=\"1\" class=\"dataframe\">\n",
       "  <thead>\n",
       "    <tr style=\"text-align: right;\">\n",
       "      <th></th>\n",
       "      <th>0</th>\n",
       "      <th>1</th>\n",
       "      <th>2</th>\n",
       "      <th>3</th>\n",
       "      <th>4</th>\n",
       "      <th>5</th>\n",
       "      <th>6</th>\n",
       "      <th>7</th>\n",
       "      <th>8</th>\n",
       "      <th>9</th>\n",
       "      <th>...</th>\n",
       "      <th>490</th>\n",
       "      <th>491</th>\n",
       "      <th>492</th>\n",
       "      <th>493</th>\n",
       "      <th>494</th>\n",
       "      <th>495</th>\n",
       "      <th>496</th>\n",
       "      <th>497</th>\n",
       "      <th>498</th>\n",
       "      <th>499</th>\n",
       "    </tr>\n",
       "  </thead>\n",
       "  <tbody>\n",
       "    <tr>\n",
       "      <th>0</th>\n",
       "      <td>1.000000</td>\n",
       "      <td>1.000000</td>\n",
       "      <td>1.000000</td>\n",
       "      <td>1.000000</td>\n",
       "      <td>1.000000</td>\n",
       "      <td>1.000000</td>\n",
       "      <td>1.000000</td>\n",
       "      <td>1.000000</td>\n",
       "      <td>1.000000</td>\n",
       "      <td>1.000000</td>\n",
       "      <td>...</td>\n",
       "      <td>1.000000</td>\n",
       "      <td>1.000000</td>\n",
       "      <td>1.000000</td>\n",
       "      <td>1.000000</td>\n",
       "      <td>1.000000</td>\n",
       "      <td>1.000000</td>\n",
       "      <td>1.000000</td>\n",
       "      <td>1.000000</td>\n",
       "      <td>1.000000</td>\n",
       "      <td>1.000000</td>\n",
       "    </tr>\n",
       "    <tr>\n",
       "      <th>1</th>\n",
       "      <td>1.012250</td>\n",
       "      <td>1.014904</td>\n",
       "      <td>0.984457</td>\n",
       "      <td>1.003948</td>\n",
       "      <td>0.989511</td>\n",
       "      <td>0.999485</td>\n",
       "      <td>1.003196</td>\n",
       "      <td>0.998477</td>\n",
       "      <td>0.984282</td>\n",
       "      <td>1.004819</td>\n",
       "      <td>...</td>\n",
       "      <td>1.007957</td>\n",
       "      <td>0.994606</td>\n",
       "      <td>1.011912</td>\n",
       "      <td>0.981712</td>\n",
       "      <td>0.987478</td>\n",
       "      <td>0.987931</td>\n",
       "      <td>1.005162</td>\n",
       "      <td>0.980737</td>\n",
       "      <td>1.034147</td>\n",
       "      <td>0.980240</td>\n",
       "    </tr>\n",
       "    <tr>\n",
       "      <th>2</th>\n",
       "      <td>1.010036</td>\n",
       "      <td>1.029008</td>\n",
       "      <td>0.972523</td>\n",
       "      <td>1.001163</td>\n",
       "      <td>0.997173</td>\n",
       "      <td>1.005186</td>\n",
       "      <td>1.015403</td>\n",
       "      <td>1.007586</td>\n",
       "      <td>0.985444</td>\n",
       "      <td>1.009936</td>\n",
       "      <td>...</td>\n",
       "      <td>1.002963</td>\n",
       "      <td>0.999122</td>\n",
       "      <td>0.994889</td>\n",
       "      <td>0.999463</td>\n",
       "      <td>0.997995</td>\n",
       "      <td>0.992825</td>\n",
       "      <td>1.003754</td>\n",
       "      <td>0.983442</td>\n",
       "      <td>1.033050</td>\n",
       "      <td>0.982658</td>\n",
       "    </tr>\n",
       "    <tr>\n",
       "      <th>3</th>\n",
       "      <td>1.005253</td>\n",
       "      <td>1.029807</td>\n",
       "      <td>0.970477</td>\n",
       "      <td>1.000736</td>\n",
       "      <td>1.001863</td>\n",
       "      <td>1.018286</td>\n",
       "      <td>1.018599</td>\n",
       "      <td>0.992874</td>\n",
       "      <td>0.985405</td>\n",
       "      <td>0.996113</td>\n",
       "      <td>...</td>\n",
       "      <td>1.024195</td>\n",
       "      <td>1.012799</td>\n",
       "      <td>0.978033</td>\n",
       "      <td>0.996258</td>\n",
       "      <td>0.991658</td>\n",
       "      <td>1.003456</td>\n",
       "      <td>1.010757</td>\n",
       "      <td>0.967215</td>\n",
       "      <td>1.041087</td>\n",
       "      <td>0.999366</td>\n",
       "    </tr>\n",
       "    <tr>\n",
       "      <th>4</th>\n",
       "      <td>1.007814</td>\n",
       "      <td>1.050047</td>\n",
       "      <td>0.961436</td>\n",
       "      <td>0.995633</td>\n",
       "      <td>0.999582</td>\n",
       "      <td>1.012360</td>\n",
       "      <td>1.013146</td>\n",
       "      <td>0.995893</td>\n",
       "      <td>1.009975</td>\n",
       "      <td>0.983656</td>\n",
       "      <td>...</td>\n",
       "      <td>1.031437</td>\n",
       "      <td>1.003290</td>\n",
       "      <td>0.981353</td>\n",
       "      <td>0.998540</td>\n",
       "      <td>0.994325</td>\n",
       "      <td>1.008982</td>\n",
       "      <td>1.008146</td>\n",
       "      <td>0.965369</td>\n",
       "      <td>1.038493</td>\n",
       "      <td>1.003084</td>\n",
       "    </tr>\n",
       "    <tr>\n",
       "      <th>...</th>\n",
       "      <td>...</td>\n",
       "      <td>...</td>\n",
       "      <td>...</td>\n",
       "      <td>...</td>\n",
       "      <td>...</td>\n",
       "      <td>...</td>\n",
       "      <td>...</td>\n",
       "      <td>...</td>\n",
       "      <td>...</td>\n",
       "      <td>...</td>\n",
       "      <td>...</td>\n",
       "      <td>...</td>\n",
       "      <td>...</td>\n",
       "      <td>...</td>\n",
       "      <td>...</td>\n",
       "      <td>...</td>\n",
       "      <td>...</td>\n",
       "      <td>...</td>\n",
       "      <td>...</td>\n",
       "      <td>...</td>\n",
       "      <td>...</td>\n",
       "    </tr>\n",
       "    <tr>\n",
       "      <th>2516</th>\n",
       "      <td>3.971053</td>\n",
       "      <td>1.344224</td>\n",
       "      <td>2.214170</td>\n",
       "      <td>5.790535</td>\n",
       "      <td>1.588718</td>\n",
       "      <td>3.527975</td>\n",
       "      <td>2.731544</td>\n",
       "      <td>4.966943</td>\n",
       "      <td>2.334068</td>\n",
       "      <td>5.207193</td>\n",
       "      <td>...</td>\n",
       "      <td>4.602901</td>\n",
       "      <td>4.869647</td>\n",
       "      <td>2.241337</td>\n",
       "      <td>3.276880</td>\n",
       "      <td>2.748158</td>\n",
       "      <td>2.030677</td>\n",
       "      <td>4.033417</td>\n",
       "      <td>1.519276</td>\n",
       "      <td>2.163566</td>\n",
       "      <td>1.702700</td>\n",
       "    </tr>\n",
       "    <tr>\n",
       "      <th>2517</th>\n",
       "      <td>3.918328</td>\n",
       "      <td>1.362722</td>\n",
       "      <td>2.202733</td>\n",
       "      <td>5.787799</td>\n",
       "      <td>1.584992</td>\n",
       "      <td>3.544100</td>\n",
       "      <td>2.751276</td>\n",
       "      <td>4.997293</td>\n",
       "      <td>2.320336</td>\n",
       "      <td>5.117580</td>\n",
       "      <td>...</td>\n",
       "      <td>4.662791</td>\n",
       "      <td>4.936134</td>\n",
       "      <td>2.262163</td>\n",
       "      <td>3.263845</td>\n",
       "      <td>2.788052</td>\n",
       "      <td>2.000115</td>\n",
       "      <td>3.987983</td>\n",
       "      <td>1.524161</td>\n",
       "      <td>2.217949</td>\n",
       "      <td>1.663749</td>\n",
       "    </tr>\n",
       "    <tr>\n",
       "      <th>2518</th>\n",
       "      <td>3.952244</td>\n",
       "      <td>1.352687</td>\n",
       "      <td>2.185243</td>\n",
       "      <td>5.582945</td>\n",
       "      <td>1.613567</td>\n",
       "      <td>3.517044</td>\n",
       "      <td>2.760415</td>\n",
       "      <td>4.974418</td>\n",
       "      <td>2.297644</td>\n",
       "      <td>5.135099</td>\n",
       "      <td>...</td>\n",
       "      <td>4.680581</td>\n",
       "      <td>5.022515</td>\n",
       "      <td>2.248805</td>\n",
       "      <td>3.275406</td>\n",
       "      <td>2.840802</td>\n",
       "      <td>1.980333</td>\n",
       "      <td>3.968521</td>\n",
       "      <td>1.502908</td>\n",
       "      <td>2.262226</td>\n",
       "      <td>1.681184</td>\n",
       "    </tr>\n",
       "    <tr>\n",
       "      <th>2519</th>\n",
       "      <td>3.965602</td>\n",
       "      <td>1.340278</td>\n",
       "      <td>2.209865</td>\n",
       "      <td>5.531129</td>\n",
       "      <td>1.627996</td>\n",
       "      <td>3.492283</td>\n",
       "      <td>2.738233</td>\n",
       "      <td>4.882553</td>\n",
       "      <td>2.296070</td>\n",
       "      <td>5.118676</td>\n",
       "      <td>...</td>\n",
       "      <td>4.735077</td>\n",
       "      <td>5.092249</td>\n",
       "      <td>2.232394</td>\n",
       "      <td>3.332662</td>\n",
       "      <td>2.875724</td>\n",
       "      <td>1.989800</td>\n",
       "      <td>4.055108</td>\n",
       "      <td>1.483989</td>\n",
       "      <td>2.263696</td>\n",
       "      <td>1.679956</td>\n",
       "    </tr>\n",
       "    <tr>\n",
       "      <th>2520</th>\n",
       "      <td>3.958705</td>\n",
       "      <td>1.352927</td>\n",
       "      <td>2.237067</td>\n",
       "      <td>5.466724</td>\n",
       "      <td>1.635698</td>\n",
       "      <td>3.522304</td>\n",
       "      <td>2.735719</td>\n",
       "      <td>4.905073</td>\n",
       "      <td>2.297576</td>\n",
       "      <td>5.203515</td>\n",
       "      <td>...</td>\n",
       "      <td>4.737249</td>\n",
       "      <td>5.145869</td>\n",
       "      <td>2.210369</td>\n",
       "      <td>3.271358</td>\n",
       "      <td>2.821694</td>\n",
       "      <td>1.997791</td>\n",
       "      <td>4.024911</td>\n",
       "      <td>1.493130</td>\n",
       "      <td>2.299581</td>\n",
       "      <td>1.709376</td>\n",
       "    </tr>\n",
       "  </tbody>\n",
       "</table>\n",
       "<p>2521 rows × 500 columns</p>\n",
       "</div>"
      ],
      "text/plain": [
       "           0         1         2         3         4         5         6    \\\n",
       "0     1.000000  1.000000  1.000000  1.000000  1.000000  1.000000  1.000000   \n",
       "1     1.012250  1.014904  0.984457  1.003948  0.989511  0.999485  1.003196   \n",
       "2     1.010036  1.029008  0.972523  1.001163  0.997173  1.005186  1.015403   \n",
       "3     1.005253  1.029807  0.970477  1.000736  1.001863  1.018286  1.018599   \n",
       "4     1.007814  1.050047  0.961436  0.995633  0.999582  1.012360  1.013146   \n",
       "...        ...       ...       ...       ...       ...       ...       ...   \n",
       "2516  3.971053  1.344224  2.214170  5.790535  1.588718  3.527975  2.731544   \n",
       "2517  3.918328  1.362722  2.202733  5.787799  1.584992  3.544100  2.751276   \n",
       "2518  3.952244  1.352687  2.185243  5.582945  1.613567  3.517044  2.760415   \n",
       "2519  3.965602  1.340278  2.209865  5.531129  1.627996  3.492283  2.738233   \n",
       "2520  3.958705  1.352927  2.237067  5.466724  1.635698  3.522304  2.735719   \n",
       "\n",
       "           7         8         9    ...       490       491       492  \\\n",
       "0     1.000000  1.000000  1.000000  ...  1.000000  1.000000  1.000000   \n",
       "1     0.998477  0.984282  1.004819  ...  1.007957  0.994606  1.011912   \n",
       "2     1.007586  0.985444  1.009936  ...  1.002963  0.999122  0.994889   \n",
       "3     0.992874  0.985405  0.996113  ...  1.024195  1.012799  0.978033   \n",
       "4     0.995893  1.009975  0.983656  ...  1.031437  1.003290  0.981353   \n",
       "...        ...       ...       ...  ...       ...       ...       ...   \n",
       "2516  4.966943  2.334068  5.207193  ...  4.602901  4.869647  2.241337   \n",
       "2517  4.997293  2.320336  5.117580  ...  4.662791  4.936134  2.262163   \n",
       "2518  4.974418  2.297644  5.135099  ...  4.680581  5.022515  2.248805   \n",
       "2519  4.882553  2.296070  5.118676  ...  4.735077  5.092249  2.232394   \n",
       "2520  4.905073  2.297576  5.203515  ...  4.737249  5.145869  2.210369   \n",
       "\n",
       "           493       494       495       496       497       498       499  \n",
       "0     1.000000  1.000000  1.000000  1.000000  1.000000  1.000000  1.000000  \n",
       "1     0.981712  0.987478  0.987931  1.005162  0.980737  1.034147  0.980240  \n",
       "2     0.999463  0.997995  0.992825  1.003754  0.983442  1.033050  0.982658  \n",
       "3     0.996258  0.991658  1.003456  1.010757  0.967215  1.041087  0.999366  \n",
       "4     0.998540  0.994325  1.008982  1.008146  0.965369  1.038493  1.003084  \n",
       "...        ...       ...       ...       ...       ...       ...       ...  \n",
       "2516  3.276880  2.748158  2.030677  4.033417  1.519276  2.163566  1.702700  \n",
       "2517  3.263845  2.788052  2.000115  3.987983  1.524161  2.217949  1.663749  \n",
       "2518  3.275406  2.840802  1.980333  3.968521  1.502908  2.262226  1.681184  \n",
       "2519  3.332662  2.875724  1.989800  4.055108  1.483989  2.263696  1.679956  \n",
       "2520  3.271358  2.821694  1.997791  4.024911  1.493130  2.299581  1.709376  \n",
       "\n",
       "[2521 rows x 500 columns]"
      ]
     },
     "execution_count": 38,
     "metadata": {},
     "output_type": "execute_result"
    }
   ],
   "source": [
    "# Run the Monte Carlo simulation to forecast 10 years cumulative returns\n",
    "MC_80_20_weighted.calc_cumulative_return()"
   ]
  },
  {
   "cell_type": "code",
   "execution_count": 39,
   "metadata": {},
   "outputs": [
    {
     "data": {
      "image/png": "[encoded data removed]",
      "text/plain": [
       "<Figure size 432x288 with 1 Axes>"
      ]
     },
     "metadata": {
      "needs_background": "light"
     },
     "output_type": "display_data"
    }
   ],
   "source": [
    "# Visualize the 10-year Monte Carlo simulation by creating an overlay line plot\n",
    "ten_yr_line_plot = MC_80_20_weighted.plot_simulation()"
   ]
  },
  {
   "cell_type": "code",
   "execution_count": 40,
   "metadata": {},
   "outputs": [
    {
     "data": {
      "image/png": "[encoded data removed]",
      "text/plain": [
       "<Figure size 432x288 with 1 Axes>"
      ]
     },
     "metadata": {
      "needs_background": "light"
     },
     "output_type": "display_data"
    }
   ],
   "source": [
    "# Visualize the probability distribution of the 10-year Monte Carlo simulation by plotting a histogram\n",
    "ten_yr_hist_plot = MC_80_20_weighted.plot_distribution()"
   ]
  },
  {
   "cell_type": "code",
   "execution_count": 41,
   "metadata": {},
   "outputs": [
    {
     "name": "stdout",
     "output_type": "stream",
     "text": [
      "count           500.000000\n",
      "mean              2.869512\n",
      "std               1.614503\n",
      "min               0.538430\n",
      "25%               1.755630\n",
      "50%               2.547685\n",
      "75%               3.489792\n",
      "max              13.827685\n",
      "95% CI Lower      0.813011\n",
      "95% CI Upper      6.992611\n",
      "Name: 2520, dtype: float64\n"
     ]
    }
   ],
   "source": [
    "# Generate summary statistics from the 10-year Monte Carlo simulation results\n",
    "ten_yr_weighted_table = MC_80_20_weighted.summarize_cumulative_return()\n",
    "\n",
    "\n",
    "# Review the 10-year Monte Carlo summary statistics\n",
    "print(ten_yr_weighted_table)"
   ]
  },
  {
   "cell_type": "markdown",
   "metadata": {},
   "source": [
    "### Answer the following questions:"
   ]
  },
  {
   "cell_type": "markdown",
   "metadata": {},
   "source": [
    "#### Question: Using the current value of only the stock and bond portion of the portfolio and the summary statistics that were generated from the new Monte Carlo simulation, what are the lower and upper bounds for the expected value of the portfolio (with the new weights) with a 95% confidence interval?"
   ]
  },
  {
   "cell_type": "code",
   "execution_count": 42,
   "metadata": {},
   "outputs": [
    {
     "name": "stdout",
     "output_type": "stream",
     "text": [
      "The current value of the SPY stock and AGG bond portion of the members portfolio is $60688.7.\n"
     ]
    }
   ],
   "source": [
    "# Print the current balance of the stock and bond portion of the members portfolio\n",
    "print(f\"The current value of the SPY stock and AGG bond portion of the members portfolio is ${round(total_stocks_bonds, 2)}.\")"
   ]
  },
  {
   "cell_type": "code",
   "execution_count": 43,
   "metadata": {},
   "outputs": [
    {
     "name": "stdout",
     "output_type": "stream",
     "text": [
      "There is a 95% chance that the SPY stock and AGG bond portion of the portfolio with a 80% weight in SPY and 20% weight in AGG over the next 30 years will end within in the range of $49340.6 and $424372.47.\n"
     ]
    }
   ],
   "source": [
    "# Use the lower and upper `95%` confidence intervals to calculate the range of the possible outcomes for the current stock/bond portfolio\n",
    "ci_lower_ten_cumulative_return = round(ten_yr_weighted_table[8] * total_stocks_bonds, 2)\n",
    "ci_upper_ten_cumulative_return = round(ten_yr_weighted_table[9] * total_stocks_bonds, 2)\n",
    "\n",
    "# Print the result of your calculations\n",
    "print(f\"There is a 95% chance that the SPY stock and AGG bond portion of the portfolio\"\n",
    "      f\" with a 80% weight in SPY and 20% weight in AGG over the next 30 years will end within in the range of\"\n",
    "      f\" ${ci_lower_ten_cumulative_return} and ${ci_upper_ten_cumulative_return}.\")"
   ]
  },
  {
   "cell_type": "markdown",
   "metadata": {},
   "source": [
    "#### Question: Will weighting the portfolio more heavily to stocks allow the credit union members to retire after only 10 years?"
   ]
  },
  {
   "cell_type": "markdown",
   "metadata": {},
   "source": [
    "**Answer** No the weighting of 80% stocks to 20% bonds only has an upper return of less than 1/2 a million dollars.  Thus, this wouldn't be enough for the credit union members to retire with after only 10 years."
   ]
  }
 ],
 "metadata": {
  "kernelspec": {
   "display_name": "Python 3 (ipykernel)",
   "language": "python",
   "name": "python3"
  },
  "language_info": {
   "codemirror_mode": {
    "name": "ipython",
    "version": 3
   },
   "file_extension": ".py",
   "mimetype": "text/x-python",
   "name": "python",
   "nbconvert_exporter": "python",
   "pygments_lexer": "ipython3",
   "version": "3.7.13"
  }
 },
 "nbformat": 4,
 "nbformat_minor": 4
}
