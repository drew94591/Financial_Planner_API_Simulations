{
 "cells": [
  {
   "cell_type": "markdown",
   "metadata": {},
   "source": [
    "# Financial Planning with APIs and Simulations\n",
    "\n",
    "In this Challenge, you’ll create two financial analysis tools by using a single Jupyter notebook:\n",
    "\n",
    "Part 1: A financial planner for emergencies. The members will be able to use this tool to visualize their current savings. The members can then determine if they have enough reserves for an emergency fund.\n",
    "\n",
    "Part 2: A financial planner for retirement. This tool will forecast the performance of their retirement portfolio in 30 years. To do this, the tool will make an Alpaca API call via the Alpaca SDK to get historical price data for use in Monte Carlo simulations.\n",
    "\n",
    "You’ll use the information from the Monte Carlo simulation to answer questions about the portfolio in your Jupyter notebook.\n",
    "\n"
   ]
  },
  {
   "cell_type": "code",
   "execution_count": 1,
   "metadata": {},
   "outputs": [],
   "source": [
    "# Import the required libraries and dependencies\n",
    "import os\n",
    "import requests\n",
    "import json\n",
    "import pandas as pd\n",
    "from dotenv import load_dotenv\n",
    "import alpaca_trade_api as tradeapi\n",
    "from MCForecastTools import MCSimulation\n",
    "\n",
    "%matplotlib inline"
   ]
  },
  {
   "cell_type": "code",
   "execution_count": 2,
   "metadata": {},
   "outputs": [
    {
     "name": "stderr",
     "output_type": "stream",
     "text": [
      "Python-dotenv could not parse statement starting at line 1\n"
     ]
    },
    {
     "data": {
      "text/plain": [
       "True"
      ]
     },
     "execution_count": 2,
     "metadata": {},
     "output_type": "execute_result"
    }
   ],
   "source": [
    "# Load the environment variables from the .env file\n",
    "#by calling the load_dotenv function\n",
    "load_dotenv()"
   ]
  },
  {
   "cell_type": "markdown",
   "metadata": {},
   "source": [
    "## Part 1: Create a Financial Planner for Emergencies"
   ]
  },
  {
   "cell_type": "markdown",
   "metadata": {},
   "source": [
    "### Evaluate the Cryptocurrency Wallet by Using the Requests Library\n",
    "\n",
    "In this section, you’ll determine the current value of a member’s cryptocurrency wallet. You’ll collect the current prices for the Bitcoin and Ethereum cryptocurrencies by using the Python Requests library. For the prototype, you’ll assume that the member holds the 1.2 Bitcoins (BTC) and 5.3 Ethereum coins (ETH). To do all this, complete the following steps:\n",
    "\n",
    "1. Create a variable named `monthly_income`, and set its value to `12000`.\n",
    "\n",
    "2. Use the Requests library to get the current price (in US dollars) of Bitcoin (BTC) and Ethereum (ETH) by using the API endpoints that the starter code supplies.\n",
    "\n",
    "3. Navigate the JSON response object to access the current price of each coin, and store each in a variable.\n",
    "\n",
    "    > **Hint** Note the specific identifier for each cryptocurrency in the API JSON response. The Bitcoin identifier is `1`, and the Ethereum identifier is `1027`.\n",
    "\n",
    "4. Calculate the value, in US dollars, of the current amount of each cryptocurrency and of the entire cryptocurrency wallet.\n",
    "\n"
   ]
  },
  {
   "cell_type": "code",
   "execution_count": 3,
   "metadata": {},
   "outputs": [],
   "source": [
    "# The current number of coins for each cryptocurrency asset held in the portfolio.\n",
    "btc_coins = 1.2\n",
    "eth_coins = 5.3"
   ]
  },
  {
   "cell_type": "markdown",
   "metadata": {},
   "source": [
    "#### Step 1: Create a variable named `monthly_income`, and set its value to `12000`."
   ]
  },
  {
   "cell_type": "code",
   "execution_count": 4,
   "metadata": {},
   "outputs": [],
   "source": [
    "# The monthly amount for the member's household income\n",
    "monthly_income = 12000"
   ]
  },
  {
   "cell_type": "markdown",
   "metadata": {},
   "source": [
    "#### Review the endpoint URLs for the API calls to Free Crypto API in order to get the current pricing information for both BTC and ETH."
   ]
  },
  {
   "cell_type": "code",
   "execution_count": 5,
   "metadata": {},
   "outputs": [],
   "source": [
    "# The Free Crypto API Call endpoint URLs for the held cryptocurrency assets\n",
    "btc_url = \"https://api.alternative.me/v2/ticker/Bitcoin/?convert=USD\"\n",
    "eth_url = \"https://api.alternative.me/v2/ticker/Ethereum/?convert=USD\""
   ]
  },
  {
   "cell_type": "markdown",
   "metadata": {},
   "source": [
    "#### Step 2. Use the Requests library to get the current price (in US dollars) of Bitcoin (BTC) and Ethereum (ETH) by using the API endpoints that the starter code supplied."
   ]
  },
  {
   "cell_type": "code",
   "execution_count": 6,
   "metadata": {},
   "outputs": [
    {
     "name": "stdout",
     "output_type": "stream",
     "text": [
      "{\n",
      "    \"data\": {\n",
      "        \"1\": {\n",
      "            \"circulating_supply\": 19093668,\n",
      "            \"id\": 1,\n",
      "            \"last_updated\": 1657832075,\n",
      "            \"max_supply\": 21000000,\n",
      "            \"name\": \"Bitcoin\",\n",
      "            \"quotes\": {\n",
      "                \"USD\": {\n",
      "                    \"market_cap\": 393848501485,\n",
      "                    \"percent_change_1h\": -0.0220247204600973,\n",
      "                    \"percent_change_24h\": 4.90999719706865,\n",
      "                    \"percent_change_7d\": 0.3745005019509,\n",
      "                    \"percentage_change_1h\": -0.0220247204600973,\n",
      "                    \"percentage_change_24h\": 4.90999719706865,\n",
      "                    \"percentage_change_7d\": 0.3745005019509,\n",
      "                    \"price\": 20644.0,\n",
      "                    \"volume_24h\": 29094829677\n",
      "                }\n",
      "            },\n",
      "            \"rank\": 1,\n",
      "            \"symbol\": \"BTC\",\n",
      "            \"total_supply\": 19093668,\n",
      "            \"website_slug\": \"bitcoin\"\n",
      "        }\n",
      "    },\n",
      "    \"metadata\": {\n",
      "        \"error\": null,\n",
      "        \"num_cryptocurrencies\": 3116,\n",
      "        \"timestamp\": 1657832075\n",
      "    }\n",
      "}\n"
     ]
    }
   ],
   "source": [
    "# Using the Python requests library, make an API call to access the current price of BTC\n",
    "btc_response = requests.get(btc_url).json()\n",
    "\n",
    "# Use the json.dumps function to review the response data from the API call\n",
    "# Use the indent and sort_keys parameters to make the response object readable\n",
    "print(json.dumps(btc_response, indent=4, sort_keys=True))"
   ]
  },
  {
   "cell_type": "code",
   "execution_count": 7,
   "metadata": {},
   "outputs": [
    {
     "name": "stdout",
     "output_type": "stream",
     "text": [
      "{\n",
      "    \"data\": {\n",
      "        \"1027\": {\n",
      "            \"circulating_supply\": 119682067,\n",
      "            \"id\": 1027,\n",
      "            \"last_updated\": 1657832062,\n",
      "            \"max_supply\": 119681852,\n",
      "            \"name\": \"Ethereum\",\n",
      "            \"quotes\": {\n",
      "                \"USD\": {\n",
      "                    \"market_cap\": 143158078028,\n",
      "                    \"percent_change_1h\": -0.0666346732002735,\n",
      "                    \"percent_change_24h\": 10.9415761026431,\n",
      "                    \"percent_change_7d\": 0.484435452889994,\n",
      "                    \"percentage_change_1h\": -0.0666346732002735,\n",
      "                    \"percentage_change_24h\": 10.9415761026431,\n",
      "                    \"percentage_change_7d\": 0.484435452889994,\n",
      "                    \"price\": 1194.48,\n",
      "                    \"volume_24h\": 16953684279\n",
      "                }\n",
      "            },\n",
      "            \"rank\": 2,\n",
      "            \"symbol\": \"ETH\",\n",
      "            \"total_supply\": 119682067,\n",
      "            \"website_slug\": \"ethereum\"\n",
      "        }\n",
      "    },\n",
      "    \"metadata\": {\n",
      "        \"error\": null,\n",
      "        \"num_cryptocurrencies\": 3116,\n",
      "        \"timestamp\": 1657832062\n",
      "    }\n",
      "}\n"
     ]
    }
   ],
   "source": [
    "# Using the Python requests library, make an API call to access the current price ETH\n",
    "eth_response = requests.get(eth_url).json()\n",
    "\n",
    "# Use the json.dumps function to review the response data from the API call\n",
    "# Use the indent and sort_keys parameters to make the response object readable\n",
    "print(json.dumps(eth_response, indent=4, sort_keys=True))"
   ]
  },
  {
   "cell_type": "markdown",
   "metadata": {},
   "source": [
    "#### Step 3: Navigate the JSON response object to access the current price of each coin, and store each in a variable."
   ]
  },
  {
   "cell_type": "code",
   "execution_count": 8,
   "metadata": {},
   "outputs": [
    {
     "name": "stdout",
     "output_type": "stream",
     "text": [
      "The current price of BTC is $20644.0.\n"
     ]
    }
   ],
   "source": [
    "# Navigate the BTC response object to access the current price of BTC\n",
    "btc_price = btc_response[\"data\"][\"1\"][\"quotes\"][\"USD\"][\"price\"]\n",
    "\n",
    "# Print the current price of BTC\n",
    "print(f\"The current price of BTC is ${round(btc_price, 2)}.\")"
   ]
  },
  {
   "cell_type": "code",
   "execution_count": 9,
   "metadata": {},
   "outputs": [
    {
     "name": "stdout",
     "output_type": "stream",
     "text": [
      "The current price of ETH is $1194.48.\n"
     ]
    }
   ],
   "source": [
    "# Navigate the BTC response object to access the current price of ETH\n",
    "eth_price = eth_response[\"data\"][\"1027\"][\"quotes\"][\"USD\"][\"price\"]\n",
    "\n",
    "# Print the current price of ETH\n",
    "print(f\"The current price of ETH is ${round(eth_price, 2)}.\")"
   ]
  },
  {
   "cell_type": "markdown",
   "metadata": {},
   "source": [
    "### Step 4: Calculate the value, in US dollars, of the current amount of each cryptocurrency and of the entire cryptocurrency wallet."
   ]
  },
  {
   "cell_type": "code",
   "execution_count": 10,
   "metadata": {},
   "outputs": [
    {
     "name": "stdout",
     "output_type": "stream",
     "text": [
      "The current value of BTC holding is $24772.8.\n"
     ]
    }
   ],
   "source": [
    "# Compute the current value of the BTC holding \n",
    "btc_value = btc_price * btc_coins\n",
    "\n",
    "# Print current value of your holding in BTC\n",
    "print(f\"The current value of BTC holding is ${round(btc_value, 2)}.\")"
   ]
  },
  {
   "cell_type": "code",
   "execution_count": 11,
   "metadata": {},
   "outputs": [
    {
     "name": "stdout",
     "output_type": "stream",
     "text": [
      "The current value of ETH holding is $6330.74.\n"
     ]
    }
   ],
   "source": [
    "# Compute the current value of the ETH holding \n",
    "eth_value = eth_price * eth_coins\n",
    "\n",
    "# Print current value of your holding in ETH\n",
    "print(f\"The current value of ETH holding is ${round(eth_value, 2)}.\")"
   ]
  },
  {
   "cell_type": "code",
   "execution_count": 12,
   "metadata": {},
   "outputs": [
    {
     "name": "stdout",
     "output_type": "stream",
     "text": [
      "The current cryptocurrency wallet balance is $31103.54.\n"
     ]
    }
   ],
   "source": [
    "# Compute the total value of the cryptocurrency wallet\n",
    "# Add the value of the BTC holding to the value of the ETH holding\n",
    "total_crypto_wallet = btc_value + eth_value\n",
    "\n",
    "# Print current cryptocurrency wallet balance\n",
    "print(f\"The current cryptocurrency wallet balance is ${round(total_crypto_wallet, 2)}.\")"
   ]
  },
  {
   "cell_type": "markdown",
   "metadata": {},
   "source": [
    "### Evaluate the Stock and Bond Holdings by Using the Alpaca SDK\n",
    "\n",
    "In this section, you’ll determine the current value of a member’s stock and bond holdings. You’ll make an API call to Alpaca via the Alpaca SDK to get the current closing prices of the SPDR S&P 500 ETF Trust (ticker: SPY) and of the iShares Core US Aggregate Bond ETF (ticker: AGG). For the prototype, assume that the member holds 110 shares of SPY, which represents the stock portion of their portfolio, and 200 shares of AGG, which represents the bond portion. To do all this, complete the following steps:\n",
    "\n",
    "1. In the `Starter_Code` folder, create an environment file (`.env`) to store the values of your Alpaca API key and Alpaca secret key.\n",
    "\n",
    "2. Set the variables for the Alpaca API and secret keys. Using the Alpaca SDK, create the Alpaca `tradeapi.REST` object. In this object, include the parameters for the Alpaca API key, the secret key, and the version number.\n",
    "\n",
    "3. Set the following parameters for the Alpaca API call:\n",
    "\n",
    "    - `tickers`: Use the tickers for the member’s stock and bond holdings.\n",
    "\n",
    "    - `timeframe`: Use a time frame of one day.\n",
    "\n",
    "    - `start_date` and `end_date`: Use the same date for these parameters, and format them with the date of the previous weekday (or `2020-08-07`). This is because you want the one closing price for the most-recent trading day.\n",
    "\n",
    "4. Get the current closing prices for `SPY` and `AGG` by using the Alpaca `get_bars` function. Format the response as a Pandas DataFrame by including the `df` property at the end of the `get_bars` function.\n",
    "\n",
    "5. Navigating the Alpaca response DataFrame, select the `SPY` and `AGG` closing prices, and store them as variables.\n",
    "\n",
    "6. Calculate the value, in US dollars, of the current amount of shares in each of the stock and bond portions of the portfolio, and print the results.\n"
   ]
  },
  {
   "cell_type": "markdown",
   "metadata": {},
   "source": [
    "#### Review the total number of shares held in both (SPY) and (AGG)."
   ]
  },
  {
   "cell_type": "code",
   "execution_count": 13,
   "metadata": {},
   "outputs": [],
   "source": [
    "# Current amount of shares held in both the stock (SPY) and bond (AGG) portion of the portfolio.\n",
    "spy_shares = 110\n",
    "agg_shares = 200"
   ]
  },
  {
   "cell_type": "markdown",
   "metadata": {},
   "source": [
    "#### Step 1: In the `Starter_Code` folder, create an environment file (`.env`) to store the values of your Alpaca API key and Alpaca secret key."
   ]
  },
  {
   "cell_type": "markdown",
   "metadata": {},
   "source": [
    "#### Step 2: Set the variables for the Alpaca API and secret keys. Using the Alpaca SDK, create the Alpaca `tradeapi.REST` object. In this object, include the parameters for the Alpaca API key, the secret key, and the version number."
   ]
  },
  {
   "cell_type": "code",
   "execution_count": 14,
   "metadata": {},
   "outputs": [],
   "source": [
    "# Set the variables for the Alpaca API and secret keys\n",
    "alpaca_api_key = os.getenv(\"ALPACA_API_KEY\")\n",
    "alpaca_secret_key = os.getenv(\"ALPACA_SECRET_KEY\")\n",
    "\n",
    "# Create the Alpaca tradeapi.REST object\n",
    "alpaca = tradeapi.REST(alpaca_api_key,\n",
    "                       alpaca_secret_key,\n",
    "                       api_version = \"v2\")"
   ]
  },
  {
   "cell_type": "markdown",
   "metadata": {},
   "source": [
    "#### Step 3: Set the following parameters for the Alpaca API call:\n",
    "\n",
    "- `tickers`: Use the tickers for the member’s stock and bond holdings.\n",
    "\n",
    "- `timeframe`: Use a time frame of one day.\n",
    "\n",
    "- `start_date` and `end_date`: Use the same date for these parameters, and format them with the date of the previous weekday (or `2020-08-07`). This is because you want the one closing price for the most-recent trading day.\n"
   ]
  },
  {
   "cell_type": "code",
   "execution_count": 15,
   "metadata": {},
   "outputs": [],
   "source": [
    "# Set the tickers for both the bond and stock portion of the portfolio\n",
    "tickers = [\"SPY\", \"AGG\"]\n",
    "\n",
    "# Set timeframe to 1Day\n",
    "timeframe = \"1D\"\n",
    "\n",
    "# Format current date as ISO format\n",
    "# Set both the start and end date at the date of your prior weekday \n",
    "# This will give you the closing price of the previous trading day\n",
    "# Alternatively you can use a start and end date of 2020-08-07\n",
    "start_date = pd.Timestamp(\"2020-08-07\", tz=\"America/New_York\").isoformat()\n",
    "end_date = pd.Timestamp(\"2020-08-07\", tz=\"America/New_York\").isoformat()"
   ]
  },
  {
   "cell_type": "markdown",
   "metadata": {},
   "source": [
    "#### Step 4: Get the current closing prices for `SPY` and `AGG` by using the Alpaca `get_bars` function. Format the response as a Pandas DataFrame by including the `df` property at the end of the `get_bars` function."
   ]
  },
  {
   "cell_type": "code",
   "execution_count": 16,
   "metadata": {},
   "outputs": [
    {
     "name": "stdout",
     "output_type": "stream",
     "text": [
      "                              SPY                                   \\\n",
      "                             open    high    low   close    volume   \n",
      "timestamp                                                            \n",
      "2020-08-07 04:00:00+00:00  333.29  334.88  332.3  334.57  57282821   \n",
      "\n",
      "                                                      AGG                   \\\n",
      "                          trade_count        vwap    open    high      low   \n",
      "timestamp                                                                    \n",
      "2020-08-07 04:00:00+00:00      350100  333.800372  119.66  119.73  119.395   \n",
      "\n",
      "                                                                    \n",
      "                            close   volume trade_count        vwap  \n",
      "timestamp                                                           \n",
      "2020-08-07 04:00:00+00:00  119.43  5559066       15246  119.475306  \n"
     ]
    }
   ],
   "source": [
    "# Use the Alpaca get_bars function to get current closing prices the portfolio\n",
    "# Be sure to set the `df` property after the function to format the response object as a DataFrame\n",
    "prices_df = alpaca.get_bars(tickers,\n",
    "                              timeframe,\n",
    "                              start_date,\n",
    "                              end_date).df\n",
    "\n",
    "# Reorganize the DataFrame\n",
    "# Separate ticker data\n",
    "SPY = prices_df[prices_df[\"symbol\"] == \"SPY\"].drop(\"symbol\", axis = 1)\n",
    "AGG = prices_df[prices_df[\"symbol\"] == \"AGG\"].drop(\"symbol\", axis = 1)\n",
    "\n",
    "# Concatenate the ticker DataFrames\n",
    "prices_df = pd.concat([SPY, AGG], axis = 1, keys = [\"SPY\", \"AGG\"])\n",
    "\n",
    "# Review the first 5 rows of the Alpaca DataFrame\n",
    "print(prices_df.head())"
   ]
  },
  {
   "cell_type": "markdown",
   "metadata": {},
   "source": [
    "#### Step 5: Navigating the Alpaca response DataFrame, select the `SPY` and `AGG` closing prices, and store them as variables."
   ]
  },
  {
   "cell_type": "code",
   "execution_count": 17,
   "metadata": {},
   "outputs": [
    {
     "name": "stdout",
     "output_type": "stream",
     "text": [
      "The AGG closing price is $119.43.\n"
     ]
    }
   ],
   "source": [
    "# Access the closing price for AGG from the Alpaca DataFrame\n",
    "# Converting the value to a floating point number\n",
    "agg_close_price = float(prices_df[\"AGG\"][\"close\"])\n",
    "\n",
    "# Print the AGG closing price\n",
    "print(f\"The AGG closing price is ${agg_close_price}.\")"
   ]
  },
  {
   "cell_type": "code",
   "execution_count": 18,
   "metadata": {},
   "outputs": [
    {
     "name": "stdout",
     "output_type": "stream",
     "text": [
      "The SPY closing price is $334.57.\n"
     ]
    }
   ],
   "source": [
    "# Access the closing price for SPY from the Alpaca DataFrame\n",
    "# Converting the value to a floating point number\n",
    "spy_close_price = float(prices_df[\"SPY\"][\"close\"])\n",
    "\n",
    "# Print the SPY closing price\n",
    "print(f\"The SPY closing price is ${spy_close_price}.\")"
   ]
  },
  {
   "cell_type": "markdown",
   "metadata": {},
   "source": [
    "#### Step 6: Calculate the value, in US dollars, of the current amount of shares in each of the stock and bond portions of the portfolio, and print the results."
   ]
  },
  {
   "cell_type": "code",
   "execution_count": 19,
   "metadata": {},
   "outputs": [
    {
     "name": "stdout",
     "output_type": "stream",
     "text": [
      "The current value of the AGG bond portfolio is $23886.0.\n"
     ]
    }
   ],
   "source": [
    "# Calculate the current value of the bond portion of the portfolio\n",
    "agg_value = agg_close_price * agg_shares\n",
    "\n",
    "# Print the current value of the bond portfolio\n",
    "print(f\"The current value of the AGG bond portfolio is ${round(agg_value, 2)}.\")"
   ]
  },
  {
   "cell_type": "code",
   "execution_count": 20,
   "metadata": {},
   "outputs": [
    {
     "name": "stdout",
     "output_type": "stream",
     "text": [
      "The current value of the SPY stock portfolio is $36802.7.\n"
     ]
    }
   ],
   "source": [
    "# Calculate the current value of the stock portion of the portfolio\n",
    "spy_value = spy_close_price * spy_shares\n",
    "\n",
    "# Print the current value of the stock portfolio\n",
    "print(f\"The current value of the SPY stock portfolio is ${round(spy_value, 2)}.\")"
   ]
  },
  {
   "cell_type": "code",
   "execution_count": 21,
   "metadata": {},
   "outputs": [
    {
     "name": "stdout",
     "output_type": "stream",
     "text": [
      "The current balance of the SPY stock and AGG bond portfolio is $60688.7.\n"
     ]
    }
   ],
   "source": [
    "# Calculate the total value of the stock and bond portion of the portfolio\n",
    "total_stocks_bonds = agg_value + spy_value\n",
    "\n",
    "# Print the current balance of the stock and bond portion of the portfolio\n",
    "print(f\"The current balance of the SPY stock and AGG bond portfolio is ${round(total_stocks_bonds, 2)}.\")"
   ]
  },
  {
   "cell_type": "code",
   "execution_count": 22,
   "metadata": {},
   "outputs": [
    {
     "name": "stdout",
     "output_type": "stream",
     "text": [
      "The member's current value of the crypto wallet, SPY stock and AGG bond portolio is $91792.24.\n"
     ]
    }
   ],
   "source": [
    "# Calculate the total value of the member's entire savings portfolio\n",
    "# Add the value of the cryptocurrency walled to the value of the total stocks and bonds\n",
    "total_portfolio = total_crypto_wallet + total_stocks_bonds\n",
    "\n",
    "# Print current cryptocurrency wallet balance\n",
    "print(f\"The member's current value of the crypto wallet, SPY stock and AGG bond portolio is ${round(total_portfolio, 2)}.\")"
   ]
  },
  {
   "cell_type": "markdown",
   "metadata": {},
   "source": [
    "### Evaluate the Emergency Fund\n",
    "\n",
    "In this section, you’ll use the valuations for the cryptocurrency wallet and for the stock and bond portions of the portfolio to determine if the credit union member has enough savings to build an emergency fund into their financial plan. To do this, complete the following steps:\n",
    "\n",
    "1. Create a Python list named `savings_data` that has two elements. The first element contains the total value of the cryptocurrency wallet. The second element contains the total value of the stock and bond portions of the portfolio.\n",
    "\n",
    "2. Use the `savings_data` list to create a Pandas DataFrame named `savings_df`, and then display this DataFrame. The function to create the DataFrame should take the following three parameters:\n",
    "\n",
    "    - `savings_data`: Use the list that you just created.\n",
    "\n",
    "    - `columns`: Set this parameter equal to a Python list with a single value called `amount`.\n",
    "\n",
    "    - `index`: Set this parameter equal to a Python list with the values of `crypto` and `stock/bond`.\n",
    "\n",
    "3. Use the `savings_df` DataFrame to plot a pie chart that visualizes the composition of the member’s portfolio. The y-axis of the pie chart uses `amount`. Be sure to add a title.\n",
    "\n",
    "4. Using Python, determine if the current portfolio has enough to create an emergency fund as part of the member’s financial plan. Ideally, an emergency fund should equal to three times the member’s monthly income. To do this, implement the following steps:\n",
    "\n",
    "    1. Create a variable named `emergency_fund_value`, and set it equal to three times the value of the member’s `monthly_income` of $12000. (You set this earlier in Part 1).\n",
    "\n",
    "    2. Create a series of three if statements to determine if the member’s total portfolio is large enough to fund the emergency portfolio:\n",
    "\n",
    "        1. If the total portfolio value is greater than the emergency fund value, display a message congratulating the member for having enough money in this fund.\n",
    "\n",
    "        2. Else if the total portfolio value is equal to the emergency fund value, display a message congratulating the member on reaching this important financial goal.\n",
    "\n",
    "        3. Else the total portfolio is less than the emergency fund value, so display a message showing how many dollars away the member is from reaching the goal. (Subtract the total portfolio value from the emergency fund value.)\n"
   ]
  },
  {
   "cell_type": "markdown",
   "metadata": {},
   "source": [
    "#### Step 1: Create a Python list named `savings_data` that has two elements. The first element contains the total value of the cryptocurrency wallet. The second element contains the total value of the stock and bond portions of the portfolio."
   ]
  },
  {
   "cell_type": "code",
   "execution_count": 23,
   "metadata": {},
   "outputs": [
    {
     "name": "stdout",
     "output_type": "stream",
     "text": [
      "[31103.543999999998, 60688.7]\n"
     ]
    }
   ],
   "source": [
    "# Consolidate financial assets data into a Python list\n",
    "savings_data = [total_crypto_wallet, total_stocks_bonds]\n",
    "\n",
    "# Review the Python list savings_data\n",
    "print(savings_data)    "
   ]
  },
  {
   "cell_type": "markdown",
   "metadata": {},
   "source": [
    "#### Step 2: Use the `savings_data` list to create a Pandas DataFrame named `savings_df`, and then display this DataFrame. The function to create the DataFrame should take the following three parameters:\n",
    "\n",
    "- `savings_data`: Use the list that you just created.\n",
    "\n",
    "- `columns`: Set this parameter equal to a Python list with a single value called `amount`.\n",
    "\n",
    "- `index`: Set this parameter equal to a Python list with the values of `crypto` and `stock/bond`.\n"
   ]
  },
  {
   "cell_type": "code",
   "execution_count": 24,
   "metadata": {},
   "outputs": [
    {
     "name": "stdout",
     "output_type": "stream",
     "text": [
      "               amount\n",
      "crypto      31103.544\n",
      "stock/bond  60688.700\n"
     ]
    }
   ],
   "source": [
    "# Create a Pandas DataFrame called savings_df \n",
    "savings_df = pd.DataFrame(savings_data,\n",
    "                          columns = [\"amount\"],\n",
    "                          index = [\"crypto\", \"stock/bond\"])\n",
    "\n",
    "# Display the savings_df DataFrame\n",
    "print(savings_df.head())"
   ]
  },
  {
   "cell_type": "markdown",
   "metadata": {},
   "source": [
    "#### Step 3: Use the `savings_df` DataFrame to plot a pie chart that visualizes the composition of the member’s portfolio. The y-axis of the pie chart uses `amount`. Be sure to add a title."
   ]
  },
  {
   "cell_type": "code",
   "execution_count": 25,
   "metadata": {},
   "outputs": [
    {
     "data": {
      "text/plain": [
       "<AxesSubplot:title={'center':\"The member's share of crypto and stock/bond\"}, ylabel='amount'>"
      ]
     },
     "execution_count": 25,
     "metadata": {},
     "output_type": "execute_result"
    },
    {
     "data": {
      "image/png": "[encoded data removed]",
      "text/plain": [
       "<Figure size 720x504 with 1 Axes>"
      ]
     },
     "metadata": {},
     "output_type": "display_data"
    }
   ],
   "source": [
    "# Plot the total value of the member's portfolio (crypto and stock/bond) in a pie chart\n",
    "savings_df.plot.pie(y = \"amount\", figsize = (10,7), title = \"The member's share of crypto and stock/bond\")"
   ]
  },
  {
   "cell_type": "markdown",
   "metadata": {},
   "source": [
    "#### Step 4: Using Python, determine if the current portfolio has enough to create an emergency fund as part of the member’s financial plan. Ideally, an emergency fund should equal to three times the member’s monthly income. To do this, implement the following steps:\n",
    "\n",
    "Step 1. Create a variable named `emergency_fund_value`, and set it equal to three times the value of the member’s `monthly_income` of 12000. (You set this earlier in Part 1).\n",
    "\n",
    "Step 2. Create a series of three if statements to determine if the member’s total portfolio is large enough to fund the emergency portfolio:\n",
    "\n",
    "* If the total portfolio value is greater than the emergency fund value, display a message congratulating the member for having enough money in this fund.\n",
    "\n",
    "* Else if the total portfolio value is equal to the emergency fund value, display a message congratulating the member on reaching this important financial goal.\n",
    "\n",
    "* Else the total portfolio is less than the emergency fund value, so display a message showing how many dollars away the member is from reaching the goal. (Subtract the total portfolio value from the emergency fund value.)\n"
   ]
  },
  {
   "cell_type": "markdown",
   "metadata": {},
   "source": [
    "##### Step 4-1: Create a variable named `emergency_fund_value`, and set it equal to three times the value of the member’s `monthly_income` of 12000. (You set this earlier in Part 1)."
   ]
  },
  {
   "cell_type": "code",
   "execution_count": 26,
   "metadata": {},
   "outputs": [],
   "source": [
    "# Create a variable named emergency_fund_value\n",
    "emergency_fund_value = round(float(monthly_income * 3), 2)"
   ]
  },
  {
   "cell_type": "markdown",
   "metadata": {},
   "source": [
    "##### Step 4-2: Create a series of three if statements to determine if the member’s total portfolio is large enough to fund the emergency portfolio:\n",
    "\n",
    "* If the total portfolio value is greater than the emergency fund value, display a message congratulating the member for having enough money in this fund.\n",
    "\n",
    "* Else if the total portfolio value is equal to the emergency fund value, display a message congratulating the member on reaching this important financial goal.\n",
    "\n",
    "* Else the total portfolio is less than the emergency fund value, so display a message showing how many dollars away the member is from reaching the goal. (Subtract the total portfolio value from the emergency fund value.)"
   ]
  },
  {
   "cell_type": "code",
   "execution_count": 27,
   "metadata": {},
   "outputs": [
    {
     "name": "stdout",
     "output_type": "stream",
     "text": [
      "Congratulations on surpassing your financial goal!\n"
     ]
    }
   ],
   "source": [
    "# Evaluate the possibility of creating an emergency fund with 3 conditions:\n",
    "total_savings = round(savings_df[\"amount\"].sum(), 2)\n",
    "\n",
    "if total_savings > emergency_fund_value :\n",
    "    print(f\"Congratulations on surpassing your financial goal!\")\n",
    "elif total_savings == emergency_fund_value:\n",
    "    print(f\"Congratulations on reaching your financial goal!\")\n",
    "else:\n",
    "    savings_needed = emergency_fund_value - total_savings\n",
    "    print(f\"You are only ${round(savings_needed, 2)} away from reaching your financial goal!\")"
   ]
  },
  {
   "cell_type": "markdown",
   "metadata": {},
   "source": [
    "## Part 2: Create a Financial Planner for Retirement"
   ]
  },
  {
   "cell_type": "markdown",
   "metadata": {},
   "source": [
    "### Create the Monte Carlo Simulation\n",
    "\n",
    "In this section, you’ll use the MCForecastTools library to create a Monte Carlo simulation for the member’s savings portfolio. To do this, complete the following steps:\n",
    "\n",
    "1. Make an API call via the Alpaca SDK to get 3 years of historical closing prices for a traditional 60/40 portfolio split: 60% stocks (SPY) and 40% bonds (AGG).\n",
    "\n",
    "2. Run a Monte Carlo simulation of 500 samples and 30 years for the 60/40 portfolio, and then plot the results.The following image shows the overlay line plot resulting from a simulation with these characteristics. However, because a random number generator is used to run each live Monte Carlo simulation, your image will differ slightly from this exact image:\n",
    "\n",
    "![A screenshot depicts the resulting plot.](Images/5-4-monte-carlo-line-plot.png)\n",
    "\n",
    "3. Plot the probability distribution of the Monte Carlo simulation. Plot the probability distribution of the Monte Carlo simulation. The following image shows the histogram plot resulting from a simulation with these characteristics. However, because a random number generator is used to run each live Monte Carlo simulation, your image will differ slightly from this exact image:\n",
    "\n",
    "![A screenshot depicts the histogram plot.](Images/5-4-monte-carlo-histogram.png)\n",
    "\n",
    "4. Generate the summary statistics for the Monte Carlo simulation.\n",
    "\n"
   ]
  },
  {
   "cell_type": "markdown",
   "metadata": {},
   "source": [
    "#### Step 1: Make an API call via the Alpaca SDK to get 3 years of historical closing prices for a traditional 60/40 portfolio split: 60% stocks (SPY) and 40% bonds (AGG)."
   ]
  },
  {
   "cell_type": "code",
   "execution_count": 28,
   "metadata": {},
   "outputs": [],
   "source": [
    "# Set start and end dates of 3 years back from your current date\n",
    "# Alternatively, you can use an end date of 2020-08-07 and work 3 years back from that date \n",
    "start_date = pd.Timestamp(\"2017-08-07\", tz = \"America/New_York\").isoformat()\n",
    "end_date = pd.Timestamp(\"2020-08-07\", tz = \"America/New_York\").isoformat()"
   ]
  },
  {
   "cell_type": "code",
   "execution_count": 29,
   "metadata": {},
   "outputs": [
    {
     "data": {
      "text/html": [
       "<div>\n",
       "<style scoped>\n",
       "    .dataframe tbody tr th:only-of-type {\n",
       "        vertical-align: middle;\n",
       "    }\n",
       "\n",
       "    .dataframe tbody tr th {\n",
       "        vertical-align: top;\n",
       "    }\n",
       "\n",
       "    .dataframe thead tr th {\n",
       "        text-align: left;\n",
       "    }\n",
       "\n",
       "    .dataframe thead tr:last-of-type th {\n",
       "        text-align: right;\n",
       "    }\n",
       "</style>\n",
       "<table border=\"1\" class=\"dataframe\">\n",
       "  <thead>\n",
       "    <tr>\n",
       "      <th></th>\n",
       "      <th colspan=\"7\" halign=\"left\">SPY</th>\n",
       "      <th colspan=\"7\" halign=\"left\">AGG</th>\n",
       "    </tr>\n",
       "    <tr>\n",
       "      <th></th>\n",
       "      <th>open</th>\n",
       "      <th>high</th>\n",
       "      <th>low</th>\n",
       "      <th>close</th>\n",
       "      <th>volume</th>\n",
       "      <th>trade_count</th>\n",
       "      <th>vwap</th>\n",
       "      <th>open</th>\n",
       "      <th>high</th>\n",
       "      <th>low</th>\n",
       "      <th>close</th>\n",
       "      <th>volume</th>\n",
       "      <th>trade_count</th>\n",
       "      <th>vwap</th>\n",
       "    </tr>\n",
       "    <tr>\n",
       "      <th>timestamp</th>\n",
       "      <th></th>\n",
       "      <th></th>\n",
       "      <th></th>\n",
       "      <th></th>\n",
       "      <th></th>\n",
       "      <th></th>\n",
       "      <th></th>\n",
       "      <th></th>\n",
       "      <th></th>\n",
       "      <th></th>\n",
       "      <th></th>\n",
       "      <th></th>\n",
       "      <th></th>\n",
       "      <th></th>\n",
       "    </tr>\n",
       "  </thead>\n",
       "  <tbody>\n",
       "    <tr>\n",
       "      <th>2017-08-07 04:00:00+00:00</th>\n",
       "      <td>247.50</td>\n",
       "      <td>247.87</td>\n",
       "      <td>247.37</td>\n",
       "      <td>247.87</td>\n",
       "      <td>31995021</td>\n",
       "      <td>100111</td>\n",
       "      <td>247.668698</td>\n",
       "      <td>109.69</td>\n",
       "      <td>109.72</td>\n",
       "      <td>109.6066</td>\n",
       "      <td>109.67</td>\n",
       "      <td>2359826</td>\n",
       "      <td>7755</td>\n",
       "      <td>109.674876</td>\n",
       "    </tr>\n",
       "    <tr>\n",
       "      <th>2017-08-08 04:00:00+00:00</th>\n",
       "      <td>247.49</td>\n",
       "      <td>248.91</td>\n",
       "      <td>246.83</td>\n",
       "      <td>247.26</td>\n",
       "      <td>61719353</td>\n",
       "      <td>192921</td>\n",
       "      <td>247.739709</td>\n",
       "      <td>109.67</td>\n",
       "      <td>109.69</td>\n",
       "      <td>109.5000</td>\n",
       "      <td>109.57</td>\n",
       "      <td>2570876</td>\n",
       "      <td>12663</td>\n",
       "      <td>109.577636</td>\n",
       "    </tr>\n",
       "    <tr>\n",
       "      <th>2017-08-09 04:00:00+00:00</th>\n",
       "      <td>246.46</td>\n",
       "      <td>247.31</td>\n",
       "      <td>246.06</td>\n",
       "      <td>247.25</td>\n",
       "      <td>62632619</td>\n",
       "      <td>223650</td>\n",
       "      <td>246.791421</td>\n",
       "      <td>109.87</td>\n",
       "      <td>109.87</td>\n",
       "      <td>109.6600</td>\n",
       "      <td>109.67</td>\n",
       "      <td>2308932</td>\n",
       "      <td>11031</td>\n",
       "      <td>109.771749</td>\n",
       "    </tr>\n",
       "    <tr>\n",
       "      <th>2017-08-10 04:00:00+00:00</th>\n",
       "      <td>246.30</td>\n",
       "      <td>246.44</td>\n",
       "      <td>243.70</td>\n",
       "      <td>243.76</td>\n",
       "      <td>120418270</td>\n",
       "      <td>424321</td>\n",
       "      <td>245.027847</td>\n",
       "      <td>109.70</td>\n",
       "      <td>109.85</td>\n",
       "      <td>109.6700</td>\n",
       "      <td>109.78</td>\n",
       "      <td>2004163</td>\n",
       "      <td>12437</td>\n",
       "      <td>109.776611</td>\n",
       "    </tr>\n",
       "    <tr>\n",
       "      <th>2017-08-11 04:00:00+00:00</th>\n",
       "      <td>244.00</td>\n",
       "      <td>244.80</td>\n",
       "      <td>243.75</td>\n",
       "      <td>244.12</td>\n",
       "      <td>74869947</td>\n",
       "      <td>278786</td>\n",
       "      <td>244.222867</td>\n",
       "      <td>109.75</td>\n",
       "      <td>109.94</td>\n",
       "      <td>109.6800</td>\n",
       "      <td>109.87</td>\n",
       "      <td>1913253</td>\n",
       "      <td>10113</td>\n",
       "      <td>109.860974</td>\n",
       "    </tr>\n",
       "  </tbody>\n",
       "</table>\n",
       "</div>"
      ],
      "text/plain": [
       "                              SPY                                     \\\n",
       "                             open    high     low   close     volume   \n",
       "timestamp                                                              \n",
       "2017-08-07 04:00:00+00:00  247.50  247.87  247.37  247.87   31995021   \n",
       "2017-08-08 04:00:00+00:00  247.49  248.91  246.83  247.26   61719353   \n",
       "2017-08-09 04:00:00+00:00  246.46  247.31  246.06  247.25   62632619   \n",
       "2017-08-10 04:00:00+00:00  246.30  246.44  243.70  243.76  120418270   \n",
       "2017-08-11 04:00:00+00:00  244.00  244.80  243.75  244.12   74869947   \n",
       "\n",
       "                                                      AGG                    \\\n",
       "                          trade_count        vwap    open    high       low   \n",
       "timestamp                                                                     \n",
       "2017-08-07 04:00:00+00:00      100111  247.668698  109.69  109.72  109.6066   \n",
       "2017-08-08 04:00:00+00:00      192921  247.739709  109.67  109.69  109.5000   \n",
       "2017-08-09 04:00:00+00:00      223650  246.791421  109.87  109.87  109.6600   \n",
       "2017-08-10 04:00:00+00:00      424321  245.027847  109.70  109.85  109.6700   \n",
       "2017-08-11 04:00:00+00:00      278786  244.222867  109.75  109.94  109.6800   \n",
       "\n",
       "                                                                    \n",
       "                            close   volume trade_count        vwap  \n",
       "timestamp                                                           \n",
       "2017-08-07 04:00:00+00:00  109.67  2359826        7755  109.674876  \n",
       "2017-08-08 04:00:00+00:00  109.57  2570876       12663  109.577636  \n",
       "2017-08-09 04:00:00+00:00  109.67  2308932       11031  109.771749  \n",
       "2017-08-10 04:00:00+00:00  109.78  2004163       12437  109.776611  \n",
       "2017-08-11 04:00:00+00:00  109.87  1913253       10113  109.860974  "
      ]
     },
     "metadata": {},
     "output_type": "display_data"
    },
    {
     "data": {
      "text/html": [
       "<div>\n",
       "<style scoped>\n",
       "    .dataframe tbody tr th:only-of-type {\n",
       "        vertical-align: middle;\n",
       "    }\n",
       "\n",
       "    .dataframe tbody tr th {\n",
       "        vertical-align: top;\n",
       "    }\n",
       "\n",
       "    .dataframe thead tr th {\n",
       "        text-align: left;\n",
       "    }\n",
       "\n",
       "    .dataframe thead tr:last-of-type th {\n",
       "        text-align: right;\n",
       "    }\n",
       "</style>\n",
       "<table border=\"1\" class=\"dataframe\">\n",
       "  <thead>\n",
       "    <tr>\n",
       "      <th></th>\n",
       "      <th colspan=\"7\" halign=\"left\">SPY</th>\n",
       "      <th colspan=\"7\" halign=\"left\">AGG</th>\n",
       "    </tr>\n",
       "    <tr>\n",
       "      <th></th>\n",
       "      <th>open</th>\n",
       "      <th>high</th>\n",
       "      <th>low</th>\n",
       "      <th>close</th>\n",
       "      <th>volume</th>\n",
       "      <th>trade_count</th>\n",
       "      <th>vwap</th>\n",
       "      <th>open</th>\n",
       "      <th>high</th>\n",
       "      <th>low</th>\n",
       "      <th>close</th>\n",
       "      <th>volume</th>\n",
       "      <th>trade_count</th>\n",
       "      <th>vwap</th>\n",
       "    </tr>\n",
       "    <tr>\n",
       "      <th>timestamp</th>\n",
       "      <th></th>\n",
       "      <th></th>\n",
       "      <th></th>\n",
       "      <th></th>\n",
       "      <th></th>\n",
       "      <th></th>\n",
       "      <th></th>\n",
       "      <th></th>\n",
       "      <th></th>\n",
       "      <th></th>\n",
       "      <th></th>\n",
       "      <th></th>\n",
       "      <th></th>\n",
       "      <th></th>\n",
       "    </tr>\n",
       "  </thead>\n",
       "  <tbody>\n",
       "    <tr>\n",
       "      <th>2020-08-03 04:00:00+00:00</th>\n",
       "      <td>328.31</td>\n",
       "      <td>329.62</td>\n",
       "      <td>327.73</td>\n",
       "      <td>328.79</td>\n",
       "      <td>53080454</td>\n",
       "      <td>288008</td>\n",
       "      <td>328.658804</td>\n",
       "      <td>119.37</td>\n",
       "      <td>119.40</td>\n",
       "      <td>119.1903</td>\n",
       "      <td>119.40</td>\n",
       "      <td>13014535</td>\n",
       "      <td>36359</td>\n",
       "      <td>119.282420</td>\n",
       "    </tr>\n",
       "    <tr>\n",
       "      <th>2020-08-04 04:00:00+00:00</th>\n",
       "      <td>327.88</td>\n",
       "      <td>330.06</td>\n",
       "      <td>327.86</td>\n",
       "      <td>330.06</td>\n",
       "      <td>41918004</td>\n",
       "      <td>250900</td>\n",
       "      <td>329.057593</td>\n",
       "      <td>119.42</td>\n",
       "      <td>119.63</td>\n",
       "      <td>119.4200</td>\n",
       "      <td>119.63</td>\n",
       "      <td>10935181</td>\n",
       "      <td>39114</td>\n",
       "      <td>119.541666</td>\n",
       "    </tr>\n",
       "    <tr>\n",
       "      <th>2020-08-05 04:00:00+00:00</th>\n",
       "      <td>331.46</td>\n",
       "      <td>332.39</td>\n",
       "      <td>331.18</td>\n",
       "      <td>332.11</td>\n",
       "      <td>42870955</td>\n",
       "      <td>241416</td>\n",
       "      <td>331.791643</td>\n",
       "      <td>119.39</td>\n",
       "      <td>119.49</td>\n",
       "      <td>119.3100</td>\n",
       "      <td>119.40</td>\n",
       "      <td>17377874</td>\n",
       "      <td>42313</td>\n",
       "      <td>119.387245</td>\n",
       "    </tr>\n",
       "    <tr>\n",
       "      <th>2020-08-06 04:00:00+00:00</th>\n",
       "      <td>331.52</td>\n",
       "      <td>334.46</td>\n",
       "      <td>331.13</td>\n",
       "      <td>334.33</td>\n",
       "      <td>43745653</td>\n",
       "      <td>290039</td>\n",
       "      <td>332.937218</td>\n",
       "      <td>119.62</td>\n",
       "      <td>119.73</td>\n",
       "      <td>119.5300</td>\n",
       "      <td>119.57</td>\n",
       "      <td>4608710</td>\n",
       "      <td>15938</td>\n",
       "      <td>119.604199</td>\n",
       "    </tr>\n",
       "    <tr>\n",
       "      <th>2020-08-07 04:00:00+00:00</th>\n",
       "      <td>333.29</td>\n",
       "      <td>334.88</td>\n",
       "      <td>332.30</td>\n",
       "      <td>334.57</td>\n",
       "      <td>57282821</td>\n",
       "      <td>350100</td>\n",
       "      <td>333.800372</td>\n",
       "      <td>119.66</td>\n",
       "      <td>119.73</td>\n",
       "      <td>119.3950</td>\n",
       "      <td>119.43</td>\n",
       "      <td>5559066</td>\n",
       "      <td>15246</td>\n",
       "      <td>119.475306</td>\n",
       "    </tr>\n",
       "  </tbody>\n",
       "</table>\n",
       "</div>"
      ],
      "text/plain": [
       "                              SPY                                    \\\n",
       "                             open    high     low   close    volume   \n",
       "timestamp                                                             \n",
       "2020-08-03 04:00:00+00:00  328.31  329.62  327.73  328.79  53080454   \n",
       "2020-08-04 04:00:00+00:00  327.88  330.06  327.86  330.06  41918004   \n",
       "2020-08-05 04:00:00+00:00  331.46  332.39  331.18  332.11  42870955   \n",
       "2020-08-06 04:00:00+00:00  331.52  334.46  331.13  334.33  43745653   \n",
       "2020-08-07 04:00:00+00:00  333.29  334.88  332.30  334.57  57282821   \n",
       "\n",
       "                                                      AGG                    \\\n",
       "                          trade_count        vwap    open    high       low   \n",
       "timestamp                                                                     \n",
       "2020-08-03 04:00:00+00:00      288008  328.658804  119.37  119.40  119.1903   \n",
       "2020-08-04 04:00:00+00:00      250900  329.057593  119.42  119.63  119.4200   \n",
       "2020-08-05 04:00:00+00:00      241416  331.791643  119.39  119.49  119.3100   \n",
       "2020-08-06 04:00:00+00:00      290039  332.937218  119.62  119.73  119.5300   \n",
       "2020-08-07 04:00:00+00:00      350100  333.800372  119.66  119.73  119.3950   \n",
       "\n",
       "                                                                     \n",
       "                            close    volume trade_count        vwap  \n",
       "timestamp                                                            \n",
       "2020-08-03 04:00:00+00:00  119.40  13014535       36359  119.282420  \n",
       "2020-08-04 04:00:00+00:00  119.63  10935181       39114  119.541666  \n",
       "2020-08-05 04:00:00+00:00  119.40  17377874       42313  119.387245  \n",
       "2020-08-06 04:00:00+00:00  119.57   4608710       15938  119.604199  \n",
       "2020-08-07 04:00:00+00:00  119.43   5559066       15246  119.475306  "
      ]
     },
     "metadata": {},
     "output_type": "display_data"
    }
   ],
   "source": [
    "# Use the Alpaca get_bars function to make the API call to get the 3 years worth of pricing data\n",
    "# The tickers and timeframe parameters should have been set in Part 1 of this activity \n",
    "# The start and end dates should be updated with the information set above\n",
    "# Remember to add the df property to the end of the call so the response is returned as a DataFrame\n",
    "prices_3_yr_df = alpaca.get_bars(tickers,\n",
    "                                 timeframe,\n",
    "                                 start_date,\n",
    "                                 end_date).df\n",
    "\n",
    "# Reorganize the DataFrame\n",
    "# Separate ticker data\n",
    "SPY = prices_3_yr_df[prices_3_yr_df[\"symbol\"] == \"SPY\"].drop(\"symbol\", axis = 1)\n",
    "AGG = prices_3_yr_df[prices_3_yr_df[\"symbol\"] == \"AGG\"].drop(\"symbol\", axis = 1)\n",
    "\n",
    "# Concatenate the ticker DataFrames\n",
    "prices_3_yr_df = pd.concat([SPY, AGG], axis = 1, keys = [\"SPY\", \"AGG\"])\n",
    "\n",
    "# Display both the first and last five rows of the DataFrame\n",
    "display(prices_3_yr_df.head())\n",
    "display(prices_3_yr_df.tail())"
   ]
  },
  {
   "cell_type": "markdown",
   "metadata": {},
   "source": [
    "#### Step 2: Run a Monte Carlo simulation of 500 samples and 30 years for the 60/40 portfolio, and then plot the results."
   ]
  },
  {
   "cell_type": "code",
   "execution_count": 30,
   "metadata": {},
   "outputs": [
    {
     "name": "stdout",
     "output_type": "stream",
     "text": [
      "                              SPY                                     \\\n",
      "                             open    high     low   close     volume   \n",
      "timestamp                                                              \n",
      "2017-08-07 04:00:00+00:00  247.50  247.87  247.37  247.87   31995021   \n",
      "2017-08-08 04:00:00+00:00  247.49  248.91  246.83  247.26   61719353   \n",
      "2017-08-09 04:00:00+00:00  246.46  247.31  246.06  247.25   62632619   \n",
      "2017-08-10 04:00:00+00:00  246.30  246.44  243.70  243.76  120418270   \n",
      "2017-08-11 04:00:00+00:00  244.00  244.80  243.75  244.12   74869947   \n",
      "\n",
      "                                                                   AGG  \\\n",
      "                          trade_count        vwap daily_return    open   \n",
      "timestamp                                                                \n",
      "2017-08-07 04:00:00+00:00      100111  247.668698          NaN  109.69   \n",
      "2017-08-08 04:00:00+00:00      192921  247.739709    -0.002461  109.67   \n",
      "2017-08-09 04:00:00+00:00      223650  246.791421    -0.000040  109.87   \n",
      "2017-08-10 04:00:00+00:00      424321  245.027847    -0.014115  109.70   \n",
      "2017-08-11 04:00:00+00:00      278786  244.222867     0.001477  109.75   \n",
      "\n",
      "                                                                          \\\n",
      "                             high       low   close   volume trade_count   \n",
      "timestamp                                                                  \n",
      "2017-08-07 04:00:00+00:00  109.72  109.6066  109.67  2359826        7755   \n",
      "2017-08-08 04:00:00+00:00  109.69  109.5000  109.57  2570876       12663   \n",
      "2017-08-09 04:00:00+00:00  109.87  109.6600  109.67  2308932       11031   \n",
      "2017-08-10 04:00:00+00:00  109.85  109.6700  109.78  2004163       12437   \n",
      "2017-08-11 04:00:00+00:00  109.94  109.6800  109.87  1913253       10113   \n",
      "\n",
      "                                                    \n",
      "                                 vwap daily_return  \n",
      "timestamp                                           \n",
      "2017-08-07 04:00:00+00:00  109.674876          NaN  \n",
      "2017-08-08 04:00:00+00:00  109.577636    -0.000912  \n",
      "2017-08-09 04:00:00+00:00  109.771749     0.000913  \n",
      "2017-08-10 04:00:00+00:00  109.776611     0.001003  \n",
      "2017-08-11 04:00:00+00:00  109.860974     0.000820  \n"
     ]
    }
   ],
   "source": [
    "# Configure the Monte Carlo simulation to forecast 30 years cumulative returns\n",
    "# The weights should be split 40% to AGG and 60% to SPY.\n",
    "# Run 500 samples.\n",
    "MC_60_40_weighted = MCSimulation(portfolio_data = prices_3_yr_df,\n",
    "                                 weights = [.60, .40],\n",
    "                                 num_simulation = 500,\n",
    "                                 num_trading_days = 252 * 30)\n",
    "\n",
    "# Review the simulation input data\n",
    "print(MC_60_40_weighted.portfolio_data.head())"
   ]
  },
  {
   "cell_type": "code",
   "execution_count": 31,
   "metadata": {},
   "outputs": [
    {
     "name": "stdout",
     "output_type": "stream",
     "text": [
      "Running Monte Carlo simulation number 0.\n",
      "Running Monte Carlo simulation number 10.\n",
      "Running Monte Carlo simulation number 20.\n",
      "Running Monte Carlo simulation number 30.\n",
      "Running Monte Carlo simulation number 40.\n",
      "Running Monte Carlo simulation number 50.\n",
      "Running Monte Carlo simulation number 60.\n",
      "Running Monte Carlo simulation number 70.\n",
      "Running Monte Carlo simulation number 80.\n",
      "Running Monte Carlo simulation number 90.\n",
      "Running Monte Carlo simulation number 100.\n"
     ]
    },
    {
     "name": "stderr",
     "output_type": "stream",
     "text": [
      "C:\\Users\\drew9\\Bootcamp\\UC Berkeley Extension Fintech\\Coursework\\Module 5\\Module 5 Challenge\\Repo\\Financial_Planner_API_Simulations\\MCForecastTools.py:117: PerformanceWarning: DataFrame is highly fragmented.  This is usually the result of calling `frame.insert` many times, which has poor performance.  Consider joining all columns at once using pd.concat(axis=1) instead.  To get a de-fragmented frame, use `newframe = frame.copy()`\n",
      "  portfolio_cumulative_returns[n] = (1 + sim_df.fillna(0)).cumprod()\n"
     ]
    },
    {
     "name": "stdout",
     "output_type": "stream",
     "text": [
      "Running Monte Carlo simulation number 110.\n",
      "Running Monte Carlo simulation number 120.\n",
      "Running Monte Carlo simulation number 130.\n",
      "Running Monte Carlo simulation number 140.\n",
      "Running Monte Carlo simulation number 150.\n",
      "Running Monte Carlo simulation number 160.\n",
      "Running Monte Carlo simulation number 170.\n",
      "Running Monte Carlo simulation number 180.\n",
      "Running Monte Carlo simulation number 190.\n",
      "Running Monte Carlo simulation number 200.\n",
      "Running Monte Carlo simulation number 210.\n",
      "Running Monte Carlo simulation number 220.\n",
      "Running Monte Carlo simulation number 230.\n",
      "Running Monte Carlo simulation number 240.\n",
      "Running Monte Carlo simulation number 250.\n",
      "Running Monte Carlo simulation number 260.\n",
      "Running Monte Carlo simulation number 270.\n",
      "Running Monte Carlo simulation number 280.\n",
      "Running Monte Carlo simulation number 290.\n",
      "Running Monte Carlo simulation number 300.\n",
      "Running Monte Carlo simulation number 310.\n",
      "Running Monte Carlo simulation number 320.\n",
      "Running Monte Carlo simulation number 330.\n",
      "Running Monte Carlo simulation number 340.\n",
      "Running Monte Carlo simulation number 350.\n",
      "Running Monte Carlo simulation number 360.\n",
      "Running Monte Carlo simulation number 370.\n",
      "Running Monte Carlo simulation number 380.\n",
      "Running Monte Carlo simulation number 390.\n",
      "Running Monte Carlo simulation number 400.\n",
      "Running Monte Carlo simulation number 410.\n",
      "Running Monte Carlo simulation number 420.\n",
      "Running Monte Carlo simulation number 430.\n",
      "Running Monte Carlo simulation number 440.\n",
      "Running Monte Carlo simulation number 450.\n",
      "Running Monte Carlo simulation number 460.\n",
      "Running Monte Carlo simulation number 470.\n",
      "Running Monte Carlo simulation number 480.\n",
      "Running Monte Carlo simulation number 490.\n"
     ]
    },
    {
     "data": {
      "text/html": [
       "<div>\n",
       "<style scoped>\n",
       "    .dataframe tbody tr th:only-of-type {\n",
       "        vertical-align: middle;\n",
       "    }\n",
       "\n",
       "    .dataframe tbody tr th {\n",
       "        vertical-align: top;\n",
       "    }\n",
       "\n",
       "    .dataframe thead th {\n",
       "        text-align: right;\n",
       "    }\n",
       "</style>\n",
       "<table border=\"1\" class=\"dataframe\">\n",
       "  <thead>\n",
       "    <tr style=\"text-align: right;\">\n",
       "      <th></th>\n",
       "      <th>0</th>\n",
       "      <th>1</th>\n",
       "      <th>2</th>\n",
       "      <th>3</th>\n",
       "      <th>4</th>\n",
       "      <th>5</th>\n",
       "      <th>6</th>\n",
       "      <th>7</th>\n",
       "      <th>8</th>\n",
       "      <th>9</th>\n",
       "      <th>...</th>\n",
       "      <th>490</th>\n",
       "      <th>491</th>\n",
       "      <th>492</th>\n",
       "      <th>493</th>\n",
       "      <th>494</th>\n",
       "      <th>495</th>\n",
       "      <th>496</th>\n",
       "      <th>497</th>\n",
       "      <th>498</th>\n",
       "      <th>499</th>\n",
       "    </tr>\n",
       "  </thead>\n",
       "  <tbody>\n",
       "    <tr>\n",
       "      <th>0</th>\n",
       "      <td>1.000000</td>\n",
       "      <td>1.000000</td>\n",
       "      <td>1.000000</td>\n",
       "      <td>1.000000</td>\n",
       "      <td>1.000000</td>\n",
       "      <td>1.000000</td>\n",
       "      <td>1.000000</td>\n",
       "      <td>1.000000</td>\n",
       "      <td>1.000000</td>\n",
       "      <td>1.000000</td>\n",
       "      <td>...</td>\n",
       "      <td>1.000000</td>\n",
       "      <td>1.000000</td>\n",
       "      <td>1.000000</td>\n",
       "      <td>1.000000</td>\n",
       "      <td>1.000000</td>\n",
       "      <td>1.000000</td>\n",
       "      <td>1.000000</td>\n",
       "      <td>1.000000</td>\n",
       "      <td>1.000000</td>\n",
       "      <td>1.000000</td>\n",
       "    </tr>\n",
       "    <tr>\n",
       "      <th>1</th>\n",
       "      <td>1.006529</td>\n",
       "      <td>1.008654</td>\n",
       "      <td>1.001025</td>\n",
       "      <td>1.005742</td>\n",
       "      <td>1.006777</td>\n",
       "      <td>1.004497</td>\n",
       "      <td>1.004336</td>\n",
       "      <td>1.000313</td>\n",
       "      <td>1.005074</td>\n",
       "      <td>0.997069</td>\n",
       "      <td>...</td>\n",
       "      <td>0.975715</td>\n",
       "      <td>1.010016</td>\n",
       "      <td>0.996329</td>\n",
       "      <td>1.008872</td>\n",
       "      <td>1.005234</td>\n",
       "      <td>1.009869</td>\n",
       "      <td>1.000092</td>\n",
       "      <td>0.989541</td>\n",
       "      <td>0.996440</td>\n",
       "      <td>0.990546</td>\n",
       "    </tr>\n",
       "    <tr>\n",
       "      <th>2</th>\n",
       "      <td>1.015000</td>\n",
       "      <td>1.007572</td>\n",
       "      <td>1.003681</td>\n",
       "      <td>1.016580</td>\n",
       "      <td>1.003443</td>\n",
       "      <td>0.993650</td>\n",
       "      <td>1.008155</td>\n",
       "      <td>1.005039</td>\n",
       "      <td>1.016557</td>\n",
       "      <td>0.994116</td>\n",
       "      <td>...</td>\n",
       "      <td>0.974891</td>\n",
       "      <td>1.004908</td>\n",
       "      <td>0.995145</td>\n",
       "      <td>1.015610</td>\n",
       "      <td>1.013732</td>\n",
       "      <td>1.013621</td>\n",
       "      <td>0.994389</td>\n",
       "      <td>0.995969</td>\n",
       "      <td>1.008484</td>\n",
       "      <td>0.987658</td>\n",
       "    </tr>\n",
       "    <tr>\n",
       "      <th>3</th>\n",
       "      <td>1.021016</td>\n",
       "      <td>1.020331</td>\n",
       "      <td>1.003290</td>\n",
       "      <td>1.015958</td>\n",
       "      <td>1.002013</td>\n",
       "      <td>0.992184</td>\n",
       "      <td>1.021340</td>\n",
       "      <td>1.012729</td>\n",
       "      <td>1.008524</td>\n",
       "      <td>1.000016</td>\n",
       "      <td>...</td>\n",
       "      <td>0.976012</td>\n",
       "      <td>1.013875</td>\n",
       "      <td>0.998937</td>\n",
       "      <td>1.018468</td>\n",
       "      <td>1.015039</td>\n",
       "      <td>1.008248</td>\n",
       "      <td>0.994004</td>\n",
       "      <td>1.000640</td>\n",
       "      <td>1.002732</td>\n",
       "      <td>0.992138</td>\n",
       "    </tr>\n",
       "    <tr>\n",
       "      <th>4</th>\n",
       "      <td>1.027601</td>\n",
       "      <td>1.012411</td>\n",
       "      <td>1.002508</td>\n",
       "      <td>1.019122</td>\n",
       "      <td>0.998919</td>\n",
       "      <td>0.991951</td>\n",
       "      <td>1.031327</td>\n",
       "      <td>1.012569</td>\n",
       "      <td>0.995354</td>\n",
       "      <td>1.013075</td>\n",
       "      <td>...</td>\n",
       "      <td>0.984850</td>\n",
       "      <td>1.013262</td>\n",
       "      <td>1.007009</td>\n",
       "      <td>1.027109</td>\n",
       "      <td>1.019179</td>\n",
       "      <td>1.010819</td>\n",
       "      <td>0.996718</td>\n",
       "      <td>1.005586</td>\n",
       "      <td>1.016509</td>\n",
       "      <td>1.000824</td>\n",
       "    </tr>\n",
       "    <tr>\n",
       "      <th>...</th>\n",
       "      <td>...</td>\n",
       "      <td>...</td>\n",
       "      <td>...</td>\n",
       "      <td>...</td>\n",
       "      <td>...</td>\n",
       "      <td>...</td>\n",
       "      <td>...</td>\n",
       "      <td>...</td>\n",
       "      <td>...</td>\n",
       "      <td>...</td>\n",
       "      <td>...</td>\n",
       "      <td>...</td>\n",
       "      <td>...</td>\n",
       "      <td>...</td>\n",
       "      <td>...</td>\n",
       "      <td>...</td>\n",
       "      <td>...</td>\n",
       "      <td>...</td>\n",
       "      <td>...</td>\n",
       "      <td>...</td>\n",
       "      <td>...</td>\n",
       "    </tr>\n",
       "    <tr>\n",
       "      <th>7556</th>\n",
       "      <td>27.295928</td>\n",
       "      <td>2.740548</td>\n",
       "      <td>42.940295</td>\n",
       "      <td>3.026694</td>\n",
       "      <td>7.533279</td>\n",
       "      <td>5.721297</td>\n",
       "      <td>11.982916</td>\n",
       "      <td>8.115890</td>\n",
       "      <td>14.748550</td>\n",
       "      <td>15.852401</td>\n",
       "      <td>...</td>\n",
       "      <td>8.438358</td>\n",
       "      <td>8.005551</td>\n",
       "      <td>4.436734</td>\n",
       "      <td>7.312625</td>\n",
       "      <td>14.757779</td>\n",
       "      <td>9.127261</td>\n",
       "      <td>13.207958</td>\n",
       "      <td>6.162414</td>\n",
       "      <td>6.679519</td>\n",
       "      <td>12.966471</td>\n",
       "    </tr>\n",
       "    <tr>\n",
       "      <th>7557</th>\n",
       "      <td>27.473687</td>\n",
       "      <td>2.770621</td>\n",
       "      <td>42.835575</td>\n",
       "      <td>3.050100</td>\n",
       "      <td>7.492143</td>\n",
       "      <td>5.808613</td>\n",
       "      <td>11.991601</td>\n",
       "      <td>8.128779</td>\n",
       "      <td>14.828184</td>\n",
       "      <td>15.933872</td>\n",
       "      <td>...</td>\n",
       "      <td>8.452405</td>\n",
       "      <td>7.903822</td>\n",
       "      <td>4.453233</td>\n",
       "      <td>7.455956</td>\n",
       "      <td>14.661584</td>\n",
       "      <td>9.079668</td>\n",
       "      <td>13.168355</td>\n",
       "      <td>6.189591</td>\n",
       "      <td>6.707639</td>\n",
       "      <td>12.859029</td>\n",
       "    </tr>\n",
       "    <tr>\n",
       "      <th>7558</th>\n",
       "      <td>27.258938</td>\n",
       "      <td>2.765192</td>\n",
       "      <td>42.624248</td>\n",
       "      <td>3.062579</td>\n",
       "      <td>7.589108</td>\n",
       "      <td>5.737563</td>\n",
       "      <td>11.936343</td>\n",
       "      <td>8.159144</td>\n",
       "      <td>14.688196</td>\n",
       "      <td>15.979897</td>\n",
       "      <td>...</td>\n",
       "      <td>8.402707</td>\n",
       "      <td>7.950811</td>\n",
       "      <td>4.435192</td>\n",
       "      <td>7.473343</td>\n",
       "      <td>14.723461</td>\n",
       "      <td>9.117241</td>\n",
       "      <td>13.259881</td>\n",
       "      <td>6.190910</td>\n",
       "      <td>6.664104</td>\n",
       "      <td>12.780983</td>\n",
       "    </tr>\n",
       "    <tr>\n",
       "      <th>7559</th>\n",
       "      <td>27.173182</td>\n",
       "      <td>2.778349</td>\n",
       "      <td>42.191264</td>\n",
       "      <td>3.037519</td>\n",
       "      <td>7.564024</td>\n",
       "      <td>5.723547</td>\n",
       "      <td>12.115344</td>\n",
       "      <td>8.100432</td>\n",
       "      <td>14.728653</td>\n",
       "      <td>15.991016</td>\n",
       "      <td>...</td>\n",
       "      <td>8.412581</td>\n",
       "      <td>8.014397</td>\n",
       "      <td>4.422142</td>\n",
       "      <td>7.584583</td>\n",
       "      <td>14.985049</td>\n",
       "      <td>9.108048</td>\n",
       "      <td>13.277458</td>\n",
       "      <td>6.281694</td>\n",
       "      <td>6.757886</td>\n",
       "      <td>12.792010</td>\n",
       "    </tr>\n",
       "    <tr>\n",
       "      <th>7560</th>\n",
       "      <td>27.133705</td>\n",
       "      <td>2.807168</td>\n",
       "      <td>42.599042</td>\n",
       "      <td>3.046910</td>\n",
       "      <td>7.637320</td>\n",
       "      <td>5.743325</td>\n",
       "      <td>12.229232</td>\n",
       "      <td>8.054226</td>\n",
       "      <td>14.823362</td>\n",
       "      <td>16.219424</td>\n",
       "      <td>...</td>\n",
       "      <td>8.260363</td>\n",
       "      <td>7.913513</td>\n",
       "      <td>4.391521</td>\n",
       "      <td>7.575620</td>\n",
       "      <td>15.032166</td>\n",
       "      <td>9.165265</td>\n",
       "      <td>13.364458</td>\n",
       "      <td>6.308164</td>\n",
       "      <td>6.660593</td>\n",
       "      <td>12.638625</td>\n",
       "    </tr>\n",
       "  </tbody>\n",
       "</table>\n",
       "<p>7561 rows × 500 columns</p>\n",
       "</div>"
      ],
      "text/plain": [
       "            0         1          2         3         4         5          6    \\\n",
       "0      1.000000  1.000000   1.000000  1.000000  1.000000  1.000000   1.000000   \n",
       "1      1.006529  1.008654   1.001025  1.005742  1.006777  1.004497   1.004336   \n",
       "2      1.015000  1.007572   1.003681  1.016580  1.003443  0.993650   1.008155   \n",
       "3      1.021016  1.020331   1.003290  1.015958  1.002013  0.992184   1.021340   \n",
       "4      1.027601  1.012411   1.002508  1.019122  0.998919  0.991951   1.031327   \n",
       "...         ...       ...        ...       ...       ...       ...        ...   \n",
       "7556  27.295928  2.740548  42.940295  3.026694  7.533279  5.721297  11.982916   \n",
       "7557  27.473687  2.770621  42.835575  3.050100  7.492143  5.808613  11.991601   \n",
       "7558  27.258938  2.765192  42.624248  3.062579  7.589108  5.737563  11.936343   \n",
       "7559  27.173182  2.778349  42.191264  3.037519  7.564024  5.723547  12.115344   \n",
       "7560  27.133705  2.807168  42.599042  3.046910  7.637320  5.743325  12.229232   \n",
       "\n",
       "           7          8          9    ...       490       491       492  \\\n",
       "0     1.000000   1.000000   1.000000  ...  1.000000  1.000000  1.000000   \n",
       "1     1.000313   1.005074   0.997069  ...  0.975715  1.010016  0.996329   \n",
       "2     1.005039   1.016557   0.994116  ...  0.974891  1.004908  0.995145   \n",
       "3     1.012729   1.008524   1.000016  ...  0.976012  1.013875  0.998937   \n",
       "4     1.012569   0.995354   1.013075  ...  0.984850  1.013262  1.007009   \n",
       "...        ...        ...        ...  ...       ...       ...       ...   \n",
       "7556  8.115890  14.748550  15.852401  ...  8.438358  8.005551  4.436734   \n",
       "7557  8.128779  14.828184  15.933872  ...  8.452405  7.903822  4.453233   \n",
       "7558  8.159144  14.688196  15.979897  ...  8.402707  7.950811  4.435192   \n",
       "7559  8.100432  14.728653  15.991016  ...  8.412581  8.014397  4.422142   \n",
       "7560  8.054226  14.823362  16.219424  ...  8.260363  7.913513  4.391521   \n",
       "\n",
       "           493        494       495        496       497       498        499  \n",
       "0     1.000000   1.000000  1.000000   1.000000  1.000000  1.000000   1.000000  \n",
       "1     1.008872   1.005234  1.009869   1.000092  0.989541  0.996440   0.990546  \n",
       "2     1.015610   1.013732  1.013621   0.994389  0.995969  1.008484   0.987658  \n",
       "3     1.018468   1.015039  1.008248   0.994004  1.000640  1.002732   0.992138  \n",
       "4     1.027109   1.019179  1.010819   0.996718  1.005586  1.016509   1.000824  \n",
       "...        ...        ...       ...        ...       ...       ...        ...  \n",
       "7556  7.312625  14.757779  9.127261  13.207958  6.162414  6.679519  12.966471  \n",
       "7557  7.455956  14.661584  9.079668  13.168355  6.189591  6.707639  12.859029  \n",
       "7558  7.473343  14.723461  9.117241  13.259881  6.190910  6.664104  12.780983  \n",
       "7559  7.584583  14.985049  9.108048  13.277458  6.281694  6.757886  12.792010  \n",
       "7560  7.575620  15.032166  9.165265  13.364458  6.308164  6.660593  12.638625  \n",
       "\n",
       "[7561 rows x 500 columns]"
      ]
     },
     "execution_count": 31,
     "metadata": {},
     "output_type": "execute_result"
    }
   ],
   "source": [
    "# Run the Monte Carlo simulation to forecast 30 years cumulative returns\n",
    "MC_60_40_weighted.calc_cumulative_return()"
   ]
  },
  {
   "cell_type": "code",
   "execution_count": 32,
   "metadata": {},
   "outputs": [
    {
     "data": {
      "image/png": "[encoded data removed]",
      "text/plain": [
       "<Figure size 432x288 with 1 Axes>"
      ]
     },
     "metadata": {
      "needs_background": "light"
     },
     "output_type": "display_data"
    }
   ],
   "source": [
    "# Visualize the 30-year Monte Carlo simulation by creating an\n",
    "# overlay line plot\n",
    "thirty_yr_line_plot = MC_60_40_weighted.plot_simulation()"
   ]
  },
  {
   "cell_type": "markdown",
   "metadata": {},
   "source": [
    "#### Step 3: Plot the probability distribution of the Monte Carlo simulation."
   ]
  },
  {
   "cell_type": "code",
   "execution_count": 33,
   "metadata": {},
   "outputs": [
    {
     "data": {
      "image/png": "[encoded data removed]",
      "text/plain": [
       "<Figure size 432x288 with 1 Axes>"
      ]
     },
     "metadata": {
      "needs_background": "light"
     },
     "output_type": "display_data"
    }
   ],
   "source": [
    "# Visualize the probability distribution of the 30-year Monte Carlo simulation \n",
    "# by plotting a histogram\n",
    "thirty_yr_hist_plot = MC_60_40_weighted.plot_distribution()"
   ]
  },
  {
   "cell_type": "markdown",
   "metadata": {},
   "source": [
    "#### Step 4: Generate the summary statistics for the Monte Carlo simulation."
   ]
  },
  {
   "cell_type": "code",
   "execution_count": 34,
   "metadata": {},
   "outputs": [
    {
     "name": "stdout",
     "output_type": "stream",
     "text": [
      "count           500.000000\n",
      "mean             13.766925\n",
      "std              12.234268\n",
      "min               0.534027\n",
      "25%               6.275473\n",
      "50%              10.294937\n",
      "75%              15.815362\n",
      "max              98.416557\n",
      "95% CI Lower      2.520958\n",
      "95% CI Upper     45.750362\n",
      "Name: 7560, dtype: float64\n"
     ]
    }
   ],
   "source": [
    "# Generate summary statistics from the 30-year Monte Carlo simulation results\n",
    "# Save the results as a variable\n",
    "thirty_yr_weighted_table = MC_60_40_weighted.summarize_cumulative_return()\n",
    "\n",
    "\n",
    "# Review the 30-year Monte Carlo summary statistics\n",
    "print(thirty_yr_weighted_table)"
   ]
  },
  {
   "cell_type": "markdown",
   "metadata": {},
   "source": [
    "### Analyze the Retirement Portfolio Forecasts\n",
    "\n",
    "Using the current value of only the stock and bond portion of the member's portfolio and the summary statistics that you generated from the Monte Carlo simulation, answer the following question in your Jupyter notebook:\n",
    "\n",
    "-  What are the lower and upper bounds for the expected value of the portfolio with a 95% confidence interval?\n"
   ]
  },
  {
   "cell_type": "code",
   "execution_count": 35,
   "metadata": {},
   "outputs": [
    {
     "name": "stdout",
     "output_type": "stream",
     "text": [
      "The current value of the SPY stock and AGG bond portion of the members portfolio is $60688.7.\n"
     ]
    }
   ],
   "source": [
    "# Print the current balance of the stock and bond portion of the members portfolio\n",
    "print(f\"The current value of the SPY stock and AGG bond portion of the members portfolio is ${round(total_stocks_bonds, 2)}.\")"
   ]
  },
  {
   "cell_type": "code",
   "execution_count": 36,
   "metadata": {},
   "outputs": [
    {
     "name": "stdout",
     "output_type": "stream",
     "text": [
      "There is a 95% chance that the SPY stock and AGG bond portion of the portfolio with a 60% weight in SPY and 40% weight in AGG over the next 30 years will end within in the range of $152993.64 and $2776530.0.\n"
     ]
    }
   ],
   "source": [
    "# Use the lower and upper `95%` confidence intervals to calculate the range of the possible outcomes for the current stock/bond portfolio\n",
    "ci_lower_thirty_cumulative_return = round(thirty_yr_weighted_table[8] * total_stocks_bonds, 2)\n",
    "ci_upper_thirty_cumulative_return = round(thirty_yr_weighted_table[9] * total_stocks_bonds, 2)\n",
    "\n",
    "# Print the result of your calculations\n",
    "print(f\"There is a 95% chance that the SPY stock and AGG bond portion of the portfolio\"\n",
    "      f\" with a 60% weight in SPY and 40% weight in AGG over the next 30 years will end within in the range of\"\n",
    "      f\" ${ci_lower_thirty_cumulative_return} and ${ci_upper_thirty_cumulative_return}.\")"
   ]
  },
  {
   "cell_type": "markdown",
   "metadata": {},
   "source": [
    "### Forecast Cumulative Returns in 10 Years\n",
    "\n",
    "The CTO of the credit union is impressed with your work on these planning tools but wonders if 30 years is a long time to wait until retirement. So, your next task is to adjust the retirement portfolio and run a new Monte Carlo simulation to find out if the changes will allow members to retire earlier.\n",
    "\n",
    "For this new Monte Carlo simulation, do the following: \n",
    "\n",
    "- Forecast the cumulative returns for 10 years from now. Because of the shortened investment horizon (30 years to 10 years), the portfolio needs to invest more heavily in the riskier asset&mdash;that is, stock&mdash;to help accumulate wealth for retirement. \n",
    "\n",
    "- Adjust the weights of the retirement portfolio so that the composition for the Monte Carlo simulation consists of 20% bonds and 80% stocks. \n",
    "\n",
    "- Run the simulation over 500 samples, and use the same data that the API call to Alpaca generated.\n",
    "\n",
    "- Based on the new Monte Carlo simulation, answer the following questions in your Jupyter notebook:\n",
    "\n",
    "    - Using the current value of only the stock and bond portion of the member's portfolio and the summary statistics that you generated from the new Monte Carlo simulation, what are the lower and upper bounds for the expected value of the portfolio (with the new weights) with a 95% confidence interval?\n",
    "\n",
    "    - Will weighting the portfolio more heavily toward stocks allow the credit union members to retire after only 10 years?\n"
   ]
  },
  {
   "cell_type": "code",
   "execution_count": 37,
   "metadata": {},
   "outputs": [
    {
     "name": "stdout",
     "output_type": "stream",
     "text": [
      "                              SPY                                     \\\n",
      "                             open    high     low   close     volume   \n",
      "timestamp                                                              \n",
      "2017-08-07 04:00:00+00:00  247.50  247.87  247.37  247.87   31995021   \n",
      "2017-08-08 04:00:00+00:00  247.49  248.91  246.83  247.26   61719353   \n",
      "2017-08-09 04:00:00+00:00  246.46  247.31  246.06  247.25   62632619   \n",
      "2017-08-10 04:00:00+00:00  246.30  246.44  243.70  243.76  120418270   \n",
      "2017-08-11 04:00:00+00:00  244.00  244.80  243.75  244.12   74869947   \n",
      "\n",
      "                                                                   AGG  \\\n",
      "                          trade_count        vwap daily_return    open   \n",
      "timestamp                                                                \n",
      "2017-08-07 04:00:00+00:00      100111  247.668698          NaN  109.69   \n",
      "2017-08-08 04:00:00+00:00      192921  247.739709    -0.002461  109.67   \n",
      "2017-08-09 04:00:00+00:00      223650  246.791421    -0.000040  109.87   \n",
      "2017-08-10 04:00:00+00:00      424321  245.027847    -0.014115  109.70   \n",
      "2017-08-11 04:00:00+00:00      278786  244.222867     0.001477  109.75   \n",
      "\n",
      "                                                                          \\\n",
      "                             high       low   close   volume trade_count   \n",
      "timestamp                                                                  \n",
      "2017-08-07 04:00:00+00:00  109.72  109.6066  109.67  2359826        7755   \n",
      "2017-08-08 04:00:00+00:00  109.69  109.5000  109.57  2570876       12663   \n",
      "2017-08-09 04:00:00+00:00  109.87  109.6600  109.67  2308932       11031   \n",
      "2017-08-10 04:00:00+00:00  109.85  109.6700  109.78  2004163       12437   \n",
      "2017-08-11 04:00:00+00:00  109.94  109.6800  109.87  1913253       10113   \n",
      "\n",
      "                                                    \n",
      "                                 vwap daily_return  \n",
      "timestamp                                           \n",
      "2017-08-07 04:00:00+00:00  109.674876          NaN  \n",
      "2017-08-08 04:00:00+00:00  109.577636    -0.000912  \n",
      "2017-08-09 04:00:00+00:00  109.771749     0.000913  \n",
      "2017-08-10 04:00:00+00:00  109.776611     0.001003  \n",
      "2017-08-11 04:00:00+00:00  109.860974     0.000820  \n"
     ]
    }
   ],
   "source": [
    "# Configure a Monte Carlo simulation to forecast 10 years cumulative returns\n",
    "# The weights should be split 20% to AGG and 80% to SPY.\n",
    "# Run 500 samples.\n",
    "MC_80_20_weighted = MCSimulation(portfolio_data = prices_3_yr_df,\n",
    "                                 weights = [.80, .20],\n",
    "                                 num_simulation = 500,\n",
    "                                 num_trading_days = 252 * 10)\n",
    "\n",
    "# Review the simulation input data\n",
    "print(MC_80_20_weighted.portfolio_data.head())"
   ]
  },
  {
   "cell_type": "code",
   "execution_count": 38,
   "metadata": {},
   "outputs": [
    {
     "name": "stdout",
     "output_type": "stream",
     "text": [
      "Running Monte Carlo simulation number 0.\n",
      "Running Monte Carlo simulation number 10.\n",
      "Running Monte Carlo simulation number 20.\n",
      "Running Monte Carlo simulation number 30.\n",
      "Running Monte Carlo simulation number 40.\n",
      "Running Monte Carlo simulation number 50.\n",
      "Running Monte Carlo simulation number 60.\n",
      "Running Monte Carlo simulation number 70.\n",
      "Running Monte Carlo simulation number 80.\n",
      "Running Monte Carlo simulation number 90.\n",
      "Running Monte Carlo simulation number 100.\n"
     ]
    },
    {
     "name": "stderr",
     "output_type": "stream",
     "text": [
      "C:\\Users\\drew9\\Bootcamp\\UC Berkeley Extension Fintech\\Coursework\\Module 5\\Module 5 Challenge\\Repo\\Financial_Planner_API_Simulations\\MCForecastTools.py:117: PerformanceWarning: DataFrame is highly fragmented.  This is usually the result of calling `frame.insert` many times, which has poor performance.  Consider joining all columns at once using pd.concat(axis=1) instead.  To get a de-fragmented frame, use `newframe = frame.copy()`\n",
      "  portfolio_cumulative_returns[n] = (1 + sim_df.fillna(0)).cumprod()\n"
     ]
    },
    {
     "name": "stdout",
     "output_type": "stream",
     "text": [
      "Running Monte Carlo simulation number 110.\n",
      "Running Monte Carlo simulation number 120.\n",
      "Running Monte Carlo simulation number 130.\n",
      "Running Monte Carlo simulation number 140.\n",
      "Running Monte Carlo simulation number 150.\n",
      "Running Monte Carlo simulation number 160.\n",
      "Running Monte Carlo simulation number 170.\n",
      "Running Monte Carlo simulation number 180.\n",
      "Running Monte Carlo simulation number 190.\n",
      "Running Monte Carlo simulation number 200.\n",
      "Running Monte Carlo simulation number 210.\n",
      "Running Monte Carlo simulation number 220.\n",
      "Running Monte Carlo simulation number 230.\n",
      "Running Monte Carlo simulation number 240.\n",
      "Running Monte Carlo simulation number 250.\n",
      "Running Monte Carlo simulation number 260.\n",
      "Running Monte Carlo simulation number 270.\n",
      "Running Monte Carlo simulation number 280.\n",
      "Running Monte Carlo simulation number 290.\n",
      "Running Monte Carlo simulation number 300.\n",
      "Running Monte Carlo simulation number 310.\n",
      "Running Monte Carlo simulation number 320.\n",
      "Running Monte Carlo simulation number 330.\n",
      "Running Monte Carlo simulation number 340.\n",
      "Running Monte Carlo simulation number 350.\n",
      "Running Monte Carlo simulation number 360.\n",
      "Running Monte Carlo simulation number 370.\n",
      "Running Monte Carlo simulation number 380.\n",
      "Running Monte Carlo simulation number 390.\n",
      "Running Monte Carlo simulation number 400.\n",
      "Running Monte Carlo simulation number 410.\n",
      "Running Monte Carlo simulation number 420.\n",
      "Running Monte Carlo simulation number 430.\n",
      "Running Monte Carlo simulation number 440.\n",
      "Running Monte Carlo simulation number 450.\n",
      "Running Monte Carlo simulation number 460.\n",
      "Running Monte Carlo simulation number 470.\n",
      "Running Monte Carlo simulation number 480.\n",
      "Running Monte Carlo simulation number 490.\n"
     ]
    },
    {
     "data": {
      "text/html": [
       "<div>\n",
       "<style scoped>\n",
       "    .dataframe tbody tr th:only-of-type {\n",
       "        vertical-align: middle;\n",
       "    }\n",
       "\n",
       "    .dataframe tbody tr th {\n",
       "        vertical-align: top;\n",
       "    }\n",
       "\n",
       "    .dataframe thead th {\n",
       "        text-align: right;\n",
       "    }\n",
       "</style>\n",
       "<table border=\"1\" class=\"dataframe\">\n",
       "  <thead>\n",
       "    <tr style=\"text-align: right;\">\n",
       "      <th></th>\n",
       "      <th>0</th>\n",
       "      <th>1</th>\n",
       "      <th>2</th>\n",
       "      <th>3</th>\n",
       "      <th>4</th>\n",
       "      <th>5</th>\n",
       "      <th>6</th>\n",
       "      <th>7</th>\n",
       "      <th>8</th>\n",
       "      <th>9</th>\n",
       "      <th>...</th>\n",
       "      <th>490</th>\n",
       "      <th>491</th>\n",
       "      <th>492</th>\n",
       "      <th>493</th>\n",
       "      <th>494</th>\n",
       "      <th>495</th>\n",
       "      <th>496</th>\n",
       "      <th>497</th>\n",
       "      <th>498</th>\n",
       "      <th>499</th>\n",
       "    </tr>\n",
       "  </thead>\n",
       "  <tbody>\n",
       "    <tr>\n",
       "      <th>0</th>\n",
       "      <td>1.000000</td>\n",
       "      <td>1.000000</td>\n",
       "      <td>1.000000</td>\n",
       "      <td>1.000000</td>\n",
       "      <td>1.000000</td>\n",
       "      <td>1.000000</td>\n",
       "      <td>1.000000</td>\n",
       "      <td>1.000000</td>\n",
       "      <td>1.000000</td>\n",
       "      <td>1.000000</td>\n",
       "      <td>...</td>\n",
       "      <td>1.000000</td>\n",
       "      <td>1.000000</td>\n",
       "      <td>1.000000</td>\n",
       "      <td>1.000000</td>\n",
       "      <td>1.000000</td>\n",
       "      <td>1.000000</td>\n",
       "      <td>1.000000</td>\n",
       "      <td>1.000000</td>\n",
       "      <td>1.000000</td>\n",
       "      <td>1.000000</td>\n",
       "    </tr>\n",
       "    <tr>\n",
       "      <th>1</th>\n",
       "      <td>1.010246</td>\n",
       "      <td>0.990397</td>\n",
       "      <td>1.008175</td>\n",
       "      <td>0.983721</td>\n",
       "      <td>0.995589</td>\n",
       "      <td>0.992232</td>\n",
       "      <td>1.012418</td>\n",
       "      <td>1.010895</td>\n",
       "      <td>1.004730</td>\n",
       "      <td>0.995197</td>\n",
       "      <td>...</td>\n",
       "      <td>0.998083</td>\n",
       "      <td>1.001665</td>\n",
       "      <td>0.989875</td>\n",
       "      <td>0.989693</td>\n",
       "      <td>1.005317</td>\n",
       "      <td>0.994642</td>\n",
       "      <td>1.000822</td>\n",
       "      <td>0.999247</td>\n",
       "      <td>1.000218</td>\n",
       "      <td>0.987899</td>\n",
       "    </tr>\n",
       "    <tr>\n",
       "      <th>2</th>\n",
       "      <td>1.031858</td>\n",
       "      <td>0.992290</td>\n",
       "      <td>1.003537</td>\n",
       "      <td>0.992618</td>\n",
       "      <td>1.001813</td>\n",
       "      <td>1.000402</td>\n",
       "      <td>1.030171</td>\n",
       "      <td>1.011798</td>\n",
       "      <td>1.005217</td>\n",
       "      <td>1.008170</td>\n",
       "      <td>...</td>\n",
       "      <td>0.981801</td>\n",
       "      <td>1.000788</td>\n",
       "      <td>1.006727</td>\n",
       "      <td>0.981484</td>\n",
       "      <td>1.015645</td>\n",
       "      <td>0.978898</td>\n",
       "      <td>0.995524</td>\n",
       "      <td>0.990898</td>\n",
       "      <td>0.979978</td>\n",
       "      <td>0.973393</td>\n",
       "    </tr>\n",
       "    <tr>\n",
       "      <th>3</th>\n",
       "      <td>1.052840</td>\n",
       "      <td>1.001543</td>\n",
       "      <td>1.007110</td>\n",
       "      <td>0.998413</td>\n",
       "      <td>1.005906</td>\n",
       "      <td>0.991261</td>\n",
       "      <td>1.007486</td>\n",
       "      <td>1.018897</td>\n",
       "      <td>1.011593</td>\n",
       "      <td>1.013948</td>\n",
       "      <td>...</td>\n",
       "      <td>0.982358</td>\n",
       "      <td>0.998658</td>\n",
       "      <td>1.004399</td>\n",
       "      <td>0.989733</td>\n",
       "      <td>1.018493</td>\n",
       "      <td>0.988459</td>\n",
       "      <td>0.989470</td>\n",
       "      <td>0.975804</td>\n",
       "      <td>0.958026</td>\n",
       "      <td>0.975991</td>\n",
       "    </tr>\n",
       "    <tr>\n",
       "      <th>4</th>\n",
       "      <td>1.050614</td>\n",
       "      <td>1.013448</td>\n",
       "      <td>1.002440</td>\n",
       "      <td>0.995199</td>\n",
       "      <td>1.011941</td>\n",
       "      <td>0.985782</td>\n",
       "      <td>1.005558</td>\n",
       "      <td>1.011849</td>\n",
       "      <td>1.016866</td>\n",
       "      <td>1.003630</td>\n",
       "      <td>...</td>\n",
       "      <td>0.996547</td>\n",
       "      <td>0.985328</td>\n",
       "      <td>1.022497</td>\n",
       "      <td>0.991120</td>\n",
       "      <td>1.048689</td>\n",
       "      <td>0.997414</td>\n",
       "      <td>0.994612</td>\n",
       "      <td>0.981230</td>\n",
       "      <td>0.945076</td>\n",
       "      <td>0.979801</td>\n",
       "    </tr>\n",
       "    <tr>\n",
       "      <th>...</th>\n",
       "      <td>...</td>\n",
       "      <td>...</td>\n",
       "      <td>...</td>\n",
       "      <td>...</td>\n",
       "      <td>...</td>\n",
       "      <td>...</td>\n",
       "      <td>...</td>\n",
       "      <td>...</td>\n",
       "      <td>...</td>\n",
       "      <td>...</td>\n",
       "      <td>...</td>\n",
       "      <td>...</td>\n",
       "      <td>...</td>\n",
       "      <td>...</td>\n",
       "      <td>...</td>\n",
       "      <td>...</td>\n",
       "      <td>...</td>\n",
       "      <td>...</td>\n",
       "      <td>...</td>\n",
       "      <td>...</td>\n",
       "      <td>...</td>\n",
       "    </tr>\n",
       "    <tr>\n",
       "      <th>2516</th>\n",
       "      <td>1.947989</td>\n",
       "      <td>1.963089</td>\n",
       "      <td>2.208252</td>\n",
       "      <td>1.353921</td>\n",
       "      <td>2.130700</td>\n",
       "      <td>1.176800</td>\n",
       "      <td>2.192570</td>\n",
       "      <td>2.159004</td>\n",
       "      <td>1.822632</td>\n",
       "      <td>3.184834</td>\n",
       "      <td>...</td>\n",
       "      <td>2.804212</td>\n",
       "      <td>4.925215</td>\n",
       "      <td>2.836642</td>\n",
       "      <td>3.370660</td>\n",
       "      <td>2.737075</td>\n",
       "      <td>1.545473</td>\n",
       "      <td>2.191899</td>\n",
       "      <td>1.709121</td>\n",
       "      <td>0.776571</td>\n",
       "      <td>4.659961</td>\n",
       "    </tr>\n",
       "    <tr>\n",
       "      <th>2517</th>\n",
       "      <td>1.927350</td>\n",
       "      <td>1.953744</td>\n",
       "      <td>2.226497</td>\n",
       "      <td>1.348643</td>\n",
       "      <td>2.150019</td>\n",
       "      <td>1.170847</td>\n",
       "      <td>2.139186</td>\n",
       "      <td>2.141412</td>\n",
       "      <td>1.866135</td>\n",
       "      <td>3.214280</td>\n",
       "      <td>...</td>\n",
       "      <td>2.830306</td>\n",
       "      <td>4.854027</td>\n",
       "      <td>2.864965</td>\n",
       "      <td>3.384041</td>\n",
       "      <td>2.755356</td>\n",
       "      <td>1.543416</td>\n",
       "      <td>2.222732</td>\n",
       "      <td>1.692757</td>\n",
       "      <td>0.794180</td>\n",
       "      <td>4.716095</td>\n",
       "    </tr>\n",
       "    <tr>\n",
       "      <th>2518</th>\n",
       "      <td>1.923253</td>\n",
       "      <td>1.963131</td>\n",
       "      <td>2.230474</td>\n",
       "      <td>1.361454</td>\n",
       "      <td>2.142456</td>\n",
       "      <td>1.165295</td>\n",
       "      <td>2.126271</td>\n",
       "      <td>2.123239</td>\n",
       "      <td>1.868981</td>\n",
       "      <td>3.261542</td>\n",
       "      <td>...</td>\n",
       "      <td>2.851119</td>\n",
       "      <td>4.896186</td>\n",
       "      <td>2.834317</td>\n",
       "      <td>3.406933</td>\n",
       "      <td>2.724096</td>\n",
       "      <td>1.555508</td>\n",
       "      <td>2.275705</td>\n",
       "      <td>1.685642</td>\n",
       "      <td>0.811970</td>\n",
       "      <td>4.682210</td>\n",
       "    </tr>\n",
       "    <tr>\n",
       "      <th>2519</th>\n",
       "      <td>1.905951</td>\n",
       "      <td>1.930579</td>\n",
       "      <td>2.238191</td>\n",
       "      <td>1.363436</td>\n",
       "      <td>2.126637</td>\n",
       "      <td>1.177379</td>\n",
       "      <td>2.139296</td>\n",
       "      <td>2.119370</td>\n",
       "      <td>1.847537</td>\n",
       "      <td>3.283016</td>\n",
       "      <td>...</td>\n",
       "      <td>2.851181</td>\n",
       "      <td>4.939239</td>\n",
       "      <td>2.859436</td>\n",
       "      <td>3.421100</td>\n",
       "      <td>2.704480</td>\n",
       "      <td>1.575200</td>\n",
       "      <td>2.308412</td>\n",
       "      <td>1.651322</td>\n",
       "      <td>0.813795</td>\n",
       "      <td>4.675995</td>\n",
       "    </tr>\n",
       "    <tr>\n",
       "      <th>2520</th>\n",
       "      <td>1.916418</td>\n",
       "      <td>1.923328</td>\n",
       "      <td>2.304015</td>\n",
       "      <td>1.368874</td>\n",
       "      <td>2.142315</td>\n",
       "      <td>1.180346</td>\n",
       "      <td>2.129518</td>\n",
       "      <td>2.134898</td>\n",
       "      <td>1.904455</td>\n",
       "      <td>3.300925</td>\n",
       "      <td>...</td>\n",
       "      <td>2.842554</td>\n",
       "      <td>4.929216</td>\n",
       "      <td>2.885520</td>\n",
       "      <td>3.374966</td>\n",
       "      <td>2.755178</td>\n",
       "      <td>1.571583</td>\n",
       "      <td>2.329927</td>\n",
       "      <td>1.660414</td>\n",
       "      <td>0.816254</td>\n",
       "      <td>4.710300</td>\n",
       "    </tr>\n",
       "  </tbody>\n",
       "</table>\n",
       "<p>2521 rows × 500 columns</p>\n",
       "</div>"
      ],
      "text/plain": [
       "           0         1         2         3         4         5         6    \\\n",
       "0     1.000000  1.000000  1.000000  1.000000  1.000000  1.000000  1.000000   \n",
       "1     1.010246  0.990397  1.008175  0.983721  0.995589  0.992232  1.012418   \n",
       "2     1.031858  0.992290  1.003537  0.992618  1.001813  1.000402  1.030171   \n",
       "3     1.052840  1.001543  1.007110  0.998413  1.005906  0.991261  1.007486   \n",
       "4     1.050614  1.013448  1.002440  0.995199  1.011941  0.985782  1.005558   \n",
       "...        ...       ...       ...       ...       ...       ...       ...   \n",
       "2516  1.947989  1.963089  2.208252  1.353921  2.130700  1.176800  2.192570   \n",
       "2517  1.927350  1.953744  2.226497  1.348643  2.150019  1.170847  2.139186   \n",
       "2518  1.923253  1.963131  2.230474  1.361454  2.142456  1.165295  2.126271   \n",
       "2519  1.905951  1.930579  2.238191  1.363436  2.126637  1.177379  2.139296   \n",
       "2520  1.916418  1.923328  2.304015  1.368874  2.142315  1.180346  2.129518   \n",
       "\n",
       "           7         8         9    ...       490       491       492  \\\n",
       "0     1.000000  1.000000  1.000000  ...  1.000000  1.000000  1.000000   \n",
       "1     1.010895  1.004730  0.995197  ...  0.998083  1.001665  0.989875   \n",
       "2     1.011798  1.005217  1.008170  ...  0.981801  1.000788  1.006727   \n",
       "3     1.018897  1.011593  1.013948  ...  0.982358  0.998658  1.004399   \n",
       "4     1.011849  1.016866  1.003630  ...  0.996547  0.985328  1.022497   \n",
       "...        ...       ...       ...  ...       ...       ...       ...   \n",
       "2516  2.159004  1.822632  3.184834  ...  2.804212  4.925215  2.836642   \n",
       "2517  2.141412  1.866135  3.214280  ...  2.830306  4.854027  2.864965   \n",
       "2518  2.123239  1.868981  3.261542  ...  2.851119  4.896186  2.834317   \n",
       "2519  2.119370  1.847537  3.283016  ...  2.851181  4.939239  2.859436   \n",
       "2520  2.134898  1.904455  3.300925  ...  2.842554  4.929216  2.885520   \n",
       "\n",
       "           493       494       495       496       497       498       499  \n",
       "0     1.000000  1.000000  1.000000  1.000000  1.000000  1.000000  1.000000  \n",
       "1     0.989693  1.005317  0.994642  1.000822  0.999247  1.000218  0.987899  \n",
       "2     0.981484  1.015645  0.978898  0.995524  0.990898  0.979978  0.973393  \n",
       "3     0.989733  1.018493  0.988459  0.989470  0.975804  0.958026  0.975991  \n",
       "4     0.991120  1.048689  0.997414  0.994612  0.981230  0.945076  0.979801  \n",
       "...        ...       ...       ...       ...       ...       ...       ...  \n",
       "2516  3.370660  2.737075  1.545473  2.191899  1.709121  0.776571  4.659961  \n",
       "2517  3.384041  2.755356  1.543416  2.222732  1.692757  0.794180  4.716095  \n",
       "2518  3.406933  2.724096  1.555508  2.275705  1.685642  0.811970  4.682210  \n",
       "2519  3.421100  2.704480  1.575200  2.308412  1.651322  0.813795  4.675995  \n",
       "2520  3.374966  2.755178  1.571583  2.329927  1.660414  0.816254  4.710300  \n",
       "\n",
       "[2521 rows x 500 columns]"
      ]
     },
     "execution_count": 38,
     "metadata": {},
     "output_type": "execute_result"
    }
   ],
   "source": [
    "# Run the Monte Carlo simulation to forecast 10 years cumulative returns\n",
    "MC_80_20_weighted.calc_cumulative_return()"
   ]
  },
  {
   "cell_type": "code",
   "execution_count": 39,
   "metadata": {},
   "outputs": [
    {
     "data": {
      "image/png": "[encoded data removed]",
      "text/plain": [
       "<Figure size 432x288 with 1 Axes>"
      ]
     },
     "metadata": {
      "needs_background": "light"
     },
     "output_type": "display_data"
    }
   ],
   "source": [
    "# Visualize the 10-year Monte Carlo simulation by creating an\n",
    "# overlay line plot\n",
    "ten_yr_line_plot = MC_80_20_weighted.plot_simulation()"
   ]
  },
  {
   "cell_type": "code",
   "execution_count": 40,
   "metadata": {},
   "outputs": [
    {
     "data": {
      "image/png": "[encoded data removed]",
      "text/plain": [
       "<Figure size 432x288 with 1 Axes>"
      ]
     },
     "metadata": {
      "needs_background": "light"
     },
     "output_type": "display_data"
    }
   ],
   "source": [
    "# Visualize the probability distribution of the 10-year Monte Carlo simulation \n",
    "# by plotting a histogram\n",
    "ten_yr_hist_plot = MC_80_20_weighted.plot_distribution()"
   ]
  },
  {
   "cell_type": "code",
   "execution_count": 41,
   "metadata": {},
   "outputs": [
    {
     "name": "stdout",
     "output_type": "stream",
     "text": [
      "count           500.000000\n",
      "mean              2.873588\n",
      "std               1.760038\n",
      "min               0.426247\n",
      "25%               1.711150\n",
      "50%               2.401437\n",
      "75%               3.603996\n",
      "max              12.719457\n",
      "95% CI Lower      0.830378\n",
      "95% CI Upper      7.708937\n",
      "Name: 2520, dtype: float64\n"
     ]
    }
   ],
   "source": [
    "# Generate summary statistics from the 10-year Monte Carlo simulation results\n",
    "# Save the results as a variable\n",
    "ten_yr_weighted_table = MC_80_20_weighted.summarize_cumulative_return()\n",
    "\n",
    "\n",
    "# Review the 10-year Monte Carlo summary statistics\n",
    "print(ten_yr_weighted_table)"
   ]
  },
  {
   "cell_type": "markdown",
   "metadata": {},
   "source": [
    "### Answer the following questions:"
   ]
  },
  {
   "cell_type": "markdown",
   "metadata": {},
   "source": [
    "#### Question: Using the current value of only the stock and bond portion of the member's portfolio and the summary statistics that you generated from the new Monte Carlo simulation, what are the lower and upper bounds for the expected value of the portfolio (with the new weights) with a 95% confidence interval?"
   ]
  },
  {
   "cell_type": "code",
   "execution_count": 42,
   "metadata": {},
   "outputs": [
    {
     "name": "stdout",
     "output_type": "stream",
     "text": [
      "The current value of the SPY stock and AGG bond portion of the members portfolio is $60688.7.\n"
     ]
    }
   ],
   "source": [
    "# Print the current balance of the stock and bond portion of the members portfolio\n",
    "print(f\"The current value of the SPY stock and AGG bond portion of the members portfolio is ${round(total_stocks_bonds, 2)}.\")"
   ]
  },
  {
   "cell_type": "code",
   "execution_count": 43,
   "metadata": {},
   "outputs": [
    {
     "name": "stdout",
     "output_type": "stream",
     "text": [
      "There is a 95% chance that the SPY stock and AGG bond portion of the portfolio with a 80% weight in SPY and 20% weight in AGG over the next 30 years will end within in the range of $50394.58 and $467845.36.\n"
     ]
    }
   ],
   "source": [
    "# Use the lower and upper `95%` confidence intervals to calculate the range of the possible outcomes for the current stock/bond portfolio\n",
    "ci_lower_ten_cumulative_return = round(ten_yr_weighted_table[8] * total_stocks_bonds, 2)\n",
    "ci_upper_ten_cumulative_return = round(ten_yr_weighted_table[9] * total_stocks_bonds, 2)\n",
    "\n",
    "# Print the result of your calculations\n",
    "print(f\"There is a 95% chance that the SPY stock and AGG bond portion of the portfolio\"\n",
    "      f\" with a 80% weight in SPY and 20% weight in AGG over the next 30 years will end within in the range of\"\n",
    "      f\" ${ci_lower_ten_cumulative_return} and ${ci_upper_ten_cumulative_return}.\")"
   ]
  },
  {
   "cell_type": "markdown",
   "metadata": {},
   "source": [
    "#### Question: Will weighting the portfolio more heavily to stocks allow the credit union members to retire after only 10 years?"
   ]
  },
  {
   "cell_type": "raw",
   "metadata": {},
   "source": [
    "**Answer** No the weighting of 80% stocks to 20% bonds only has an upper return of less than 1/2 a million dollars.  Thus, this wouldn't be enough for the credit union members to retire with after only 10 years."
   ]
  }
 ],
 "metadata": {
  "kernelspec": {
   "display_name": "Python 3 (ipykernel)",
   "language": "python",
   "name": "python3"
  },
  "language_info": {
   "codemirror_mode": {
    "name": "ipython",
    "version": 3
   },
   "file_extension": ".py",
   "mimetype": "text/x-python",
   "name": "python",
   "nbconvert_exporter": "python",
   "pygments_lexer": "ipython3",
   "version": "3.7.13"
  }
 },
 "nbformat": 4,
 "nbformat_minor": 4
}
